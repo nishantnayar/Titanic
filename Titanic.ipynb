{
 "cells": [
  {
   "cell_type": "markdown",
   "id": "339952f0",
   "metadata": {},
   "source": [
    "# Introduction"
   ]
  },
  {
   "cell_type": "markdown",
   "id": "6b2c85da",
   "metadata": {},
   "source": [
    "Author: Nishant Nayar"
   ]
  },
  {
   "cell_type": "markdown",
   "id": "322f7a90",
   "metadata": {},
   "source": [
    "# RMS Titanic"
   ]
  },
  {
   "cell_type": "markdown",
   "id": "c9dd51c7",
   "metadata": {},
   "source": [
    "***RMS Titanic*** was a British passenger liner, operated by the White Star Line, which sank in the North Atlantic Ocean on 15 April 1912 after striking an iceberg during her maiden voyage from Southampton, UK, to New York City. Of the estimated 2,224 passengers and crew aboard, more than 1,500 died, which made the sinking possibly one of the deadliest for a single ship up to that time.It remains to this day the deadliest peacetime sinking of a superliner or cruise ship. The disaster drew much public attention, provided foundational material for the disaster film genre, and has inspired many artistic works."
   ]
  },
  {
   "cell_type": "markdown",
   "id": "916b9528",
   "metadata": {},
   "source": [
    "## Background"
   ]
  },
  {
   "cell_type": "markdown",
   "id": "670b86c5",
   "metadata": {},
   "source": [
    "Titanic example is the first project that every data enthusiast starts with. There are many articles and topics that talk about the underlying statistics and data science concepts. This is an effort to make this project understandable for all those who are not versed in statistics and concepts of data science. The emphasis here is to make the machine learning models explainable to all."
   ]
  },
  {
   "cell_type": "markdown",
   "id": "bc9b6c57",
   "metadata": {},
   "source": [
    "# Loading Libraries"
   ]
  },
  {
   "cell_type": "code",
   "execution_count": 22,
   "id": "51ab829d",
   "metadata": {},
   "outputs": [],
   "source": [
    "# linear algebra\n",
    "import numpy as np\n",
    "\n",
    "# data processing\n",
    "import pandas as pd\n",
    "import re\n",
    "\n",
    "# fancy tables\n",
    "import qgrid\n",
    "from termcolor import colored\n",
    "import dataframe_image as dfi\n",
    "\n",
    "# data visualization\n",
    "import seaborn as sns\n",
    "\n",
    "# suppressing pesky warnings\n",
    "import warnings\n",
    "warnings.filterwarnings(\"ignore\")\n",
    "warnings.simplefilter(action='ignore', category=FutureWarning)\n",
    "warnings.simplefilter(action='ignore', category=Warning)\n",
    "\n",
    "%matplotlib inline\n",
    "from matplotlib import pyplot as plt\n",
    "from matplotlib import style\n",
    "\n",
    "# Algorithms\n",
    "from sklearn import linear_model\n",
    "from sklearn.linear_model import LogisticRegression\n",
    "from sklearn.ensemble import RandomForestClassifier\n",
    "from sklearn.linear_model import Perceptron\n",
    "from sklearn.linear_model import SGDClassifier\n",
    "from sklearn.tree import DecisionTreeClassifier\n",
    "from sklearn.neighbors import KNeighborsClassifier\n",
    "from sklearn.svm import SVC, LinearSVC\n",
    "from sklearn.naive_bayes import GaussianNB\n",
    "from sklearn.model_selection import cross_val_score\n",
    "from sklearn import datasets\n",
    "from sklearn import model_selection\n",
    "\n",
    "import optuna\n",
    "from sklearn import ensemble\n",
    "from sklearn import datasets\n",
    "from sklearn import model_selection"
   ]
  },
  {
   "cell_type": "code",
   "execution_count": 23,
   "id": "a2375ca4",
   "metadata": {},
   "outputs": [],
   "source": [
    "pd.set_option(\"display.max_rows\", 500)\n",
    "pd.set_option(\"display.max_columns\", 500)\n",
    "pd.set_option(\"display.width\", 1000)\n",
    "\n",
    "#Setting colors\n",
    "enmax_palette = [\"#FFD966\", \"#434343\" , \"#fff2cc\", '#fafafa', '#E63A00', '#FF8D67', '#1AFF54', '#B3FFC6', '#A6A6A6']\n",
    "color_codes_wanted = ['cream', 'black', 'lightcream', 'lightblue', 'red', 'lightred', 'green', 'lightgreen', 'grey']\n",
    "\n",
    "c = lambda x: enmax_palette[color_codes_wanted.index(x)]"
   ]
  },
  {
   "cell_type": "markdown",
   "id": "c23a9288",
   "metadata": {},
   "source": [
    "# Exploratory Data Analysis"
   ]
  },
  {
   "cell_type": "markdown",
   "id": "b7f57c88",
   "metadata": {},
   "source": [
    "## Loading Data"
   ]
  },
  {
   "cell_type": "markdown",
   "id": "17a9578e",
   "metadata": {},
   "source": [
    "We will be first loading the data from Kaggle competiton website. "
   ]
  },
  {
   "cell_type": "code",
   "execution_count": 24,
   "id": "197a4f97",
   "metadata": {},
   "outputs": [],
   "source": [
    "test_df = pd.read_csv(\"test.csv\")\n",
    "train_df = pd.read_csv(\"train.csv\")"
   ]
  },
  {
   "cell_type": "code",
   "execution_count": 25,
   "id": "a4f4918f",
   "metadata": {},
   "outputs": [
    {
     "name": "stdout",
     "output_type": "stream",
     "text": [
      "\u001b[1m\u001b[31mThe train to test ratio is 68:32\u001b[0m\n"
     ]
    }
   ],
   "source": [
    "train = int(round(len(train_df) / (len(train_df) + len(test_df)), 2) * 100)\n",
    "test = int(round(len(test_df) / (len(train_df) + len(test_df)), 2) * 100)\n",
    "print (colored((\"The train to test ratio is {0}:{1}\".format(train, test)), 'red', attrs=['bold']))"
   ]
  },
  {
   "cell_type": "markdown",
   "id": "c9781a14",
   "metadata": {},
   "source": [
    "## Data Elements"
   ]
  },
  {
   "cell_type": "markdown",
   "id": "2b34806d",
   "metadata": {},
   "source": [
    "### Age and Sex"
   ]
  },
  {
   "cell_type": "raw",
   "id": "f2d3cf24",
   "metadata": {},
   "source": [
    "survived = 'survived'\n",
    "not_survived = 'not survived'\n",
    "fig, axes = plt.subplots(nrows=1, ncols=2,figsize=(10, 4))\n",
    "women = train_df[train_df['Sex']=='female']\n",
    "men = train_df[train_df['Sex']=='male']\n",
    "ax = sns.distplot(women[women['Survived']==1].Age.dropna(), bins=18, label = survived, ax = axes[0], kde =False)\n",
    "ax = sns.distplot(women[women['Survived']==0].Age.dropna(), bins=40, label = not_survived, ax = axes[0], kde =False)\n",
    "ax.legend()\n",
    "ax.set_title('Female')\n",
    "ax = sns.distplot(men[men['Survived']==1].Age.dropna(), bins=18, label = survived, ax = axes[1], kde = False)\n",
    "ax = sns.distplot(men[men['Survived']==0].Age.dropna(), bins=40, label = not_survived, ax = axes[1], kde = False)\n",
    "ax.legend()\n",
    "_ = ax.set_title('Male')"
   ]
  },
  {
   "cell_type": "code",
   "execution_count": 26,
   "id": "a0d7cea5",
   "metadata": {},
   "outputs": [
    {
     "data": {
      "image/png": "[encoded data removed]",
      "text/plain": [
       "<Figure size 864x432 with 2 Axes>"
      ]
     },
     "metadata": {
      "needs_background": "light"
     },
     "output_type": "display_data"
    }
   ],
   "source": [
    "fig, axes = plt.subplots(nrows=1, ncols=2,figsize=(12, 6), sharey=True)\n",
    "survived = 'survived'\n",
    "not_survived = 'not survived'\n",
    "women = train_df[train_df['Sex']=='female']\n",
    "ax=sns.distplot(women[women['Survived']==1].Age.dropna(), bins=18, \n",
    "                label = survived,\n",
    "                kde=False, color=c(\"lightgreen\"),  ax = axes[0])\n",
    "heights = [p.get_height() for p in ax.patches]\n",
    "highest = sorted(heights)[-5]\n",
    "for p in ax.patches:\n",
    "    if  p.get_height() >= highest:\n",
    "        p.set_color(\"green\")\n",
    "ax.spines['top'].set_visible(False)\n",
    "ax.spines['right'].set_visible(False)\n",
    "ax.spines['left'].set_visible(False)\n",
    "ax.spines['bottom'].set_visible(True)\n",
    "ax.set_yticks([])\n",
    "ax.annotate('Better survival chances!', xy=(23, 26), xytext=(40, 20), \n",
    "            fontsize=12, arrowprops={'width':0.4,'headwidth':7,'color':'#434343'})\n",
    "ax.set_title('Female - Survived',fontsize=15)\n",
    "ax=sns.distplot(women[women['Survived']==0].Age.dropna(), bins=40, label = not_survived,kde=False, \n",
    "                color=c(\"lightred\"), ax = axes[1])\n",
    "heights = [p.get_height() for p in ax.patches]\n",
    "highest = sorted(heights)[-5]\n",
    "for p in ax.patches:\n",
    "    if  p.get_height() >= highest:\n",
    "        p.set_color(\"red\")\n",
    "ax.spines['top'].set_visible(False)\n",
    "ax.spines['right'].set_visible(False)\n",
    "ax.spines['left'].set_visible(False)\n",
    "ax.spines['bottom'].set_visible(True)\n",
    "ax.set_yticks([])\n",
    "ax.annotate('Low survival chances!', xy=(20, 5), xytext=(30, 10), \n",
    "            fontsize=12, arrowprops={'width':0.4,'headwidth':7,'color':'#434343'})\n",
    "_ = ax.set_title('Female - Not Survived', fontsize=15)\n",
    "fig.savefig('./img/FemaleSurvival.png', transparent=True)"
   ]
  },
  {
   "cell_type": "code",
   "execution_count": 27,
   "id": "4faf2b24",
   "metadata": {},
   "outputs": [
    {
     "data": {
      "image/png": "[encoded data removed]",
      "text/plain": [
       "<Figure size 864x432 with 2 Axes>"
      ]
     },
     "metadata": {
      "needs_background": "light"
     },
     "output_type": "display_data"
    }
   ],
   "source": [
    "fig, axes = plt.subplots(nrows=1, ncols=2,figsize=(12, 6), sharey=True)\n",
    "survived = 'survived'\n",
    "not_survived = 'not survived'\n",
    "men = train_df[train_df['Sex']=='male']\n",
    "ax=sns.distplot(men[men['Survived']==1].Age.dropna(), bins=18, \n",
    "                label = survived,\n",
    "                kde=False, color=c(\"lightgreen\"),  ax = axes[0])\n",
    "heights = [p.get_height() for p in ax.patches]\n",
    "third_highest = sorted(heights)[-3]\n",
    "for p in ax.patches:\n",
    "    if  p.get_height() >= third_highest:\n",
    "        p.set_color(\"green\")\n",
    "ax.spines['top'].set_visible(False)\n",
    "ax.spines['right'].set_visible(False)\n",
    "ax.spines['left'].set_visible(False)\n",
    "ax.spines['bottom'].set_visible(True)\n",
    "ax.set_yticks([])\n",
    "ax.annotate('Better survival chances!', xy=(27, 15), xytext=(40, 20), \n",
    "            fontsize=12, \n",
    "            arrowprops={'width':0.4,'headwidth':7,'color':'#434343'})\n",
    "ax.set_title('Male - Survived', fontsize=15)\n",
    "ax=sns.distplot(men[men['Survived']==0].Age.dropna(), bins=40, \n",
    "                label = not_survived,\n",
    "                kde=False, \n",
    "                color=c(\"lightred\"), ax = axes[1])\n",
    "heights = [p.get_height() for p in ax.patches]\n",
    "third_highest = sorted(heights)[-5]\n",
    "for p in ax.patches:\n",
    "    if  p.get_height() >= third_highest:\n",
    "        p.set_color(\"red\")\n",
    "ax.spines['top'].set_visible(False)\n",
    "ax.spines['right'].set_visible(False)\n",
    "ax.spines['left'].set_visible(False)\n",
    "ax.spines['bottom'].set_visible(True)\n",
    "ax.set_yticks([])\n",
    "ax.annotate('Low survival chances!', xy=(18, 26), xytext=(40, 20), \n",
    "            fontsize=12, \n",
    "            arrowprops={'width':0.4,'headwidth':7,'color':'#434343'})\n",
    "_ = ax.set_title('Male - Not Survived', fontsize=15)\n",
    "fig.savefig('./img/MaleSurvival.png', transparent=True)"
   ]
  },
  {
   "cell_type": "markdown",
   "id": "22ea1c84",
   "metadata": {},
   "source": [
    "### Embarked"
   ]
  },
  {
   "cell_type": "code",
   "execution_count": 28,
   "id": "66240c71",
   "metadata": {},
   "outputs": [
    {
     "data": {
      "text/plain": [
       "<seaborn.axisgrid.FacetGrid at 0x218138f2850>"
      ]
     },
     "execution_count": 28,
     "metadata": {},
     "output_type": "execute_result"
    },
    {
     "data": {
      "image/png": "[encoded data removed]",
      "text/plain": [
       "<Figure size 588.9x972 with 3 Axes>"
      ]
     },
     "metadata": {
      "needs_background": "light"
     },
     "output_type": "display_data"
    }
   ],
   "source": [
    "FacetGrid = sns.FacetGrid(train_df, row='Embarked', size=4.5, aspect=1.6)\n",
    "FacetGrid.map(sns.pointplot, 'Pclass', 'Survived', 'Sex', palette=None,  order=None, hue_order=None )\n",
    "FacetGrid.add_legend()"
   ]
  },
  {
   "cell_type": "code",
   "execution_count": 45,
   "id": "85eafbab",
   "metadata": {},
   "outputs": [
    {
     "data": {
      "image/png": "[encoded data removed]",
      "text/plain": [
       "<Figure size 720x432 with 1 Axes>"
      ]
     },
     "metadata": {
      "needs_background": "light"
     },
     "output_type": "display_data"
    }
   ],
   "source": [
    "#palette = sns.color_palette(\"Blues\")\n",
    "#palette.reverse()\n",
    "colors = ['#D9D9D9', '#1AFF54', '#CDCDCD' ]\n",
    "sns.set_palette(sns.color_palette(colors))\n",
    "fig, axes = plt.subplots(figsize=(10, 6))\n",
    "ax=sns.barplot(x='Survived', \n",
    "            y='Sex', \n",
    "            hue = 'Embarked',\n",
    "            data=train_df,\n",
    "              ci=0)\n",
    "ax.spines['top'].set_visible(False)\n",
    "ax.spines['right'].set_visible(False)\n",
    "ax.spines['left'].set_visible(True)\n",
    "ax.spines['bottom'].set_visible(True)\n",
    "ax.annotate('Better survival chances!', xy=(0.8, 0.9), xytext=(0.5, 0.2), \n",
    "            fontsize=12, \n",
    "            arrowprops={'width':0.4,'headwidth':7,'color':'#E63A00'})\n",
    "ax.annotate('',xy=(0.3, -0.01), xytext=(0.6, 0.1), \n",
    "                        arrowprops={'width':0.4,'headwidth':7,'color':'#E63A00'})\n",
    "ax.set_title('Survival - Based on Sex and Port of Embarkation', fontsize=15)\n",
    "legend_labels, _= ax.get_legend_handles_labels()\n",
    "ax.legend(legend_labels, ['Southampton','Cherbourg','Queenstown'],title='Port of Embarkation')\n",
    "fig.savefig('./img/Embarkation.png', transparent=True)"
   ]
  },
  {
   "cell_type": "markdown",
   "id": "da2496ce",
   "metadata": {},
   "source": [
    "### Pclass"
   ]
  },
  {
   "cell_type": "code",
   "execution_count": 43,
   "id": "188d5747",
   "metadata": {},
   "outputs": [
    {
     "data": {
      "image/png": "[encoded data removed]",
      "text/plain": [
       "<Figure size 576x432 with 1 Axes>"
      ]
     },
     "metadata": {
      "needs_background": "light"
     },
     "output_type": "display_data"
    }
   ],
   "source": [
    "#palette = sns.color_palette(\"Blues\")\n",
    "#palette.reverse()\n",
    "colors = ['#1AFF54',  '#CDCDCD', '#D9D9D9']\n",
    "sns.set_palette(sns.color_palette(colors))\n",
    "fig, axes = plt.subplots(figsize=(8, 6))\n",
    "ax=sns.barplot(x='Survived', \n",
    "            y='Sex', \n",
    "            hue = 'Pclass',\n",
    "            data=train_df,\n",
    "              ci=0)\n",
    "ax.spines['top'].set_visible(False)\n",
    "ax.spines['right'].set_visible(False)\n",
    "ax.spines['left'].set_visible(True)\n",
    "ax.spines['bottom'].set_visible(True)\n",
    "ax.annotate('Better survival chances!', xy=(0.7, 0.7), xytext=(0.5, 0.2), \n",
    "            fontsize=12, \n",
    "            arrowprops={'width':0.4,'headwidth':7,'color':'#E63A00'})\n",
    "ax.annotate('',xy=(0.38, -0.2), xytext=(0.6, 0.1), \n",
    "                        arrowprops={'width':0.4,'headwidth':7,'color':'#E63A00'})\n",
    "ax.set_title('Survival - Based on Sex and Ticket Class', fontsize=15)\n",
    "legend_labels, _= ax.get_legend_handles_labels()\n",
    "ax.legend(legend_labels, ['1st','2nd','3rd'],title='Ticket Class')\n",
    "fig.savefig('./img/Sex-Ticket.png', transparent=True)"
   ]
  },
  {
   "cell_type": "code",
   "execution_count": 71,
   "id": "0af3ea7b",
   "metadata": {},
   "outputs": [
    {
     "data": {
      "image/png": "[encoded data removed]",
      "text/plain": [
       "<Figure size 261.44x475.2 with 3 Axes>"
      ]
     },
     "metadata": {
      "needs_background": "light"
     },
     "output_type": "display_data"
    }
   ],
   "source": [
    "grid = sns.FacetGrid(train_df[train_df['Survived']==1], col='Survived', row='Pclass', size=2.2, aspect=1.6)\n",
    "grid.map(plt.hist, 'Age', alpha=.5, bins=20, color=c(\"green\"))\n",
    "grid.add_legend();\n",
    "grid.fig.subplots_adjust(top=0.9)\n",
    "grid.fig.suptitle('Survived based on Ticket class')\n",
    "fig.savefig('./img/survivedfactegrid.png', transparent=True)"
   ]
  },
  {
   "cell_type": "code",
   "execution_count": 72,
   "id": "7f48d590",
   "metadata": {},
   "outputs": [
    {
     "data": {
      "image/png": "[encoded data removed]",
      "text/plain": [
       "<Figure size 261.44x475.2 with 3 Axes>"
      ]
     },
     "metadata": {
      "needs_background": "light"
     },
     "output_type": "display_data"
    }
   ],
   "source": [
    "grid = sns.FacetGrid(train_df[train_df['Survived']==0], col='Survived', row='Pclass', size=2.2, aspect=1.6)\n",
    "grid.map(plt.hist, 'Age', alpha=.5, bins=20, color=c(\"lightred\"))\n",
    "grid.add_legend();\n",
    "grid.fig.subplots_adjust(top=0.9)\n",
    "grid.fig.suptitle('Not survived based on Ticket class')\n",
    "fig.savefig('./img/notsurvivedfactegrid.png', transparent=True)"
   ]
  },
  {
   "cell_type": "markdown",
   "id": "28a44adf",
   "metadata": {},
   "source": [
    "### SibSp and Parch"
   ]
  },
  {
   "cell_type": "code",
   "execution_count": 32,
   "id": "c7185e9f",
   "metadata": {},
   "outputs": [
    {
     "data": {
      "text/plain": [
       "1    537\n",
       "0    354\n",
       "Name: not_alone, dtype: int64"
      ]
     },
     "execution_count": 32,
     "metadata": {},
     "output_type": "execute_result"
    }
   ],
   "source": [
    "data = [train_df, test_df]\n",
    "for dataset in data:\n",
    "    dataset['relatives'] = dataset['SibSp'] + dataset['Parch']\n",
    "    dataset.loc[dataset['relatives'] > 0, 'not_alone'] = 0\n",
    "    dataset.loc[dataset['relatives'] == 0, 'not_alone'] = 1\n",
    "    dataset['not_alone'] = dataset['not_alone'].astype(int)\n",
    "train_df['not_alone'].value_counts()"
   ]
  },
  {
   "cell_type": "code",
   "execution_count": 33,
   "id": "088c166f",
   "metadata": {},
   "outputs": [
    {
     "data": {
      "image/png": "[encoded data removed]",
      "text/plain": [
       "<Figure size 576x432 with 1 Axes>"
      ]
     },
     "metadata": {
      "needs_background": "light"
     },
     "output_type": "display_data"
    }
   ],
   "source": [
    "fig, axes = plt.subplots(figsize=(8, 6))\n",
    "ax = sns.pointplot('relatives','Survived', data=train_df, aspect = 2.5, ci=0, color=c(\"green\"))\n",
    "ax.annotate('With 3 relatives \\nthere are better chances of survival', \n",
    "            xy=(3, 0.72), \n",
    "            xytext=(5,0.5), \n",
    "            fontsize=12, \n",
    "            arrowprops={'width':0.4,'headwidth':7,'color':'#E63A00'})   \n",
    "ax.spines['top'].set_visible(False)\n",
    "ax.spines['right'].set_visible(False)\n",
    "ax.spines['left'].set_visible(True)\n",
    "ax.spines['bottom'].set_visible(True)\n",
    "ax.set_title('Survival - Based on number of relatives', fontsize=15)\n",
    "fig.savefig('./img/Relatives.png', transparent=True)"
   ]
  },
  {
   "cell_type": "markdown",
   "id": "0ba6cde5",
   "metadata": {},
   "source": [
    "## Data Preprocessing"
   ]
  },
  {
   "cell_type": "markdown",
   "id": "0b139e96",
   "metadata": {},
   "source": [
    "### Missing Data"
   ]
  },
  {
   "cell_type": "markdown",
   "id": "c608f5ce",
   "metadata": {},
   "source": [
    "### Train Data"
   ]
  },
  {
   "cell_type": "code",
   "execution_count": 78,
   "id": "2e52682c",
   "metadata": {},
   "outputs": [
    {
     "data": {
      "text/html": [
       "<style type=\"text/css\">\n",
       "#T_04555_row0_col0, #T_04555_row0_col1 {\n",
       "  width: 10em;\n",
       "  height: 80%;\n",
       "  background: linear-gradient(90deg,#E63A00 100.0%, transparent 100.0%);\n",
       "}\n",
       "#T_04555_row1_col0 {\n",
       "  width: 10em;\n",
       "  height: 80%;\n",
       "  background: linear-gradient(90deg,#E63A00 25.8%, transparent 25.8%);\n",
       "}\n",
       "#T_04555_row1_col1 {\n",
       "  width: 10em;\n",
       "  height: 80%;\n",
       "  background: linear-gradient(90deg,#E63A00 25.0%, transparent 25.0%);\n",
       "}\n",
       "#T_04555_row2_col0 {\n",
       "  width: 10em;\n",
       "  height: 80%;\n",
       "  background: linear-gradient(90deg,#E63A00 0.3%, transparent 0.3%);\n",
       "}\n",
       "#T_04555_row2_col1, #T_04555_row3_col0, #T_04555_row3_col1, #T_04555_row4_col0, #T_04555_row4_col1, #T_04555_row5_col0, #T_04555_row5_col1, #T_04555_row6_col0, #T_04555_row6_col1, #T_04555_row7_col0, #T_04555_row7_col1, #T_04555_row8_col0, #T_04555_row8_col1, #T_04555_row9_col0, #T_04555_row9_col1, #T_04555_row10_col0, #T_04555_row10_col1, #T_04555_row11_col0, #T_04555_row11_col1, #T_04555_row12_col0, #T_04555_row12_col1, #T_04555_row13_col0, #T_04555_row13_col1 {\n",
       "  width: 10em;\n",
       "  height: 80%;\n",
       "}\n",
       "</style>\n",
       "<table id=\"T_04555_\">\n",
       "  <thead>\n",
       "    <tr>\n",
       "      <th class=\"blank level0\" >&nbsp;</th>\n",
       "      <th class=\"col_heading level0 col0\" >Total</th>\n",
       "      <th class=\"col_heading level0 col1\" >Percentage</th>\n",
       "    </tr>\n",
       "  </thead>\n",
       "  <tbody>\n",
       "    <tr>\n",
       "      <th id=\"T_04555_level0_row0\" class=\"row_heading level0 row0\" >Cabin</th>\n",
       "      <td id=\"T_04555_row0_col0\" class=\"data row0 col0\" >687</td>\n",
       "      <td id=\"T_04555_row0_col1\" class=\"data row0 col1\" >80%</td>\n",
       "    </tr>\n",
       "    <tr>\n",
       "      <th id=\"T_04555_level0_row1\" class=\"row_heading level0 row1\" >Age</th>\n",
       "      <td id=\"T_04555_row1_col0\" class=\"data row1 col0\" >177</td>\n",
       "      <td id=\"T_04555_row1_col1\" class=\"data row1 col1\" >20%</td>\n",
       "    </tr>\n",
       "    <tr>\n",
       "      <th id=\"T_04555_level0_row2\" class=\"row_heading level0 row2\" >Port of Embarkation</th>\n",
       "      <td id=\"T_04555_row2_col0\" class=\"data row2 col0\" >2</td>\n",
       "      <td id=\"T_04555_row2_col1\" class=\"data row2 col1\" >0%</td>\n",
       "    </tr>\n",
       "    <tr>\n",
       "      <th id=\"T_04555_level0_row3\" class=\"row_heading level0 row3\" >Passenger Id</th>\n",
       "      <td id=\"T_04555_row3_col0\" class=\"data row3 col0\" >0</td>\n",
       "      <td id=\"T_04555_row3_col1\" class=\"data row3 col1\" >0%</td>\n",
       "    </tr>\n",
       "    <tr>\n",
       "      <th id=\"T_04555_level0_row4\" class=\"row_heading level0 row4\" >Survived</th>\n",
       "      <td id=\"T_04555_row4_col0\" class=\"data row4 col0\" >0</td>\n",
       "      <td id=\"T_04555_row4_col1\" class=\"data row4 col1\" >0%</td>\n",
       "    </tr>\n",
       "    <tr>\n",
       "      <th id=\"T_04555_level0_row5\" class=\"row_heading level0 row5\" >Ticket class</th>\n",
       "      <td id=\"T_04555_row5_col0\" class=\"data row5 col0\" >0</td>\n",
       "      <td id=\"T_04555_row5_col1\" class=\"data row5 col1\" >0%</td>\n",
       "    </tr>\n",
       "    <tr>\n",
       "      <th id=\"T_04555_level0_row6\" class=\"row_heading level0 row6\" >Name</th>\n",
       "      <td id=\"T_04555_row6_col0\" class=\"data row6 col0\" >0</td>\n",
       "      <td id=\"T_04555_row6_col1\" class=\"data row6 col1\" >0%</td>\n",
       "    </tr>\n",
       "    <tr>\n",
       "      <th id=\"T_04555_level0_row7\" class=\"row_heading level0 row7\" >Sex</th>\n",
       "      <td id=\"T_04555_row7_col0\" class=\"data row7 col0\" >0</td>\n",
       "      <td id=\"T_04555_row7_col1\" class=\"data row7 col1\" >0%</td>\n",
       "    </tr>\n",
       "    <tr>\n",
       "      <th id=\"T_04555_level0_row8\" class=\"row_heading level0 row8\" >Siblings / Spouses</th>\n",
       "      <td id=\"T_04555_row8_col0\" class=\"data row8 col0\" >0</td>\n",
       "      <td id=\"T_04555_row8_col1\" class=\"data row8 col1\" >0%</td>\n",
       "    </tr>\n",
       "    <tr>\n",
       "      <th id=\"T_04555_level0_row9\" class=\"row_heading level0 row9\" >Parents / Children</th>\n",
       "      <td id=\"T_04555_row9_col0\" class=\"data row9 col0\" >0</td>\n",
       "      <td id=\"T_04555_row9_col1\" class=\"data row9 col1\" >0%</td>\n",
       "    </tr>\n",
       "    <tr>\n",
       "      <th id=\"T_04555_level0_row10\" class=\"row_heading level0 row10\" >Ticket Number</th>\n",
       "      <td id=\"T_04555_row10_col0\" class=\"data row10 col0\" >0</td>\n",
       "      <td id=\"T_04555_row10_col1\" class=\"data row10 col1\" >0%</td>\n",
       "    </tr>\n",
       "    <tr>\n",
       "      <th id=\"T_04555_level0_row11\" class=\"row_heading level0 row11\" >Fare</th>\n",
       "      <td id=\"T_04555_row11_col0\" class=\"data row11 col0\" >0</td>\n",
       "      <td id=\"T_04555_row11_col1\" class=\"data row11 col1\" >0%</td>\n",
       "    </tr>\n",
       "    <tr>\n",
       "      <th id=\"T_04555_level0_row12\" class=\"row_heading level0 row12\" >Relatives</th>\n",
       "      <td id=\"T_04555_row12_col0\" class=\"data row12 col0\" >0</td>\n",
       "      <td id=\"T_04555_row12_col1\" class=\"data row12 col1\" >0%</td>\n",
       "    </tr>\n",
       "    <tr>\n",
       "      <th id=\"T_04555_level0_row13\" class=\"row_heading level0 row13\" >Alone</th>\n",
       "      <td id=\"T_04555_row13_col0\" class=\"data row13 col0\" >0</td>\n",
       "      <td id=\"T_04555_row13_col1\" class=\"data row13 col1\" >0%</td>\n",
       "    </tr>\n",
       "  </tbody>\n",
       "</table>\n"
      ],
      "text/plain": [
       "<pandas.io.formats.style.Styler at 0x21815ab2400>"
      ]
     },
     "execution_count": 78,
     "metadata": {},
     "output_type": "execute_result"
    }
   ],
   "source": [
    "total = train_df.isnull().sum().sort_values(ascending=False)\n",
    "percent_1 = train_df.isnull().sum() / train_df.isnull().count()\n",
    "percent_2 = (round(percent_1, 1)).sort_values(ascending=False)\n",
    "missing_data_train = pd.concat([total, percent_2], axis=1, keys=[\"Total\", \"Percentage\"])\n",
    "index_ = ['Cabin', 'Age', 'Port of Embarkation',  'Passenger Id', 'Survived', 'Ticket class', 'Name', 'Sex', \n",
    "          'Siblings / Spouses', 'Parents / Children', 'Ticket Number', 'Fare','Relatives', 'Alone']\n",
    "missing_data_train.index = index_\n",
    "format_dict = { \"Percentage\": \"{:.0%}\",}\n",
    "train_format=pd.DataFrame(missing_data_train).style.format(format_dict).bar(color='#E63A00', subset=['Total', 'Percentage'])\n",
    "train_format"
   ]
  },
  {
   "cell_type": "code",
   "execution_count": 35,
   "id": "4d5da2c6",
   "metadata": {},
   "outputs": [],
   "source": [
    "dfi.export(train_format, './img/train_data.png')"
   ]
  },
  {
   "cell_type": "code",
   "execution_count": 36,
   "id": "7a396592",
   "metadata": {},
   "outputs": [
    {
     "data": {
      "text/html": [
       "<style type=\"text/css\">\n",
       "#T_6c4f2_row0_col0, #T_6c4f2_row0_col1 {\n",
       "  width: 10em;\n",
       "  height: 80%;\n",
       "  background: linear-gradient(90deg,#E63A00 100.0%, transparent 100.0%);\n",
       "}\n",
       "#T_6c4f2_row1_col0 {\n",
       "  width: 10em;\n",
       "  height: 80%;\n",
       "  background: linear-gradient(90deg,#E63A00 26.3%, transparent 26.3%);\n",
       "}\n",
       "#T_6c4f2_row1_col1 {\n",
       "  width: 10em;\n",
       "  height: 80%;\n",
       "  background: linear-gradient(90deg,#E63A00 25.0%, transparent 25.0%);\n",
       "}\n",
       "#T_6c4f2_row2_col0 {\n",
       "  width: 10em;\n",
       "  height: 80%;\n",
       "  background: linear-gradient(90deg,#E63A00 0.3%, transparent 0.3%);\n",
       "}\n",
       "#T_6c4f2_row2_col1, #T_6c4f2_row3_col0, #T_6c4f2_row3_col1, #T_6c4f2_row4_col0, #T_6c4f2_row4_col1, #T_6c4f2_row5_col0, #T_6c4f2_row5_col1, #T_6c4f2_row6_col0, #T_6c4f2_row6_col1, #T_6c4f2_row7_col0, #T_6c4f2_row7_col1, #T_6c4f2_row8_col0, #T_6c4f2_row8_col1, #T_6c4f2_row9_col0, #T_6c4f2_row9_col1, #T_6c4f2_row10_col0, #T_6c4f2_row10_col1, #T_6c4f2_row11_col0, #T_6c4f2_row11_col1, #T_6c4f2_row12_col0, #T_6c4f2_row12_col1 {\n",
       "  width: 10em;\n",
       "  height: 80%;\n",
       "}\n",
       "</style>\n",
       "<table id=\"T_6c4f2_\">\n",
       "  <thead>\n",
       "    <tr>\n",
       "      <th class=\"blank level0\" >&nbsp;</th>\n",
       "      <th class=\"col_heading level0 col0\" >Total</th>\n",
       "      <th class=\"col_heading level0 col1\" >Percentage</th>\n",
       "    </tr>\n",
       "  </thead>\n",
       "  <tbody>\n",
       "    <tr>\n",
       "      <th id=\"T_6c4f2_level0_row0\" class=\"row_heading level0 row0\" >Cabin</th>\n",
       "      <td id=\"T_6c4f2_row0_col0\" class=\"data row0 col0\" >327</td>\n",
       "      <td id=\"T_6c4f2_row0_col1\" class=\"data row0 col1\" >80%</td>\n",
       "    </tr>\n",
       "    <tr>\n",
       "      <th id=\"T_6c4f2_level0_row1\" class=\"row_heading level0 row1\" >Age</th>\n",
       "      <td id=\"T_6c4f2_row1_col0\" class=\"data row1 col0\" >86</td>\n",
       "      <td id=\"T_6c4f2_row1_col1\" class=\"data row1 col1\" >20%</td>\n",
       "    </tr>\n",
       "    <tr>\n",
       "      <th id=\"T_6c4f2_level0_row2\" class=\"row_heading level0 row2\" >Fare</th>\n",
       "      <td id=\"T_6c4f2_row2_col0\" class=\"data row2 col0\" >1</td>\n",
       "      <td id=\"T_6c4f2_row2_col1\" class=\"data row2 col1\" >0%</td>\n",
       "    </tr>\n",
       "    <tr>\n",
       "      <th id=\"T_6c4f2_level0_row3\" class=\"row_heading level0 row3\" >Passenger Id</th>\n",
       "      <td id=\"T_6c4f2_row3_col0\" class=\"data row3 col0\" >0</td>\n",
       "      <td id=\"T_6c4f2_row3_col1\" class=\"data row3 col1\" >0%</td>\n",
       "    </tr>\n",
       "    <tr>\n",
       "      <th id=\"T_6c4f2_level0_row4\" class=\"row_heading level0 row4\" >Ticket class</th>\n",
       "      <td id=\"T_6c4f2_row4_col0\" class=\"data row4 col0\" >0</td>\n",
       "      <td id=\"T_6c4f2_row4_col1\" class=\"data row4 col1\" >0%</td>\n",
       "    </tr>\n",
       "    <tr>\n",
       "      <th id=\"T_6c4f2_level0_row5\" class=\"row_heading level0 row5\" >Name</th>\n",
       "      <td id=\"T_6c4f2_row5_col0\" class=\"data row5 col0\" >0</td>\n",
       "      <td id=\"T_6c4f2_row5_col1\" class=\"data row5 col1\" >0%</td>\n",
       "    </tr>\n",
       "    <tr>\n",
       "      <th id=\"T_6c4f2_level0_row6\" class=\"row_heading level0 row6\" >Sex</th>\n",
       "      <td id=\"T_6c4f2_row6_col0\" class=\"data row6 col0\" >0</td>\n",
       "      <td id=\"T_6c4f2_row6_col1\" class=\"data row6 col1\" >0%</td>\n",
       "    </tr>\n",
       "    <tr>\n",
       "      <th id=\"T_6c4f2_level0_row7\" class=\"row_heading level0 row7\" >Siblings / Spouses</th>\n",
       "      <td id=\"T_6c4f2_row7_col0\" class=\"data row7 col0\" >0</td>\n",
       "      <td id=\"T_6c4f2_row7_col1\" class=\"data row7 col1\" >0%</td>\n",
       "    </tr>\n",
       "    <tr>\n",
       "      <th id=\"T_6c4f2_level0_row8\" class=\"row_heading level0 row8\" >Parents / Children</th>\n",
       "      <td id=\"T_6c4f2_row8_col0\" class=\"data row8 col0\" >0</td>\n",
       "      <td id=\"T_6c4f2_row8_col1\" class=\"data row8 col1\" >0%</td>\n",
       "    </tr>\n",
       "    <tr>\n",
       "      <th id=\"T_6c4f2_level0_row9\" class=\"row_heading level0 row9\" >Ticket Number</th>\n",
       "      <td id=\"T_6c4f2_row9_col0\" class=\"data row9 col0\" >0</td>\n",
       "      <td id=\"T_6c4f2_row9_col1\" class=\"data row9 col1\" >0%</td>\n",
       "    </tr>\n",
       "    <tr>\n",
       "      <th id=\"T_6c4f2_level0_row10\" class=\"row_heading level0 row10\" >Port of Embarkation</th>\n",
       "      <td id=\"T_6c4f2_row10_col0\" class=\"data row10 col0\" >0</td>\n",
       "      <td id=\"T_6c4f2_row10_col1\" class=\"data row10 col1\" >0%</td>\n",
       "    </tr>\n",
       "    <tr>\n",
       "      <th id=\"T_6c4f2_level0_row11\" class=\"row_heading level0 row11\" >Relatives</th>\n",
       "      <td id=\"T_6c4f2_row11_col0\" class=\"data row11 col0\" >0</td>\n",
       "      <td id=\"T_6c4f2_row11_col1\" class=\"data row11 col1\" >0%</td>\n",
       "    </tr>\n",
       "    <tr>\n",
       "      <th id=\"T_6c4f2_level0_row12\" class=\"row_heading level0 row12\" >Alone</th>\n",
       "      <td id=\"T_6c4f2_row12_col0\" class=\"data row12 col0\" >0</td>\n",
       "      <td id=\"T_6c4f2_row12_col1\" class=\"data row12 col1\" >0%</td>\n",
       "    </tr>\n",
       "  </tbody>\n",
       "</table>\n"
      ],
      "text/plain": [
       "<pandas.io.formats.style.Styler at 0x21812235400>"
      ]
     },
     "execution_count": 36,
     "metadata": {},
     "output_type": "execute_result"
    }
   ],
   "source": [
    "# Quick check to see data columns\n",
    "total = test_df.isnull().sum().sort_values(ascending=False)\n",
    "percent_1 = test_df.isnull().sum() / test_df.isnull().count()\n",
    "percent_2 = (round(percent_1, 1)).sort_values(ascending=False)\n",
    "missing_data_test = pd.concat([total, percent_2], axis=1, keys=[\"Total\", \"Percentage\"])\n",
    "index_ = ['Cabin', 'Age', 'Fare', 'Passenger Id', 'Ticket class', 'Name', 'Sex', \n",
    "          'Siblings / Spouses', 'Parents / Children', 'Ticket Number', \n",
    "          'Port of Embarkation', 'Relatives', 'Alone']\n",
    "missing_data_test.index = index_\n",
    "format_dict = { \"Percentage\": \"{:.0%}\",}\n",
    "test_format=pd.DataFrame(missing_data_test).style.format(format_dict).bar(color='#E63A00', subset=['Total', 'Percentage'])\n",
    "test_format"
   ]
  },
  {
   "cell_type": "code",
   "execution_count": 37,
   "id": "e80a9a70",
   "metadata": {},
   "outputs": [],
   "source": [
    "dfi.export(test_format, './img/test_data.png')"
   ]
  },
  {
   "cell_type": "markdown",
   "id": "6da98fad",
   "metadata": {},
   "source": [
    "### Dropping Columns"
   ]
  },
  {
   "cell_type": "code",
   "execution_count": null,
   "id": "1e5935a6",
   "metadata": {},
   "outputs": [],
   "source": [
    "train_df = train_df.drop(['PassengerId'], axis=1)"
   ]
  },
  {
   "cell_type": "markdown",
   "id": "7fd265bb",
   "metadata": {},
   "source": [
    "#### Cabin"
   ]
  },
  {
   "cell_type": "code",
   "execution_count": null,
   "id": "58392c4c",
   "metadata": {},
   "outputs": [],
   "source": [
    "deck = {\"A\": 1, \"B\": 2, \"C\": 3, \"D\": 4, \"E\": 5, \"F\": 6, \"G\": 7, \"U\": 8}\n",
    "data = [train_df, test_df]\n",
    "\n",
    "for dataset in data:\n",
    "    dataset['Cabin'] = dataset['Cabin'].fillna(\"U0\")\n",
    "    dataset['Deck'] = dataset['Cabin'].map(lambda x: re.compile(\"([a-zA-Z]+)\").search(x).group())\n",
    "    dataset['Deck'] = dataset['Deck'].map(deck)\n",
    "    dataset['Deck'] = dataset['Deck'].fillna(0)\n",
    "    dataset['Deck'] = dataset['Deck'].astype(int)\n",
    "# we can now drop the cabin feature\n",
    "train_df = train_df.drop(['Cabin'], axis=1)\n",
    "test_df = test_df.drop(['Cabin'], axis=1)"
   ]
  },
  {
   "cell_type": "markdown",
   "id": "790194f1",
   "metadata": {},
   "source": [
    "#### Age"
   ]
  },
  {
   "cell_type": "code",
   "execution_count": null,
   "id": "d58242da",
   "metadata": {},
   "outputs": [],
   "source": [
    "data = [train_df, test_df]\n",
    "\n",
    "for dataset in data:\n",
    "    mean = train_df[\"Age\"].mean()\n",
    "    std = test_df[\"Age\"].std()\n",
    "    is_null = dataset[\"Age\"].isnull().sum()\n",
    "    # compute random numbers between the mean, std and is_null\n",
    "    rand_age = np.random.randint(mean - std, mean + std, size = is_null)\n",
    "    # fill NaN values in Age column with random values generated\n",
    "    age_slice = dataset[\"Age\"].copy()\n",
    "    age_slice[np.isnan(age_slice)] = rand_age\n",
    "    dataset[\"Age\"] = age_slice\n",
    "    dataset[\"Age\"] = train_df[\"Age\"].astype(int)\n",
    "train_df[\"Age\"].isnull().sum()"
   ]
  },
  {
   "cell_type": "markdown",
   "id": "d1d796a5",
   "metadata": {},
   "source": [
    "#### Embarked"
   ]
  },
  {
   "cell_type": "code",
   "execution_count": null,
   "id": "d69cd4de",
   "metadata": {},
   "outputs": [],
   "source": [
    "train_df['Embarked'].describe()"
   ]
  },
  {
   "cell_type": "code",
   "execution_count": null,
   "id": "962235f1",
   "metadata": {},
   "outputs": [],
   "source": [
    "common_value = 'S'\n",
    "data = [train_df, test_df]\n",
    "\n",
    "for dataset in data:\n",
    "    dataset['Embarked'] = dataset['Embarked'].fillna(common_value)"
   ]
  },
  {
   "cell_type": "code",
   "execution_count": null,
   "id": "90c9812b",
   "metadata": {},
   "outputs": [],
   "source": [
    "ports = {\"S\": 0, \"C\": 1, \"Q\": 2}\n",
    "data = [train_df, test_df]\n",
    "\n",
    "for dataset in data:\n",
    "    dataset['Embarked'] = dataset['Embarked'].map(ports)"
   ]
  },
  {
   "cell_type": "markdown",
   "id": "9ee24bf2",
   "metadata": {},
   "source": [
    "### Converting Feature"
   ]
  },
  {
   "cell_type": "markdown",
   "id": "b29a0c2e",
   "metadata": {},
   "source": [
    "#### Fare"
   ]
  },
  {
   "cell_type": "code",
   "execution_count": null,
   "id": "bccd8f39",
   "metadata": {},
   "outputs": [],
   "source": [
    "data = [train_df, test_df]\n",
    "\n",
    "for dataset in data:\n",
    "    dataset['Fare'] = dataset['Fare'].fillna(0)\n",
    "    dataset['Fare'] = dataset['Fare'].astype(int)"
   ]
  },
  {
   "cell_type": "markdown",
   "id": "d5fcb899",
   "metadata": {},
   "source": [
    "#### Name"
   ]
  },
  {
   "cell_type": "code",
   "execution_count": null,
   "id": "ed74a72b",
   "metadata": {},
   "outputs": [],
   "source": [
    "data = [train_df, test_df]\n",
    "titles = {\"Mr\": 1, \"Miss\": 2, \"Mrs\": 3, \"Master\": 4, \"Rare\": 5}\n",
    "\n",
    "for dataset in data:\n",
    "    # extract titles\n",
    "    dataset['Title'] = dataset.Name.str.extract(' ([A-Za-z]+)\\.', expand=False)\n",
    "    # replace titles with a more common title or as Rare\n",
    "    dataset['Title'] = dataset['Title'].replace(['Lady', 'Countess','Capt', 'Col','Don', 'Dr',\\\n",
    "                                            'Major', 'Rev', 'Sir', 'Jonkheer', 'Dona'], 'Rare')\n",
    "    dataset['Title'] = dataset['Title'].replace('Mlle', 'Miss')\n",
    "    dataset['Title'] = dataset['Title'].replace('Ms', 'Miss')\n",
    "    dataset['Title'] = dataset['Title'].replace('Mme', 'Mrs')\n",
    "    # convert titles into numbers\n",
    "    dataset['Title'] = dataset['Title'].map(titles)\n",
    "    # filling NaN with 0, to get safe\n",
    "    dataset['Title'] = dataset['Title'].fillna(0)\n",
    "train_df = train_df.drop(['Name'], axis=1)\n",
    "test_df = test_df.drop(['Name'], axis=1)"
   ]
  },
  {
   "cell_type": "markdown",
   "id": "414b393d",
   "metadata": {},
   "source": [
    "#### Sex"
   ]
  },
  {
   "cell_type": "code",
   "execution_count": null,
   "id": "029cab85",
   "metadata": {},
   "outputs": [],
   "source": [
    "genders = {\"male\": 0, \"female\": 1}\n",
    "data = [train_df, test_df]\n",
    "\n",
    "for dataset in data:\n",
    "    dataset['Sex'] = dataset['Sex'].map(genders)"
   ]
  },
  {
   "cell_type": "markdown",
   "id": "e6cd0fad",
   "metadata": {},
   "source": [
    "#### Ticket"
   ]
  },
  {
   "cell_type": "code",
   "execution_count": null,
   "id": "34ccdc9e",
   "metadata": {},
   "outputs": [],
   "source": [
    "train_df = train_df.drop(['Ticket'], axis=1)\n",
    "test_df = test_df.drop(['Ticket'], axis=1)"
   ]
  },
  {
   "cell_type": "markdown",
   "id": "2886aa44",
   "metadata": {},
   "source": [
    "### Creating Categories"
   ]
  },
  {
   "cell_type": "markdown",
   "id": "be7e4cd3",
   "metadata": {},
   "source": [
    "#### Age"
   ]
  },
  {
   "cell_type": "code",
   "execution_count": null,
   "id": "5ca79573",
   "metadata": {},
   "outputs": [],
   "source": [
    "data = [train_df, test_df]\n",
    "for dataset in data:\n",
    "    dataset['Age'] = dataset['Age'].astype(int)\n",
    "    dataset.loc[ dataset['Age'] <= 11, 'Age'] = 0\n",
    "    dataset.loc[(dataset['Age'] > 11) & (dataset['Age'] <= 18), 'Age'] = 1\n",
    "    dataset.loc[(dataset['Age'] > 18) & (dataset['Age'] <= 22), 'Age'] = 2\n",
    "    dataset.loc[(dataset['Age'] > 22) & (dataset['Age'] <= 27), 'Age'] = 3\n",
    "    dataset.loc[(dataset['Age'] > 27) & (dataset['Age'] <= 33), 'Age'] = 4\n",
    "    dataset.loc[(dataset['Age'] > 33) & (dataset['Age'] <= 40), 'Age'] = 5\n",
    "    dataset.loc[(dataset['Age'] > 40) & (dataset['Age'] <= 66), 'Age'] = 6\n",
    "    dataset.loc[ dataset['Age'] > 66, 'Age'] = 6\n",
    "\n",
    "# let's see how it's distributed train_df['Age'].value_counts()"
   ]
  },
  {
   "cell_type": "markdown",
   "id": "bdbbea4d",
   "metadata": {},
   "source": [
    "#### Fare"
   ]
  },
  {
   "cell_type": "code",
   "execution_count": null,
   "id": "e4c9f82d",
   "metadata": {},
   "outputs": [],
   "source": [
    "data = [train_df, test_df]\n",
    "\n",
    "for dataset in data:\n",
    "    dataset.loc[ dataset['Fare'] <= 7.91, 'Fare'] = 0\n",
    "    dataset.loc[(dataset['Fare'] > 7.91) & (dataset['Fare'] <= 14.454), 'Fare'] = 1\n",
    "    dataset.loc[(dataset['Fare'] > 14.454) & (dataset['Fare'] <= 31), 'Fare']   = 2\n",
    "    dataset.loc[(dataset['Fare'] > 31) & (dataset['Fare'] <= 99), 'Fare']   = 3\n",
    "    dataset.loc[(dataset['Fare'] > 99) & (dataset['Fare'] <= 250), 'Fare']   = 4\n",
    "    dataset.loc[ dataset['Fare'] > 250, 'Fare'] = 5\n",
    "    dataset['Fare'] = dataset['Fare'].astype(int)"
   ]
  },
  {
   "cell_type": "markdown",
   "id": "14547f6c",
   "metadata": {},
   "source": [
    "### Creating New Categories"
   ]
  },
  {
   "cell_type": "markdown",
   "id": "84682b0e",
   "metadata": {},
   "source": [
    "#### Age time Class"
   ]
  },
  {
   "cell_type": "code",
   "execution_count": null,
   "id": "70a790a3",
   "metadata": {},
   "outputs": [],
   "source": [
    "data = [train_df, test_df]\n",
    "for dataset in data:\n",
    "    dataset['Age_Class']= dataset['Age']* dataset['Pclass']"
   ]
  },
  {
   "cell_type": "markdown",
   "id": "174e4073",
   "metadata": {},
   "source": [
    "#### Fare per person"
   ]
  },
  {
   "cell_type": "code",
   "execution_count": null,
   "id": "635c25c8",
   "metadata": {},
   "outputs": [],
   "source": [
    "for dataset in data:\n",
    "    dataset['Fare_Per_Person'] = dataset['Fare']/(dataset['relatives']+1)\n",
    "    dataset['Fare_Per_Person'] = dataset['Fare_Per_Person'].astype(int)"
   ]
  },
  {
   "cell_type": "markdown",
   "id": "58f3bb03",
   "metadata": {},
   "source": [
    "# Model"
   ]
  },
  {
   "cell_type": "code",
   "execution_count": null,
   "id": "fa37afcb",
   "metadata": {},
   "outputs": [],
   "source": [
    "X_train = train_df.drop(\"Survived\", axis=1)\n",
    "Y_train = train_df[\"Survived\"]\n",
    "X_test  = test_df.drop(\"PassengerId\", axis=1).copy()"
   ]
  },
  {
   "cell_type": "markdown",
   "id": "adcc7a26",
   "metadata": {},
   "source": [
    "## Stochastic Gradient Descent (SGD)"
   ]
  },
  {
   "cell_type": "code",
   "execution_count": null,
   "id": "43459559",
   "metadata": {},
   "outputs": [],
   "source": [
    "sgd = linear_model.SGDClassifier(max_iter=5, tol=None)\n",
    "sgd.fit(X_train, Y_train)\n",
    "Y_pred = sgd.predict(X_test)\n",
    "\n",
    "sgd.score(X_train, Y_train)\n",
    "\n",
    "acc_sgd = round(sgd.score(X_train, Y_train) * 100, 2)"
   ]
  },
  {
   "cell_type": "markdown",
   "id": "c02a3b4a",
   "metadata": {},
   "source": [
    "## Random Forest"
   ]
  },
  {
   "cell_type": "code",
   "execution_count": null,
   "id": "281cb4fc",
   "metadata": {},
   "outputs": [],
   "source": [
    "random_forest = RandomForestClassifier(n_estimators=100)\n",
    "random_forest.fit(X_train, Y_train)\n",
    "\n",
    "Y_prediction = random_forest.predict(X_test)\n",
    "\n",
    "random_forest.score(X_train, Y_train)\n",
    "acc_random_forest = round(random_forest.score(X_train, Y_train) * 100, 2)"
   ]
  },
  {
   "cell_type": "markdown",
   "id": "ed2f4cf3",
   "metadata": {},
   "source": [
    "## Logistic Regression"
   ]
  },
  {
   "cell_type": "code",
   "execution_count": null,
   "id": "0c03d939",
   "metadata": {},
   "outputs": [],
   "source": [
    "logreg = LogisticRegression()\n",
    "logreg.fit(X_train, Y_train)\n",
    "\n",
    "Y_pred = logreg.predict(X_test)\n",
    "\n",
    "acc_log = round(logreg.score(X_train, Y_train) * 100, 2)"
   ]
  },
  {
   "cell_type": "markdown",
   "id": "48eb577a",
   "metadata": {},
   "source": [
    "## K Nearest Neighbor:"
   ]
  },
  {
   "cell_type": "code",
   "execution_count": null,
   "id": "77fdba8b",
   "metadata": {},
   "outputs": [],
   "source": [
    "knn = KNeighborsClassifier(n_neighbors = 3)\n",
    "knn.fit(X_train, Y_train)  \n",
    "Y_pred = knn.predict(X_test)  \n",
    "acc_knn = round(knn.score(X_train, Y_train) * 100, 2)"
   ]
  },
  {
   "cell_type": "markdown",
   "id": "0d79449b",
   "metadata": {},
   "source": [
    "## Gaussian Naive Bayes:"
   ]
  },
  {
   "cell_type": "code",
   "execution_count": null,
   "id": "c7969db4",
   "metadata": {},
   "outputs": [],
   "source": [
    "gaussian = GaussianNB() \n",
    "gaussian.fit(X_train, Y_train)  \n",
    "Y_pred = gaussian.predict(X_test)  \n",
    "acc_gaussian = round(gaussian.score(X_train, Y_train) * 100, 2)"
   ]
  },
  {
   "cell_type": "markdown",
   "id": "00a05372",
   "metadata": {},
   "source": [
    "## Perceptron:"
   ]
  },
  {
   "cell_type": "code",
   "execution_count": null,
   "id": "75cc16a1",
   "metadata": {},
   "outputs": [],
   "source": [
    "perceptron = Perceptron(max_iter=5)\n",
    "perceptron.fit(X_train, Y_train)\n",
    "\n",
    "Y_pred = perceptron.predict(X_test)\n",
    "\n",
    "acc_perceptron = round(perceptron.score(X_train, Y_train) * 100, 2)"
   ]
  },
  {
   "cell_type": "markdown",
   "id": "7deb2b9f",
   "metadata": {},
   "source": [
    "## Linear Support Vector Machine:"
   ]
  },
  {
   "cell_type": "code",
   "execution_count": null,
   "id": "aa4fbf6d",
   "metadata": {},
   "outputs": [],
   "source": [
    "linear_svc = LinearSVC()\n",
    "linear_svc.fit(X_train, Y_train)\n",
    "\n",
    "Y_pred = linear_svc.predict(X_test)\n",
    "\n",
    "acc_linear_svc = round(linear_svc.score(X_train, Y_train) * 100, 2)"
   ]
  },
  {
   "cell_type": "markdown",
   "id": "6440913a",
   "metadata": {},
   "source": [
    "## Decision Tree"
   ]
  },
  {
   "cell_type": "code",
   "execution_count": null,
   "id": "725b66b1",
   "metadata": {},
   "outputs": [],
   "source": [
    "decision_tree = DecisionTreeClassifier() \n",
    "decision_tree.fit(X_train, Y_train) \n",
    "Y_pred = decision_tree.predict(X_test)  \n",
    "acc_decision_tree = round(decision_tree.score(X_train, Y_train) * 100, 2)"
   ]
  },
  {
   "cell_type": "markdown",
   "id": "5f5b228d",
   "metadata": {},
   "source": [
    "## Best Model"
   ]
  },
  {
   "cell_type": "code",
   "execution_count": null,
   "id": "7da8df79",
   "metadata": {},
   "outputs": [],
   "source": [
    "results = pd.DataFrame({\n",
    "    'Model': ['Support Vector Machines', 'KNN', 'Logistic Regression', \n",
    "              'Random Forest', 'Naive Bayes', 'Perceptron', \n",
    "              'Stochastic Gradient Decent', \n",
    "              'Decision Tree'],\n",
    "    'Score': [acc_linear_svc, acc_knn, acc_log, \n",
    "              acc_random_forest, acc_gaussian, acc_perceptron, \n",
    "              acc_sgd, acc_decision_tree]})\n",
    "result_df = results.sort_values(by='Score', ascending=False)\n",
    "result_df = result_df.set_index('Score')\n",
    "result_df.head(9)"
   ]
  },
  {
   "cell_type": "markdown",
   "id": "3da25fa2",
   "metadata": {},
   "source": [
    "## K-Fold Cross Validation:"
   ]
  },
  {
   "cell_type": "code",
   "execution_count": null,
   "id": "050655af",
   "metadata": {},
   "outputs": [],
   "source": [
    "rf = RandomForestClassifier(n_estimators=100)\n",
    "scores = cross_val_score(rf, X_train, Y_train, cv=100, scoring = \"accuracy\")\n",
    "print(\"Scores:\", scores)\n",
    "print(\"Mean:\", scores.mean())\n",
    "print(\"Standard Deviation:\", scores.std())"
   ]
  },
  {
   "cell_type": "markdown",
   "id": "43a5873b",
   "metadata": {},
   "source": [
    "### Feature Importance"
   ]
  },
  {
   "cell_type": "code",
   "execution_count": null,
   "id": "996b17b2",
   "metadata": {},
   "outputs": [],
   "source": [
    "importances = pd.DataFrame({'feature':X_train.columns,'importance':np.round(random_forest.feature_importances_,3)})\n",
    "importances = importances.sort_values('importance',ascending=False).set_index('feature')\n",
    "importances.head(15)"
   ]
  },
  {
   "cell_type": "code",
   "execution_count": null,
   "id": "ab7d61e3",
   "metadata": {},
   "outputs": [],
   "source": [
    "importances.plot.bar()"
   ]
  },
  {
   "cell_type": "code",
   "execution_count": null,
   "id": "dfa448aa",
   "metadata": {},
   "outputs": [],
   "source": [
    "train_df  = train_df.drop(\"not_alone\", axis=1)\n",
    "test_df  = test_df.drop(\"not_alone\", axis=1)\n",
    "\n",
    "train_df  = train_df.drop(\"Parch\", axis=1)\n",
    "test_df  = test_df.drop(\"Parch\", axis=1)"
   ]
  },
  {
   "cell_type": "markdown",
   "id": "5f671bc4",
   "metadata": {},
   "source": [
    "### Retraining model"
   ]
  },
  {
   "cell_type": "code",
   "execution_count": null,
   "id": "daece982",
   "metadata": {},
   "outputs": [],
   "source": [
    "# Random Forest\n",
    "\n",
    "random_forest = RandomForestClassifier(n_estimators=100,  oob_score = True)\n",
    "random_forest.fit(X_train, Y_train)\n",
    "Y_prediction = random_forest.predict(X_test)\n",
    "\n",
    "random_forest.score(X_train, Y_train)\n",
    "\n",
    "acc_random_forest = round(random_forest.score(X_train, Y_train) * 100, 2)\n",
    "print(round(acc_random_forest,2,), \"%\")"
   ]
  },
  {
   "cell_type": "markdown",
   "id": "bb1f454b",
   "metadata": {},
   "source": [
    "## Hyperparameter Tuning"
   ]
  },
  {
   "cell_type": "code",
   "execution_count": null,
   "id": "5b568dfe",
   "metadata": {},
   "outputs": [],
   "source": [
    "#Step 1. Define an objective function to be maximized.\n",
    "def objective(trial):\n",
    "\n",
    "    classifier_name = trial.suggest_categorical(\"classifier\", [\"LogReg\", \"RandomForest\"])\n",
    "    \n",
    "    # Step 2. Setup values for the hyperparameters:\n",
    "    if classifier_name == 'LogReg':\n",
    "        logreg_c = trial.suggest_float(\"logreg_c\", 1e-10, 1e10, log=True)\n",
    "        classifier_obj = linear_model.LogisticRegression(C=logreg_c)\n",
    "    else:\n",
    "        rf_n_estimators = trial.suggest_int(\"rf_n_estimators\", 10, 1000)\n",
    "        rf_max_depth = trial.suggest_int(\"rf_max_depth\", 2, 32, log=True)\n",
    "        classifier_obj = ensemble.RandomForestClassifier(\n",
    "            max_depth=rf_max_depth, n_estimators=rf_n_estimators\n",
    "        )\n",
    "\n",
    "    # Step 3: Scoring method:\n",
    "    score = model_selection.cross_val_score(classifier_obj, X_train, Y_train, n_jobs=-1, cv=3)\n",
    "    accuracy = score.mean()\n",
    "    return accuracy\n",
    "\n",
    "# Step 4: Running it\n",
    "study = optuna.create_study(direction=\"maximize\")\n",
    "study.optimize(objective, n_trials=500)"
   ]
  },
  {
   "cell_type": "code",
   "execution_count": null,
   "id": "f750f6b3",
   "metadata": {},
   "outputs": [],
   "source": [
    "# Getting the best trial:\n",
    "print(f\"The best trial is : \\n{study.best_trial}\")\n",
    "\n",
    "# Getting the best score:\n",
    "print(f\"The best value is : \\n{study.best_value}\")\n",
    "\n",
    "# Getting the best parameters:\n",
    "print(f\"The best parameters are : \\n{study.best_params}\")\n"
   ]
  },
  {
   "cell_type": "code",
   "execution_count": null,
   "id": "230cc656",
   "metadata": {},
   "outputs": [],
   "source": [
    "# Random Forest\n",
    "\n",
    "random_forest = RandomForestClassifier(n_estimators=361, max_depth=6, oob_score = True)\n",
    "random_forest.fit(X_train, Y_train)\n",
    "Y_prediction = random_forest.predict(X_test)\n",
    "\n",
    "random_forest.score(X_train, Y_train)\n",
    "\n",
    "acc_random_forest = round(random_forest.score(X_train, Y_train) * 100, 2)\n",
    "print(round(acc_random_forest,2,), \"%\")"
   ]
  },
  {
   "cell_type": "code",
   "execution_count": null,
   "id": "e56af0a0",
   "metadata": {},
   "outputs": [],
   "source": [
    "optuna.visualization.plot_optimization_history(study)"
   ]
  },
  {
   "cell_type": "code",
   "execution_count": null,
   "id": "ee56e551",
   "metadata": {},
   "outputs": [],
   "source": [
    "optuna.visualization.plot_parallel_coordinate(study)"
   ]
  },
  {
   "cell_type": "code",
   "execution_count": null,
   "id": "f1e6d99c",
   "metadata": {},
   "outputs": [],
   "source": [
    "optuna.visualization.plot_slice(study)"
   ]
  },
  {
   "cell_type": "code",
   "execution_count": null,
   "id": "76f3976d",
   "metadata": {},
   "outputs": [],
   "source": [
    "optuna.visualization.plot_contour(study, params=['rf_max_depth','rf_n_estimators' ])"
   ]
  }
 ],
 "metadata": {
  "kernelspec": {
   "display_name": "Python 3 (ipykernel)",
   "language": "python",
   "name": "python3"
  },
  "language_info": {
   "codemirror_mode": {
    "name": "ipython",
    "version": 3
   },
   "file_extension": ".py",
   "mimetype": "text/x-python",
   "name": "python",
   "nbconvert_exporter": "python",
   "pygments_lexer": "ipython3",
   "version": "3.8.8"
  }
 },
 "nbformat": 4,
 "nbformat_minor": 5
}
