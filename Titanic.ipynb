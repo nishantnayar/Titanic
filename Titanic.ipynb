{
 "cells": [
  {
   "cell_type": "markdown",
   "id": "339952f0",
   "metadata": {},
   "source": [
    "# Introduction"
   ]
  },
  {
   "cell_type": "markdown",
   "id": "322f7a90",
   "metadata": {},
   "source": [
    "Blah blah"
   ]
  },
  {
   "cell_type": "markdown",
   "id": "bc9b6c57",
   "metadata": {},
   "source": [
    "# Loading Libraries"
   ]
  },
  {
   "cell_type": "code",
   "execution_count": 1,
   "id": "51ab829d",
   "metadata": {},
   "outputs": [],
   "source": [
    "# linear algebra\n",
    "import numpy as np\n",
    "\n",
    "# data processing\n",
    "import pandas as pd\n",
    "import re\n",
    "\n",
    "# fancy tables\n",
    "import qgrid\n",
    "from termcolor import colored\n",
    "\n",
    "# data visualization\n",
    "import seaborn as sns\n",
    "\n",
    "# suppressing pesky warnings\n",
    "import warnings\n",
    "warnings.filterwarnings(\"ignore\")\n",
    "warnings.simplefilter(action='ignore', category=FutureWarning)\n",
    "warnings.simplefilter(action='ignore', category=Warning)\n",
    "\n",
    "%matplotlib inline\n",
    "from matplotlib import pyplot as plt\n",
    "from matplotlib import style\n",
    "\n",
    "# Algorithms\n",
    "from sklearn import linear_model\n",
    "from sklearn.linear_model import LogisticRegression\n",
    "from sklearn.ensemble import RandomForestClassifier\n",
    "from sklearn.linear_model import Perceptron\n",
    "from sklearn.linear_model import SGDClassifier\n",
    "from sklearn.tree import DecisionTreeClassifier\n",
    "from sklearn.neighbors import KNeighborsClassifier\n",
    "from sklearn.svm import SVC, LinearSVC\n",
    "from sklearn.naive_bayes import GaussianNB\n",
    "from sklearn.model_selection import cross_val_score\n",
    "from sklearn import datasets\n",
    "from sklearn import model_selection\n",
    "\n",
    "import optuna\n",
    "from sklearn import ensemble\n",
    "from sklearn import datasets\n",
    "from sklearn import model_selection"
   ]
  },
  {
   "cell_type": "code",
   "execution_count": 2,
   "id": "a2375ca4",
   "metadata": {},
   "outputs": [],
   "source": [
    "pd.set_option(\"display.max_rows\", 500)\n",
    "pd.set_option(\"display.max_columns\", 500)\n",
    "pd.set_option(\"display.width\", 1000)"
   ]
  },
  {
   "cell_type": "markdown",
   "id": "c23a9288",
   "metadata": {},
   "source": [
    "# Exploratory Data Analysis"
   ]
  },
  {
   "cell_type": "markdown",
   "id": "b7f57c88",
   "metadata": {},
   "source": [
    "## Loading Data"
   ]
  },
  {
   "cell_type": "markdown",
   "id": "17a9578e",
   "metadata": {},
   "source": [
    "We will be first loading the data from Kaggle competiton website. "
   ]
  },
  {
   "cell_type": "code",
   "execution_count": 3,
   "id": "197a4f97",
   "metadata": {},
   "outputs": [],
   "source": [
    "test_df = pd.read_csv(\"test.csv\")\n",
    "train_df = pd.read_csv(\"train.csv\")"
   ]
  },
  {
   "cell_type": "code",
   "execution_count": 4,
   "id": "a4f4918f",
   "metadata": {},
   "outputs": [
    {
     "name": "stdout",
     "output_type": "stream",
     "text": [
      "\u001b[1m\u001b[31mThe train to test ratio is 68:32\u001b[0m\n"
     ]
    }
   ],
   "source": [
    "train = int(round(len(train_df) / (len(train_df) + len(test_df)), 2) * 100)\n",
    "test = int(round(len(test_df) / (len(train_df) + len(test_df)), 2) * 100)\n",
    "print (colored((\"The train to test ratio is {0}:{1}\".format(train, test)), 'red', attrs=['bold']))"
   ]
  },
  {
   "cell_type": "markdown",
   "id": "5ea55d5b",
   "metadata": {},
   "source": [
    "## Check Missing Data"
   ]
  },
  {
   "cell_type": "markdown",
   "id": "863c75df",
   "metadata": {},
   "source": [
    "### Train Data"
   ]
  },
  {
   "cell_type": "code",
   "execution_count": 5,
   "id": "e9faa63e",
   "metadata": {},
   "outputs": [
    {
     "data": {
      "text/html": [
       "<div>\n",
       "<style scoped>\n",
       "    .dataframe tbody tr th:only-of-type {\n",
       "        vertical-align: middle;\n",
       "    }\n",
       "\n",
       "    .dataframe tbody tr th {\n",
       "        vertical-align: top;\n",
       "    }\n",
       "\n",
       "    .dataframe thead th {\n",
       "        text-align: right;\n",
       "    }\n",
       "</style>\n",
       "<table border=\"1\" class=\"dataframe\">\n",
       "  <thead>\n",
       "    <tr style=\"text-align: right;\">\n",
       "      <th></th>\n",
       "      <th>Total</th>\n",
       "      <th>%</th>\n",
       "    </tr>\n",
       "  </thead>\n",
       "  <tbody>\n",
       "    <tr>\n",
       "      <th>Cabin</th>\n",
       "      <td>687</td>\n",
       "      <td>77.1</td>\n",
       "    </tr>\n",
       "    <tr>\n",
       "      <th>Age</th>\n",
       "      <td>177</td>\n",
       "      <td>19.9</td>\n",
       "    </tr>\n",
       "    <tr>\n",
       "      <th>Embarked</th>\n",
       "      <td>2</td>\n",
       "      <td>0.2</td>\n",
       "    </tr>\n",
       "    <tr>\n",
       "      <th>PassengerId</th>\n",
       "      <td>0</td>\n",
       "      <td>0.0</td>\n",
       "    </tr>\n",
       "    <tr>\n",
       "      <th>Survived</th>\n",
       "      <td>0</td>\n",
       "      <td>0.0</td>\n",
       "    </tr>\n",
       "    <tr>\n",
       "      <th>Pclass</th>\n",
       "      <td>0</td>\n",
       "      <td>0.0</td>\n",
       "    </tr>\n",
       "    <tr>\n",
       "      <th>Name</th>\n",
       "      <td>0</td>\n",
       "      <td>0.0</td>\n",
       "    </tr>\n",
       "    <tr>\n",
       "      <th>Sex</th>\n",
       "      <td>0</td>\n",
       "      <td>0.0</td>\n",
       "    </tr>\n",
       "    <tr>\n",
       "      <th>SibSp</th>\n",
       "      <td>0</td>\n",
       "      <td>0.0</td>\n",
       "    </tr>\n",
       "    <tr>\n",
       "      <th>Parch</th>\n",
       "      <td>0</td>\n",
       "      <td>0.0</td>\n",
       "    </tr>\n",
       "    <tr>\n",
       "      <th>Ticket</th>\n",
       "      <td>0</td>\n",
       "      <td>0.0</td>\n",
       "    </tr>\n",
       "    <tr>\n",
       "      <th>Fare</th>\n",
       "      <td>0</td>\n",
       "      <td>0.0</td>\n",
       "    </tr>\n",
       "  </tbody>\n",
       "</table>\n",
       "</div>"
      ],
      "text/plain": [
       "             Total     %\n",
       "Cabin          687  77.1\n",
       "Age            177  19.9\n",
       "Embarked         2   0.2\n",
       "PassengerId      0   0.0\n",
       "Survived         0   0.0\n",
       "Pclass           0   0.0\n",
       "Name             0   0.0\n",
       "Sex              0   0.0\n",
       "SibSp            0   0.0\n",
       "Parch            0   0.0\n",
       "Ticket           0   0.0\n",
       "Fare             0   0.0"
      ]
     },
     "execution_count": 5,
     "metadata": {},
     "output_type": "execute_result"
    }
   ],
   "source": [
    "# Quick check to see data columns\n",
    "total = train_df.isnull().sum().sort_values(ascending=False)\n",
    "percent_1 = train_df.isnull().sum() / train_df.isnull().count() * 100\n",
    "percent_2 = (round(percent_1, 1)).sort_values(ascending=False)\n",
    "missing_data_train = pd.concat([total, percent_2], axis=1, keys=[\"Total\", \"%\"])\n",
    "missing_data_train"
   ]
  },
  {
   "cell_type": "code",
   "execution_count": 6,
   "id": "7aa15763",
   "metadata": {},
   "outputs": [
    {
     "data": {
      "application/vnd.jupyter.widget-view+json": {
       "model_id": "187d67e7d2574f0b988e3cc3c8d00455",
       "version_major": 2,
       "version_minor": 0
      },
      "text/plain": [
       "QgridWidget(grid_options={'fullWidthRows': True, 'syncColumnCellResize': True, 'forceFitColumns': True, 'defau…"
      ]
     },
     "metadata": {},
     "output_type": "display_data"
    }
   ],
   "source": [
    "qgrid_widget = qgrid.show_grid(missing_data_train, show_toolbar=True)\n",
    "qgrid_widget"
   ]
  },
  {
   "cell_type": "markdown",
   "id": "76ee6542",
   "metadata": {},
   "source": [
    "### Test Data"
   ]
  },
  {
   "cell_type": "code",
   "execution_count": 7,
   "id": "38d26827",
   "metadata": {},
   "outputs": [
    {
     "data": {
      "text/html": [
       "<div>\n",
       "<style scoped>\n",
       "    .dataframe tbody tr th:only-of-type {\n",
       "        vertical-align: middle;\n",
       "    }\n",
       "\n",
       "    .dataframe tbody tr th {\n",
       "        vertical-align: top;\n",
       "    }\n",
       "\n",
       "    .dataframe thead th {\n",
       "        text-align: right;\n",
       "    }\n",
       "</style>\n",
       "<table border=\"1\" class=\"dataframe\">\n",
       "  <thead>\n",
       "    <tr style=\"text-align: right;\">\n",
       "      <th></th>\n",
       "      <th>Total</th>\n",
       "      <th>%</th>\n",
       "    </tr>\n",
       "  </thead>\n",
       "  <tbody>\n",
       "    <tr>\n",
       "      <th>Cabin</th>\n",
       "      <td>327</td>\n",
       "      <td>78.2</td>\n",
       "    </tr>\n",
       "    <tr>\n",
       "      <th>Age</th>\n",
       "      <td>86</td>\n",
       "      <td>20.6</td>\n",
       "    </tr>\n",
       "    <tr>\n",
       "      <th>Fare</th>\n",
       "      <td>1</td>\n",
       "      <td>0.2</td>\n",
       "    </tr>\n",
       "    <tr>\n",
       "      <th>PassengerId</th>\n",
       "      <td>0</td>\n",
       "      <td>0.0</td>\n",
       "    </tr>\n",
       "    <tr>\n",
       "      <th>Pclass</th>\n",
       "      <td>0</td>\n",
       "      <td>0.0</td>\n",
       "    </tr>\n",
       "    <tr>\n",
       "      <th>Name</th>\n",
       "      <td>0</td>\n",
       "      <td>0.0</td>\n",
       "    </tr>\n",
       "    <tr>\n",
       "      <th>Sex</th>\n",
       "      <td>0</td>\n",
       "      <td>0.0</td>\n",
       "    </tr>\n",
       "    <tr>\n",
       "      <th>SibSp</th>\n",
       "      <td>0</td>\n",
       "      <td>0.0</td>\n",
       "    </tr>\n",
       "    <tr>\n",
       "      <th>Parch</th>\n",
       "      <td>0</td>\n",
       "      <td>0.0</td>\n",
       "    </tr>\n",
       "    <tr>\n",
       "      <th>Ticket</th>\n",
       "      <td>0</td>\n",
       "      <td>0.0</td>\n",
       "    </tr>\n",
       "    <tr>\n",
       "      <th>Embarked</th>\n",
       "      <td>0</td>\n",
       "      <td>0.0</td>\n",
       "    </tr>\n",
       "  </tbody>\n",
       "</table>\n",
       "</div>"
      ],
      "text/plain": [
       "             Total     %\n",
       "Cabin          327  78.2\n",
       "Age             86  20.6\n",
       "Fare             1   0.2\n",
       "PassengerId      0   0.0\n",
       "Pclass           0   0.0\n",
       "Name             0   0.0\n",
       "Sex              0   0.0\n",
       "SibSp            0   0.0\n",
       "Parch            0   0.0\n",
       "Ticket           0   0.0\n",
       "Embarked         0   0.0"
      ]
     },
     "execution_count": 7,
     "metadata": {},
     "output_type": "execute_result"
    }
   ],
   "source": [
    "# Quick check to see data columns\n",
    "total = test_df.isnull().sum().sort_values(ascending=False)\n",
    "percent_1 = test_df.isnull().sum() / test_df.isnull().count() * 100\n",
    "percent_2 = (round(percent_1, 1)).sort_values(ascending=False)\n",
    "missing_data_test = pd.concat([total, percent_2], axis=1, keys=[\"Total\", \"%\"])\n",
    "missing_data_test"
   ]
  },
  {
   "cell_type": "markdown",
   "id": "c9781a14",
   "metadata": {},
   "source": [
    "## Data Elements"
   ]
  },
  {
   "cell_type": "markdown",
   "id": "2b34806d",
   "metadata": {},
   "source": [
    "### Age and Sex"
   ]
  },
  {
   "cell_type": "code",
   "execution_count": 8,
   "id": "ee2c321e",
   "metadata": {},
   "outputs": [
    {
     "data": {
      "image/png": "[encoded data removed]",
      "text/plain": [
       "<Figure size 720x288 with 2 Axes>"
      ]
     },
     "metadata": {
      "needs_background": "light"
     },
     "output_type": "display_data"
    }
   ],
   "source": [
    "survived = 'survived'\n",
    "not_survived = 'not survived'\n",
    "fig, axes = plt.subplots(nrows=1, ncols=2,figsize=(10, 4))\n",
    "women = train_df[train_df['Sex']=='female']\n",
    "men = train_df[train_df['Sex']=='male']\n",
    "ax = sns.distplot(women[women['Survived']==1].Age.dropna(), bins=18, label = survived, ax = axes[0], kde =False)\n",
    "ax = sns.distplot(women[women['Survived']==0].Age.dropna(), bins=40, label = not_survived, ax = axes[0], kde =False)\n",
    "ax.legend()\n",
    "ax.set_title('Female')\n",
    "ax = sns.distplot(men[men['Survived']==1].Age.dropna(), bins=18, label = survived, ax = axes[1], kde = False)\n",
    "ax = sns.distplot(men[men['Survived']==0].Age.dropna(), bins=40, label = not_survived, ax = axes[1], kde = False)\n",
    "ax.legend()\n",
    "_ = ax.set_title('Male')"
   ]
  },
  {
   "cell_type": "markdown",
   "id": "22ea1c84",
   "metadata": {},
   "source": [
    "### Embarked, Pclass and Sex"
   ]
  },
  {
   "cell_type": "code",
   "execution_count": 9,
   "id": "66240c71",
   "metadata": {},
   "outputs": [
    {
     "data": {
      "text/plain": [
       "<seaborn.axisgrid.FacetGrid at 0x24e90014550>"
      ]
     },
     "execution_count": 9,
     "metadata": {},
     "output_type": "execute_result"
    },
    {
     "data": {
      "image/png": "[encoded data removed]",
      "text/plain": [
       "<Figure size 588.9x972 with 3 Axes>"
      ]
     },
     "metadata": {
      "needs_background": "light"
     },
     "output_type": "display_data"
    }
   ],
   "source": [
    "FacetGrid = sns.FacetGrid(train_df, row='Embarked', size=4.5, aspect=1.6)\n",
    "FacetGrid.map(sns.pointplot, 'Pclass', 'Survived', 'Sex', palette=None,  order=None, hue_order=None )\n",
    "FacetGrid.add_legend()"
   ]
  },
  {
   "cell_type": "markdown",
   "id": "da2496ce",
   "metadata": {},
   "source": [
    "### Pclass"
   ]
  },
  {
   "cell_type": "code",
   "execution_count": 10,
   "id": "7023a9e2",
   "metadata": {},
   "outputs": [
    {
     "data": {
      "text/plain": [
       "<AxesSubplot:xlabel='Pclass', ylabel='Survived'>"
      ]
     },
     "execution_count": 10,
     "metadata": {},
     "output_type": "execute_result"
    },
    {
     "data": {
      "image/png": "[encoded data removed]",
      "text/plain": [
       "<Figure size 432x288 with 1 Axes>"
      ]
     },
     "metadata": {
      "needs_background": "light"
     },
     "output_type": "display_data"
    }
   ],
   "source": [
    "sns.barplot(x='Pclass', y='Survived', data=train_df)"
   ]
  },
  {
   "cell_type": "code",
   "execution_count": 11,
   "id": "0af3ea7b",
   "metadata": {},
   "outputs": [
    {
     "data": {
      "image/png": "[encoded data removed]",
      "text/plain": [
       "<Figure size 514.88x475.2 with 6 Axes>"
      ]
     },
     "metadata": {
      "needs_background": "light"
     },
     "output_type": "display_data"
    }
   ],
   "source": [
    "grid = sns.FacetGrid(train_df, col='Survived', row='Pclass', size=2.2, aspect=1.6)\n",
    "grid.map(plt.hist, 'Age', alpha=.5, bins=20)\n",
    "grid.add_legend();"
   ]
  },
  {
   "cell_type": "markdown",
   "id": "28a44adf",
   "metadata": {},
   "source": [
    "### SibSp and Parch"
   ]
  },
  {
   "cell_type": "code",
   "execution_count": 12,
   "id": "c7185e9f",
   "metadata": {},
   "outputs": [
    {
     "data": {
      "text/plain": [
       "1    537\n",
       "0    354\n",
       "Name: not_alone, dtype: int64"
      ]
     },
     "execution_count": 12,
     "metadata": {},
     "output_type": "execute_result"
    }
   ],
   "source": [
    "data = [train_df, test_df]\n",
    "for dataset in data:\n",
    "    dataset['relatives'] = dataset['SibSp'] + dataset['Parch']\n",
    "    dataset.loc[dataset['relatives'] > 0, 'not_alone'] = 0\n",
    "    dataset.loc[dataset['relatives'] == 0, 'not_alone'] = 1\n",
    "    dataset['not_alone'] = dataset['not_alone'].astype(int)\n",
    "train_df['not_alone'].value_counts()"
   ]
  },
  {
   "cell_type": "code",
   "execution_count": 13,
   "id": "088c166f",
   "metadata": {},
   "outputs": [
    {
     "data": {
      "image/png": "[encoded data removed]",
      "text/plain": [
       "<Figure size 900x360 with 1 Axes>"
      ]
     },
     "metadata": {
      "needs_background": "light"
     },
     "output_type": "display_data"
    }
   ],
   "source": [
    "axes = sns.factorplot('relatives','Survived', \n",
    "                      data=train_df, aspect = 2.5, )"
   ]
  },
  {
   "cell_type": "markdown",
   "id": "0ba6cde5",
   "metadata": {},
   "source": [
    "## Data Preprocessing"
   ]
  },
  {
   "cell_type": "markdown",
   "id": "6da98fad",
   "metadata": {},
   "source": [
    "### Dropping Columns"
   ]
  },
  {
   "cell_type": "code",
   "execution_count": 14,
   "id": "1e5935a6",
   "metadata": {},
   "outputs": [],
   "source": [
    "train_df = train_df.drop(['PassengerId'], axis=1)"
   ]
  },
  {
   "cell_type": "markdown",
   "id": "0b139e96",
   "metadata": {},
   "source": [
    "### Missing Data"
   ]
  },
  {
   "cell_type": "markdown",
   "id": "7fd265bb",
   "metadata": {},
   "source": [
    "#### Cabin"
   ]
  },
  {
   "cell_type": "code",
   "execution_count": 15,
   "id": "58392c4c",
   "metadata": {},
   "outputs": [],
   "source": [
    "deck = {\"A\": 1, \"B\": 2, \"C\": 3, \"D\": 4, \"E\": 5, \"F\": 6, \"G\": 7, \"U\": 8}\n",
    "data = [train_df, test_df]\n",
    "\n",
    "for dataset in data:\n",
    "    dataset['Cabin'] = dataset['Cabin'].fillna(\"U0\")\n",
    "    dataset['Deck'] = dataset['Cabin'].map(lambda x: re.compile(\"([a-zA-Z]+)\").search(x).group())\n",
    "    dataset['Deck'] = dataset['Deck'].map(deck)\n",
    "    dataset['Deck'] = dataset['Deck'].fillna(0)\n",
    "    dataset['Deck'] = dataset['Deck'].astype(int)\n",
    "# we can now drop the cabin feature\n",
    "train_df = train_df.drop(['Cabin'], axis=1)\n",
    "test_df = test_df.drop(['Cabin'], axis=1)"
   ]
  },
  {
   "cell_type": "markdown",
   "id": "790194f1",
   "metadata": {},
   "source": [
    "#### Age"
   ]
  },
  {
   "cell_type": "code",
   "execution_count": 16,
   "id": "d58242da",
   "metadata": {},
   "outputs": [
    {
     "data": {
      "text/plain": [
       "0"
      ]
     },
     "execution_count": 16,
     "metadata": {},
     "output_type": "execute_result"
    }
   ],
   "source": [
    "data = [train_df, test_df]\n",
    "\n",
    "for dataset in data:\n",
    "    mean = train_df[\"Age\"].mean()\n",
    "    std = test_df[\"Age\"].std()\n",
    "    is_null = dataset[\"Age\"].isnull().sum()\n",
    "    # compute random numbers between the mean, std and is_null\n",
    "    rand_age = np.random.randint(mean - std, mean + std, size = is_null)\n",
    "    # fill NaN values in Age column with random values generated\n",
    "    age_slice = dataset[\"Age\"].copy()\n",
    "    age_slice[np.isnan(age_slice)] = rand_age\n",
    "    dataset[\"Age\"] = age_slice\n",
    "    dataset[\"Age\"] = train_df[\"Age\"].astype(int)\n",
    "train_df[\"Age\"].isnull().sum()"
   ]
  },
  {
   "cell_type": "markdown",
   "id": "d1d796a5",
   "metadata": {},
   "source": [
    "#### Embarked"
   ]
  },
  {
   "cell_type": "code",
   "execution_count": 17,
   "id": "d69cd4de",
   "metadata": {},
   "outputs": [
    {
     "data": {
      "text/plain": [
       "count     889\n",
       "unique      3\n",
       "top         S\n",
       "freq      644\n",
       "Name: Embarked, dtype: object"
      ]
     },
     "execution_count": 17,
     "metadata": {},
     "output_type": "execute_result"
    }
   ],
   "source": [
    "train_df['Embarked'].describe()"
   ]
  },
  {
   "cell_type": "code",
   "execution_count": 18,
   "id": "962235f1",
   "metadata": {},
   "outputs": [],
   "source": [
    "common_value = 'S'\n",
    "data = [train_df, test_df]\n",
    "\n",
    "for dataset in data:\n",
    "    dataset['Embarked'] = dataset['Embarked'].fillna(common_value)"
   ]
  },
  {
   "cell_type": "code",
   "execution_count": 19,
   "id": "90c9812b",
   "metadata": {},
   "outputs": [],
   "source": [
    "ports = {\"S\": 0, \"C\": 1, \"Q\": 2}\n",
    "data = [train_df, test_df]\n",
    "\n",
    "for dataset in data:\n",
    "    dataset['Embarked'] = dataset['Embarked'].map(ports)"
   ]
  },
  {
   "cell_type": "markdown",
   "id": "9ee24bf2",
   "metadata": {},
   "source": [
    "### Converting Feature"
   ]
  },
  {
   "cell_type": "markdown",
   "id": "b29a0c2e",
   "metadata": {},
   "source": [
    "#### Fare"
   ]
  },
  {
   "cell_type": "code",
   "execution_count": 20,
   "id": "bccd8f39",
   "metadata": {},
   "outputs": [],
   "source": [
    "data = [train_df, test_df]\n",
    "\n",
    "for dataset in data:\n",
    "    dataset['Fare'] = dataset['Fare'].fillna(0)\n",
    "    dataset['Fare'] = dataset['Fare'].astype(int)"
   ]
  },
  {
   "cell_type": "markdown",
   "id": "d5fcb899",
   "metadata": {},
   "source": [
    "#### Name"
   ]
  },
  {
   "cell_type": "code",
   "execution_count": 21,
   "id": "ed74a72b",
   "metadata": {},
   "outputs": [],
   "source": [
    "data = [train_df, test_df]\n",
    "titles = {\"Mr\": 1, \"Miss\": 2, \"Mrs\": 3, \"Master\": 4, \"Rare\": 5}\n",
    "\n",
    "for dataset in data:\n",
    "    # extract titles\n",
    "    dataset['Title'] = dataset.Name.str.extract(' ([A-Za-z]+)\\.', expand=False)\n",
    "    # replace titles with a more common title or as Rare\n",
    "    dataset['Title'] = dataset['Title'].replace(['Lady', 'Countess','Capt', 'Col','Don', 'Dr',\\\n",
    "                                            'Major', 'Rev', 'Sir', 'Jonkheer', 'Dona'], 'Rare')\n",
    "    dataset['Title'] = dataset['Title'].replace('Mlle', 'Miss')\n",
    "    dataset['Title'] = dataset['Title'].replace('Ms', 'Miss')\n",
    "    dataset['Title'] = dataset['Title'].replace('Mme', 'Mrs')\n",
    "    # convert titles into numbers\n",
    "    dataset['Title'] = dataset['Title'].map(titles)\n",
    "    # filling NaN with 0, to get safe\n",
    "    dataset['Title'] = dataset['Title'].fillna(0)\n",
    "train_df = train_df.drop(['Name'], axis=1)\n",
    "test_df = test_df.drop(['Name'], axis=1)"
   ]
  },
  {
   "cell_type": "markdown",
   "id": "414b393d",
   "metadata": {},
   "source": [
    "#### Sex"
   ]
  },
  {
   "cell_type": "code",
   "execution_count": 22,
   "id": "029cab85",
   "metadata": {},
   "outputs": [],
   "source": [
    "genders = {\"male\": 0, \"female\": 1}\n",
    "data = [train_df, test_df]\n",
    "\n",
    "for dataset in data:\n",
    "    dataset['Sex'] = dataset['Sex'].map(genders)"
   ]
  },
  {
   "cell_type": "markdown",
   "id": "e6cd0fad",
   "metadata": {},
   "source": [
    "#### Ticket"
   ]
  },
  {
   "cell_type": "code",
   "execution_count": 23,
   "id": "34ccdc9e",
   "metadata": {},
   "outputs": [],
   "source": [
    "train_df = train_df.drop(['Ticket'], axis=1)\n",
    "test_df = test_df.drop(['Ticket'], axis=1)"
   ]
  },
  {
   "cell_type": "markdown",
   "id": "2886aa44",
   "metadata": {},
   "source": [
    "### Creating Categories"
   ]
  },
  {
   "cell_type": "markdown",
   "id": "be7e4cd3",
   "metadata": {},
   "source": [
    "#### Age"
   ]
  },
  {
   "cell_type": "code",
   "execution_count": 24,
   "id": "5ca79573",
   "metadata": {},
   "outputs": [],
   "source": [
    "data = [train_df, test_df]\n",
    "for dataset in data:\n",
    "    dataset['Age'] = dataset['Age'].astype(int)\n",
    "    dataset.loc[ dataset['Age'] <= 11, 'Age'] = 0\n",
    "    dataset.loc[(dataset['Age'] > 11) & (dataset['Age'] <= 18), 'Age'] = 1\n",
    "    dataset.loc[(dataset['Age'] > 18) & (dataset['Age'] <= 22), 'Age'] = 2\n",
    "    dataset.loc[(dataset['Age'] > 22) & (dataset['Age'] <= 27), 'Age'] = 3\n",
    "    dataset.loc[(dataset['Age'] > 27) & (dataset['Age'] <= 33), 'Age'] = 4\n",
    "    dataset.loc[(dataset['Age'] > 33) & (dataset['Age'] <= 40), 'Age'] = 5\n",
    "    dataset.loc[(dataset['Age'] > 40) & (dataset['Age'] <= 66), 'Age'] = 6\n",
    "    dataset.loc[ dataset['Age'] > 66, 'Age'] = 6\n",
    "\n",
    "# let's see how it's distributed train_df['Age'].value_counts()"
   ]
  },
  {
   "cell_type": "markdown",
   "id": "bdbbea4d",
   "metadata": {},
   "source": [
    "#### Fare"
   ]
  },
  {
   "cell_type": "code",
   "execution_count": 25,
   "id": "e4c9f82d",
   "metadata": {},
   "outputs": [],
   "source": [
    "data = [train_df, test_df]\n",
    "\n",
    "for dataset in data:\n",
    "    dataset.loc[ dataset['Fare'] <= 7.91, 'Fare'] = 0\n",
    "    dataset.loc[(dataset['Fare'] > 7.91) & (dataset['Fare'] <= 14.454), 'Fare'] = 1\n",
    "    dataset.loc[(dataset['Fare'] > 14.454) & (dataset['Fare'] <= 31), 'Fare']   = 2\n",
    "    dataset.loc[(dataset['Fare'] > 31) & (dataset['Fare'] <= 99), 'Fare']   = 3\n",
    "    dataset.loc[(dataset['Fare'] > 99) & (dataset['Fare'] <= 250), 'Fare']   = 4\n",
    "    dataset.loc[ dataset['Fare'] > 250, 'Fare'] = 5\n",
    "    dataset['Fare'] = dataset['Fare'].astype(int)"
   ]
  },
  {
   "cell_type": "markdown",
   "id": "14547f6c",
   "metadata": {},
   "source": [
    "### Creating New Categories"
   ]
  },
  {
   "cell_type": "markdown",
   "id": "84682b0e",
   "metadata": {},
   "source": [
    "#### Age time Class"
   ]
  },
  {
   "cell_type": "code",
   "execution_count": 26,
   "id": "70a790a3",
   "metadata": {},
   "outputs": [],
   "source": [
    "data = [train_df, test_df]\n",
    "for dataset in data:\n",
    "    dataset['Age_Class']= dataset['Age']* dataset['Pclass']"
   ]
  },
  {
   "cell_type": "markdown",
   "id": "174e4073",
   "metadata": {},
   "source": [
    "#### Fare per person"
   ]
  },
  {
   "cell_type": "code",
   "execution_count": 27,
   "id": "635c25c8",
   "metadata": {},
   "outputs": [],
   "source": [
    "for dataset in data:\n",
    "    dataset['Fare_Per_Person'] = dataset['Fare']/(dataset['relatives']+1)\n",
    "    dataset['Fare_Per_Person'] = dataset['Fare_Per_Person'].astype(int)"
   ]
  },
  {
   "cell_type": "markdown",
   "id": "58f3bb03",
   "metadata": {},
   "source": [
    "# Model"
   ]
  },
  {
   "cell_type": "code",
   "execution_count": 28,
   "id": "fa37afcb",
   "metadata": {},
   "outputs": [],
   "source": [
    "X_train = train_df.drop(\"Survived\", axis=1)\n",
    "Y_train = train_df[\"Survived\"]\n",
    "X_test  = test_df.drop(\"PassengerId\", axis=1).copy()"
   ]
  },
  {
   "cell_type": "markdown",
   "id": "adcc7a26",
   "metadata": {},
   "source": [
    "## Stochastic Gradient Descent (SGD)"
   ]
  },
  {
   "cell_type": "code",
   "execution_count": 29,
   "id": "43459559",
   "metadata": {},
   "outputs": [],
   "source": [
    "sgd = linear_model.SGDClassifier(max_iter=5, tol=None)\n",
    "sgd.fit(X_train, Y_train)\n",
    "Y_pred = sgd.predict(X_test)\n",
    "\n",
    "sgd.score(X_train, Y_train)\n",
    "\n",
    "acc_sgd = round(sgd.score(X_train, Y_train) * 100, 2)"
   ]
  },
  {
   "cell_type": "markdown",
   "id": "c02a3b4a",
   "metadata": {},
   "source": [
    "## Random Forest"
   ]
  },
  {
   "cell_type": "code",
   "execution_count": 30,
   "id": "281cb4fc",
   "metadata": {},
   "outputs": [],
   "source": [
    "random_forest = RandomForestClassifier(n_estimators=100)\n",
    "random_forest.fit(X_train, Y_train)\n",
    "\n",
    "Y_prediction = random_forest.predict(X_test)\n",
    "\n",
    "random_forest.score(X_train, Y_train)\n",
    "acc_random_forest = round(random_forest.score(X_train, Y_train) * 100, 2)"
   ]
  },
  {
   "cell_type": "markdown",
   "id": "ed2f4cf3",
   "metadata": {},
   "source": [
    "## Logistic Regression"
   ]
  },
  {
   "cell_type": "code",
   "execution_count": 31,
   "id": "0c03d939",
   "metadata": {},
   "outputs": [],
   "source": [
    "logreg = LogisticRegression()\n",
    "logreg.fit(X_train, Y_train)\n",
    "\n",
    "Y_pred = logreg.predict(X_test)\n",
    "\n",
    "acc_log = round(logreg.score(X_train, Y_train) * 100, 2)"
   ]
  },
  {
   "cell_type": "markdown",
   "id": "48eb577a",
   "metadata": {},
   "source": [
    "## K Nearest Neighbor:"
   ]
  },
  {
   "cell_type": "code",
   "execution_count": 32,
   "id": "77fdba8b",
   "metadata": {},
   "outputs": [],
   "source": [
    "knn = KNeighborsClassifier(n_neighbors = 3)\n",
    "knn.fit(X_train, Y_train)  \n",
    "Y_pred = knn.predict(X_test)  \n",
    "acc_knn = round(knn.score(X_train, Y_train) * 100, 2)"
   ]
  },
  {
   "cell_type": "markdown",
   "id": "0d79449b",
   "metadata": {},
   "source": [
    "## Gaussian Naive Bayes:"
   ]
  },
  {
   "cell_type": "code",
   "execution_count": 33,
   "id": "c7969db4",
   "metadata": {},
   "outputs": [],
   "source": [
    "gaussian = GaussianNB() \n",
    "gaussian.fit(X_train, Y_train)  \n",
    "Y_pred = gaussian.predict(X_test)  \n",
    "acc_gaussian = round(gaussian.score(X_train, Y_train) * 100, 2)"
   ]
  },
  {
   "cell_type": "markdown",
   "id": "00a05372",
   "metadata": {},
   "source": [
    "## Perceptron:"
   ]
  },
  {
   "cell_type": "code",
   "execution_count": 34,
   "id": "75cc16a1",
   "metadata": {},
   "outputs": [],
   "source": [
    "perceptron = Perceptron(max_iter=5)\n",
    "perceptron.fit(X_train, Y_train)\n",
    "\n",
    "Y_pred = perceptron.predict(X_test)\n",
    "\n",
    "acc_perceptron = round(perceptron.score(X_train, Y_train) * 100, 2)"
   ]
  },
  {
   "cell_type": "markdown",
   "id": "7deb2b9f",
   "metadata": {},
   "source": [
    "## Linear Support Vector Machine:"
   ]
  },
  {
   "cell_type": "code",
   "execution_count": 35,
   "id": "aa4fbf6d",
   "metadata": {},
   "outputs": [],
   "source": [
    "linear_svc = LinearSVC()\n",
    "linear_svc.fit(X_train, Y_train)\n",
    "\n",
    "Y_pred = linear_svc.predict(X_test)\n",
    "\n",
    "acc_linear_svc = round(linear_svc.score(X_train, Y_train) * 100, 2)"
   ]
  },
  {
   "cell_type": "markdown",
   "id": "6440913a",
   "metadata": {},
   "source": [
    "## Decision Tree"
   ]
  },
  {
   "cell_type": "code",
   "execution_count": 36,
   "id": "725b66b1",
   "metadata": {},
   "outputs": [],
   "source": [
    "decision_tree = DecisionTreeClassifier() \n",
    "decision_tree.fit(X_train, Y_train) \n",
    "Y_pred = decision_tree.predict(X_test)  \n",
    "acc_decision_tree = round(decision_tree.score(X_train, Y_train) * 100, 2)"
   ]
  },
  {
   "cell_type": "markdown",
   "id": "5f5b228d",
   "metadata": {},
   "source": [
    "## Best Model"
   ]
  },
  {
   "cell_type": "code",
   "execution_count": 37,
   "id": "7da8df79",
   "metadata": {},
   "outputs": [
    {
     "data": {
      "text/html": [
       "<div>\n",
       "<style scoped>\n",
       "    .dataframe tbody tr th:only-of-type {\n",
       "        vertical-align: middle;\n",
       "    }\n",
       "\n",
       "    .dataframe tbody tr th {\n",
       "        vertical-align: top;\n",
       "    }\n",
       "\n",
       "    .dataframe thead th {\n",
       "        text-align: right;\n",
       "    }\n",
       "</style>\n",
       "<table border=\"1\" class=\"dataframe\">\n",
       "  <thead>\n",
       "    <tr style=\"text-align: right;\">\n",
       "      <th></th>\n",
       "      <th>Model</th>\n",
       "    </tr>\n",
       "    <tr>\n",
       "      <th>Score</th>\n",
       "      <th></th>\n",
       "    </tr>\n",
       "  </thead>\n",
       "  <tbody>\n",
       "    <tr>\n",
       "      <th>92.82</th>\n",
       "      <td>Random Forest</td>\n",
       "    </tr>\n",
       "    <tr>\n",
       "      <th>92.82</th>\n",
       "      <td>Decision Tree</td>\n",
       "    </tr>\n",
       "    <tr>\n",
       "      <th>85.97</th>\n",
       "      <td>KNN</td>\n",
       "    </tr>\n",
       "    <tr>\n",
       "      <th>81.59</th>\n",
       "      <td>Logistic Regression</td>\n",
       "    </tr>\n",
       "    <tr>\n",
       "      <th>81.26</th>\n",
       "      <td>Support Vector Machines</td>\n",
       "    </tr>\n",
       "    <tr>\n",
       "      <th>77.67</th>\n",
       "      <td>Naive Bayes</td>\n",
       "    </tr>\n",
       "    <tr>\n",
       "      <th>77.10</th>\n",
       "      <td>Perceptron</td>\n",
       "    </tr>\n",
       "    <tr>\n",
       "      <th>73.96</th>\n",
       "      <td>Stochastic Gradient Decent</td>\n",
       "    </tr>\n",
       "  </tbody>\n",
       "</table>\n",
       "</div>"
      ],
      "text/plain": [
       "                            Model\n",
       "Score                            \n",
       "92.82               Random Forest\n",
       "92.82               Decision Tree\n",
       "85.97                         KNN\n",
       "81.59         Logistic Regression\n",
       "81.26     Support Vector Machines\n",
       "77.67                 Naive Bayes\n",
       "77.10                  Perceptron\n",
       "73.96  Stochastic Gradient Decent"
      ]
     },
     "execution_count": 37,
     "metadata": {},
     "output_type": "execute_result"
    }
   ],
   "source": [
    "results = pd.DataFrame({\n",
    "    'Model': ['Support Vector Machines', 'KNN', 'Logistic Regression', \n",
    "              'Random Forest', 'Naive Bayes', 'Perceptron', \n",
    "              'Stochastic Gradient Decent', \n",
    "              'Decision Tree'],\n",
    "    'Score': [acc_linear_svc, acc_knn, acc_log, \n",
    "              acc_random_forest, acc_gaussian, acc_perceptron, \n",
    "              acc_sgd, acc_decision_tree]})\n",
    "result_df = results.sort_values(by='Score', ascending=False)\n",
    "result_df = result_df.set_index('Score')\n",
    "result_df.head(9)"
   ]
  },
  {
   "cell_type": "markdown",
   "id": "3da25fa2",
   "metadata": {},
   "source": [
    "## K-Fold Cross Validation:"
   ]
  },
  {
   "cell_type": "code",
   "execution_count": 38,
   "id": "050655af",
   "metadata": {},
   "outputs": [
    {
     "name": "stdout",
     "output_type": "stream",
     "text": [
      "Scores: [0.76666667 0.83146067 0.74157303 0.83146067 0.84269663 0.85393258\n",
      " 0.85393258 0.7752809  0.85393258 0.83146067]\n",
      "Mean: 0.8182397003745319\n",
      "Standard Deviation: 0.03915033065447534\n"
     ]
    }
   ],
   "source": [
    "rf = RandomForestClassifier(n_estimators=100)\n",
    "scores = cross_val_score(rf, X_train, Y_train, cv=10, scoring = \"accuracy\")\n",
    "print(\"Scores:\", scores)\n",
    "print(\"Mean:\", scores.mean())\n",
    "print(\"Standard Deviation:\", scores.std())"
   ]
  },
  {
   "cell_type": "markdown",
   "id": "43a5873b",
   "metadata": {},
   "source": [
    "### Feature Importance"
   ]
  },
  {
   "cell_type": "code",
   "execution_count": 39,
   "id": "996b17b2",
   "metadata": {},
   "outputs": [
    {
     "data": {
      "text/html": [
       "<div>\n",
       "<style scoped>\n",
       "    .dataframe tbody tr th:only-of-type {\n",
       "        vertical-align: middle;\n",
       "    }\n",
       "\n",
       "    .dataframe tbody tr th {\n",
       "        vertical-align: top;\n",
       "    }\n",
       "\n",
       "    .dataframe thead th {\n",
       "        text-align: right;\n",
       "    }\n",
       "</style>\n",
       "<table border=\"1\" class=\"dataframe\">\n",
       "  <thead>\n",
       "    <tr style=\"text-align: right;\">\n",
       "      <th></th>\n",
       "      <th>importance</th>\n",
       "    </tr>\n",
       "    <tr>\n",
       "      <th>feature</th>\n",
       "      <th></th>\n",
       "    </tr>\n",
       "  </thead>\n",
       "  <tbody>\n",
       "    <tr>\n",
       "      <th>Title</th>\n",
       "      <td>0.193</td>\n",
       "    </tr>\n",
       "    <tr>\n",
       "      <th>Sex</th>\n",
       "      <td>0.175</td>\n",
       "    </tr>\n",
       "    <tr>\n",
       "      <th>Age_Class</th>\n",
       "      <td>0.098</td>\n",
       "    </tr>\n",
       "    <tr>\n",
       "      <th>Deck</th>\n",
       "      <td>0.083</td>\n",
       "    </tr>\n",
       "    <tr>\n",
       "      <th>Age</th>\n",
       "      <td>0.081</td>\n",
       "    </tr>\n",
       "    <tr>\n",
       "      <th>Pclass</th>\n",
       "      <td>0.076</td>\n",
       "    </tr>\n",
       "    <tr>\n",
       "      <th>Fare</th>\n",
       "      <td>0.067</td>\n",
       "    </tr>\n",
       "    <tr>\n",
       "      <th>relatives</th>\n",
       "      <td>0.059</td>\n",
       "    </tr>\n",
       "    <tr>\n",
       "      <th>Embarked</th>\n",
       "      <td>0.053</td>\n",
       "    </tr>\n",
       "    <tr>\n",
       "      <th>Fare_Per_Person</th>\n",
       "      <td>0.040</td>\n",
       "    </tr>\n",
       "    <tr>\n",
       "      <th>SibSp</th>\n",
       "      <td>0.038</td>\n",
       "    </tr>\n",
       "    <tr>\n",
       "      <th>Parch</th>\n",
       "      <td>0.023</td>\n",
       "    </tr>\n",
       "    <tr>\n",
       "      <th>not_alone</th>\n",
       "      <td>0.013</td>\n",
       "    </tr>\n",
       "  </tbody>\n",
       "</table>\n",
       "</div>"
      ],
      "text/plain": [
       "                 importance\n",
       "feature                    \n",
       "Title                 0.193\n",
       "Sex                   0.175\n",
       "Age_Class             0.098\n",
       "Deck                  0.083\n",
       "Age                   0.081\n",
       "Pclass                0.076\n",
       "Fare                  0.067\n",
       "relatives             0.059\n",
       "Embarked              0.053\n",
       "Fare_Per_Person       0.040\n",
       "SibSp                 0.038\n",
       "Parch                 0.023\n",
       "not_alone             0.013"
      ]
     },
     "execution_count": 39,
     "metadata": {},
     "output_type": "execute_result"
    }
   ],
   "source": [
    "importances = pd.DataFrame({'feature':X_train.columns,'importance':np.round(random_forest.feature_importances_,3)})\n",
    "importances = importances.sort_values('importance',ascending=False).set_index('feature')\n",
    "importances.head(15)"
   ]
  },
  {
   "cell_type": "code",
   "execution_count": 40,
   "id": "ab7d61e3",
   "metadata": {},
   "outputs": [
    {
     "data": {
      "text/plain": [
       "<AxesSubplot:xlabel='feature'>"
      ]
     },
     "execution_count": 40,
     "metadata": {},
     "output_type": "execute_result"
    },
    {
     "data": {
      "image/png": "[encoded data removed]",
      "text/plain": [
       "<Figure size 432x288 with 1 Axes>"
      ]
     },
     "metadata": {
      "needs_background": "light"
     },
     "output_type": "display_data"
    }
   ],
   "source": [
    "importances.plot.bar()"
   ]
  },
  {
   "cell_type": "code",
   "execution_count": 41,
   "id": "dfa448aa",
   "metadata": {},
   "outputs": [],
   "source": [
    "train_df  = train_df.drop(\"not_alone\", axis=1)\n",
    "test_df  = test_df.drop(\"not_alone\", axis=1)\n",
    "\n",
    "train_df  = train_df.drop(\"Parch\", axis=1)\n",
    "test_df  = test_df.drop(\"Parch\", axis=1)"
   ]
  },
  {
   "cell_type": "markdown",
   "id": "5f671bc4",
   "metadata": {},
   "source": [
    "### Retraining model"
   ]
  },
  {
   "cell_type": "code",
   "execution_count": 42,
   "id": "daece982",
   "metadata": {},
   "outputs": [
    {
     "name": "stdout",
     "output_type": "stream",
     "text": [
      "92.82 %\n"
     ]
    }
   ],
   "source": [
    "# Random Forest\n",
    "\n",
    "random_forest = RandomForestClassifier(n_estimators=100,  oob_score = True)\n",
    "random_forest.fit(X_train, Y_train)\n",
    "Y_prediction = random_forest.predict(X_test)\n",
    "\n",
    "random_forest.score(X_train, Y_train)\n",
    "\n",
    "acc_random_forest = round(random_forest.score(X_train, Y_train) * 100, 2)\n",
    "print(round(acc_random_forest,2,), \"%\")"
   ]
  },
  {
   "cell_type": "markdown",
   "id": "bb1f454b",
   "metadata": {},
   "source": [
    "## Hyperparameter Tuning"
   ]
  },
  {
   "cell_type": "code",
   "execution_count": 43,
   "id": "5b568dfe",
   "metadata": {},
   "outputs": [
    {
     "name": "stderr",
     "output_type": "stream",
     "text": [
      "\u001b[32m[I 2021-12-20 16:41:23,798]\u001b[0m A new study created in memory with name: no-name-6b34dc52-dbfb-4333-a65c-4bdaf35ab8b2\u001b[0m\n",
      "\u001b[32m[I 2021-12-20 16:41:28,154]\u001b[0m Trial 0 finished with value: 0.829405162738496 and parameters: {'classifier': 'RandomForest', 'rf_n_estimators': 746, 'rf_max_depth': 4}. Best is trial 0 with value: 0.829405162738496.\u001b[0m\n",
      "\u001b[32m[I 2021-12-20 16:41:30,755]\u001b[0m Trial 1 finished with value: 0.8148148148148149 and parameters: {'classifier': 'RandomForest', 'rf_n_estimators': 693, 'rf_max_depth': 9}. Best is trial 0 with value: 0.829405162738496.\u001b[0m\n",
      "\u001b[32m[I 2021-12-20 16:41:32,068]\u001b[0m Trial 2 finished with value: 0.7957351290684623 and parameters: {'classifier': 'LogReg', 'logreg_c': 9822.277336775514}. Best is trial 0 with value: 0.829405162738496.\u001b[0m\n",
      "\u001b[32m[I 2021-12-20 16:41:34,406]\u001b[0m Trial 3 finished with value: 0.8215488215488215 and parameters: {'classifier': 'RandomForest', 'rf_n_estimators': 504, 'rf_max_depth': 7}. Best is trial 0 with value: 0.829405162738496.\u001b[0m\n",
      "\u001b[32m[I 2021-12-20 16:41:36,099]\u001b[0m Trial 4 finished with value: 0.7957351290684623 and parameters: {'classifier': 'LogReg', 'logreg_c': 70603.74215330019}. Best is trial 0 with value: 0.829405162738496.\u001b[0m\n",
      "\u001b[32m[I 2021-12-20 16:41:37,991]\u001b[0m Trial 5 finished with value: 0.8249158249158249 and parameters: {'classifier': 'RandomForest', 'rf_n_estimators': 344, 'rf_max_depth': 6}. Best is trial 0 with value: 0.829405162738496.\u001b[0m\n",
      "\u001b[32m[I 2021-12-20 16:41:38,035]\u001b[0m Trial 6 finished with value: 0.7957351290684623 and parameters: {'classifier': 'LogReg', 'logreg_c': 18409.031507317217}. Best is trial 0 with value: 0.829405162738496.\u001b[0m\n",
      "\u001b[32m[I 2021-12-20 16:41:38,084]\u001b[0m Trial 7 finished with value: 0.8024691358024691 and parameters: {'classifier': 'LogReg', 'logreg_c': 0.8150674381056996}. Best is trial 0 with value: 0.829405162738496.\u001b[0m\n",
      "\u001b[32m[I 2021-12-20 16:41:39,489]\u001b[0m Trial 8 finished with value: 0.809203142536476 and parameters: {'classifier': 'RandomForest', 'rf_n_estimators': 660, 'rf_max_depth': 25}. Best is trial 0 with value: 0.829405162738496.\u001b[0m\n",
      "\u001b[32m[I 2021-12-20 16:41:39,960]\u001b[0m Trial 9 finished with value: 0.8125701459034792 and parameters: {'classifier': 'RandomForest', 'rf_n_estimators': 185, 'rf_max_depth': 12}. Best is trial 0 with value: 0.829405162738496.\u001b[0m\n",
      "\u001b[32m[I 2021-12-20 16:41:41,651]\u001b[0m Trial 10 finished with value: 0.8159371492704826 and parameters: {'classifier': 'RandomForest', 'rf_n_estimators': 984, 'rf_max_depth': 2}. Best is trial 0 with value: 0.829405162738496.\u001b[0m\n",
      "\u001b[32m[I 2021-12-20 16:41:42,057]\u001b[0m Trial 11 finished with value: 0.8271604938271606 and parameters: {'classifier': 'RandomForest', 'rf_n_estimators': 218, 'rf_max_depth': 3}. Best is trial 0 with value: 0.829405162738496.\u001b[0m\n",
      "\u001b[32m[I 2021-12-20 16:41:42,304]\u001b[0m Trial 12 finished with value: 0.8181818181818182 and parameters: {'classifier': 'RandomForest', 'rf_n_estimators': 68, 'rf_max_depth': 2}. Best is trial 0 with value: 0.829405162738496.\u001b[0m\n",
      "\u001b[32m[I 2021-12-20 16:41:43,910]\u001b[0m Trial 13 finished with value: 0.8294051627384961 and parameters: {'classifier': 'RandomForest', 'rf_n_estimators': 944, 'rf_max_depth': 4}. Best is trial 13 with value: 0.8294051627384961.\u001b[0m\n",
      "\u001b[32m[I 2021-12-20 16:41:45,481]\u001b[0m Trial 14 finished with value: 0.8282828282828283 and parameters: {'classifier': 'RandomForest', 'rf_n_estimators': 990, 'rf_max_depth': 4}. Best is trial 13 with value: 0.8294051627384961.\u001b[0m\n",
      "\u001b[32m[I 2021-12-20 16:41:46,732]\u001b[0m Trial 15 finished with value: 0.8249158249158248 and parameters: {'classifier': 'RandomForest', 'rf_n_estimators': 778, 'rf_max_depth': 5}. Best is trial 13 with value: 0.8294051627384961.\u001b[0m\n",
      "\u001b[32m[I 2021-12-20 16:41:48,048]\u001b[0m Trial 16 finished with value: 0.8249158249158249 and parameters: {'classifier': 'RandomForest', 'rf_n_estimators': 841, 'rf_max_depth': 3}. Best is trial 13 with value: 0.8294051627384961.\u001b[0m\n",
      "\u001b[32m[I 2021-12-20 16:41:49,150]\u001b[0m Trial 17 finished with value: 0.8136924803591471 and parameters: {'classifier': 'RandomForest', 'rf_n_estimators': 575, 'rf_max_depth': 15}. Best is trial 13 with value: 0.8294051627384961.\u001b[0m\n",
      "\u001b[32m[I 2021-12-20 16:41:49,183]\u001b[0m Trial 18 finished with value: 0.6161616161616161 and parameters: {'classifier': 'LogReg', 'logreg_c': 8.521899017353835e-10}. Best is trial 13 with value: 0.8294051627384961.\u001b[0m\n",
      "\u001b[32m[I 2021-12-20 16:41:50,550]\u001b[0m Trial 19 finished with value: 0.8260381593714928 and parameters: {'classifier': 'RandomForest', 'rf_n_estimators': 891, 'rf_max_depth': 3}. Best is trial 13 with value: 0.8294051627384961.\u001b[0m\n",
      "\u001b[32m[I 2021-12-20 16:41:51,716]\u001b[0m Trial 20 finished with value: 0.8282828282828283 and parameters: {'classifier': 'RandomForest', 'rf_n_estimators': 755, 'rf_max_depth': 4}. Best is trial 13 with value: 0.8294051627384961.\u001b[0m\n",
      "\u001b[32m[I 2021-12-20 16:41:53,283]\u001b[0m Trial 21 finished with value: 0.8271604938271605 and parameters: {'classifier': 'RandomForest', 'rf_n_estimators': 988, 'rf_max_depth': 4}. Best is trial 13 with value: 0.8294051627384961.\u001b[0m\n",
      "\u001b[32m[I 2021-12-20 16:41:54,733]\u001b[0m Trial 22 finished with value: 0.829405162738496 and parameters: {'classifier': 'RandomForest', 'rf_n_estimators': 901, 'rf_max_depth': 4}. Best is trial 13 with value: 0.8294051627384961.\u001b[0m\n",
      "\u001b[32m[I 2021-12-20 16:41:56,322]\u001b[0m Trial 23 finished with value: 0.8226711560044894 and parameters: {'classifier': 'RandomForest', 'rf_n_estimators': 874, 'rf_max_depth': 8}. Best is trial 13 with value: 0.8294051627384961.\u001b[0m\n",
      "\u001b[32m[I 2021-12-20 16:41:57,904]\u001b[0m Trial 24 finished with value: 0.8249158249158248 and parameters: {'classifier': 'RandomForest', 'rf_n_estimators': 867, 'rf_max_depth': 5}. Best is trial 13 with value: 0.8294051627384961.\u001b[0m\n",
      "\u001b[32m[I 2021-12-20 16:41:58,840]\u001b[0m Trial 25 finished with value: 0.8204264870931538 and parameters: {'classifier': 'RandomForest', 'rf_n_estimators': 575, 'rf_max_depth': 3}. Best is trial 13 with value: 0.8294051627384961.\u001b[0m\n",
      "\u001b[32m[I 2021-12-20 16:41:58,867]\u001b[0m Trial 26 finished with value: 0.6161616161616161 and parameters: {'classifier': 'LogReg', 'logreg_c': 3.007415871965583e-10}. Best is trial 13 with value: 0.8294051627384961.\u001b[0m\n",
      "\u001b[32m[I 2021-12-20 16:42:00,049]\u001b[0m Trial 27 finished with value: 0.8080808080808081 and parameters: {'classifier': 'RandomForest', 'rf_n_estimators': 768, 'rf_max_depth': 2}. Best is trial 13 with value: 0.8294051627384961.\u001b[0m\n",
      "\u001b[32m[I 2021-12-20 16:42:00,787]\u001b[0m Trial 28 finished with value: 0.8226711560044894 and parameters: {'classifier': 'RandomForest', 'rf_n_estimators': 436, 'rf_max_depth': 5}. Best is trial 13 with value: 0.8294051627384961.\u001b[0m\n",
      "\u001b[32m[I 2021-12-20 16:42:02,066]\u001b[0m Trial 29 finished with value: 0.8181818181818182 and parameters: {'classifier': 'RandomForest', 'rf_n_estimators': 668, 'rf_max_depth': 10}. Best is trial 13 with value: 0.8294051627384961.\u001b[0m\n",
      "\u001b[32m[I 2021-12-20 16:42:03,630]\u001b[0m Trial 30 finished with value: 0.8282828282828284 and parameters: {'classifier': 'RandomForest', 'rf_n_estimators': 903, 'rf_max_depth': 6}. Best is trial 13 with value: 0.8294051627384961.\u001b[0m\n",
      "\u001b[32m[I 2021-12-20 16:42:05,183]\u001b[0m Trial 31 finished with value: 0.8282828282828284 and parameters: {'classifier': 'RandomForest', 'rf_n_estimators': 927, 'rf_max_depth': 6}. Best is trial 13 with value: 0.8294051627384961.\u001b[0m\n",
      "\u001b[32m[I 2021-12-20 16:42:06,483]\u001b[0m Trial 32 finished with value: 0.8271604938271605 and parameters: {'classifier': 'RandomForest', 'rf_n_estimators': 814, 'rf_max_depth': 4}. Best is trial 13 with value: 0.8294051627384961.\u001b[0m\n",
      "\u001b[32m[I 2021-12-20 16:42:08,055]\u001b[0m Trial 33 finished with value: 0.8271604938271606 and parameters: {'classifier': 'RandomForest', 'rf_n_estimators': 926, 'rf_max_depth': 6}. Best is trial 13 with value: 0.8294051627384961.\u001b[0m\n",
      "\u001b[32m[I 2021-12-20 16:42:08,090]\u001b[0m Trial 34 finished with value: 0.6835016835016835 and parameters: {'classifier': 'LogReg', 'logreg_c': 0.000488183079795155}. Best is trial 13 with value: 0.8294051627384961.\u001b[0m\n",
      "\u001b[32m[I 2021-12-20 16:42:09,250]\u001b[0m Trial 35 finished with value: 0.8226711560044894 and parameters: {'classifier': 'RandomForest', 'rf_n_estimators': 735, 'rf_max_depth': 3}. Best is trial 13 with value: 0.8294051627384961.\u001b[0m\n"
     ]
    },
    {
     "name": "stderr",
     "output_type": "stream",
     "text": [
      "\u001b[32m[I 2021-12-20 16:42:11,084]\u001b[0m Trial 36 finished with value: 0.8271604938271605 and parameters: {'classifier': 'RandomForest', 'rf_n_estimators': 941, 'rf_max_depth': 4}. Best is trial 13 with value: 0.8294051627384961.\u001b[0m\n",
      "\u001b[32m[I 2021-12-20 16:42:11,139]\u001b[0m Trial 37 finished with value: 0.7957351290684623 and parameters: {'classifier': 'LogReg', 'logreg_c': 1525493610.0546749}. Best is trial 13 with value: 0.8294051627384961.\u001b[0m\n",
      "\u001b[32m[I 2021-12-20 16:42:12,813]\u001b[0m Trial 38 finished with value: 0.8114478114478114 and parameters: {'classifier': 'RandomForest', 'rf_n_estimators': 695, 'rf_max_depth': 11}. Best is trial 13 with value: 0.8294051627384961.\u001b[0m\n",
      "\u001b[32m[I 2021-12-20 16:42:14,653]\u001b[0m Trial 39 finished with value: 0.8148148148148149 and parameters: {'classifier': 'RandomForest', 'rf_n_estimators': 814, 'rf_max_depth': 8}. Best is trial 13 with value: 0.8294051627384961.\u001b[0m\n",
      "\u001b[32m[I 2021-12-20 16:42:14,675]\u001b[0m Trial 40 finished with value: 0.6161616161616161 and parameters: {'classifier': 'LogReg', 'logreg_c': 2.529729167880695e-05}. Best is trial 13 with value: 0.8294051627384961.\u001b[0m\n",
      "\u001b[32m[I 2021-12-20 16:42:16,598]\u001b[0m Trial 41 finished with value: 0.8260381593714928 and parameters: {'classifier': 'RandomForest', 'rf_n_estimators': 930, 'rf_max_depth': 6}. Best is trial 13 with value: 0.8294051627384961.\u001b[0m\n",
      "\u001b[32m[I 2021-12-20 16:42:18,565]\u001b[0m Trial 42 finished with value: 0.8260381593714926 and parameters: {'classifier': 'RandomForest', 'rf_n_estimators': 891, 'rf_max_depth': 5}. Best is trial 13 with value: 0.8294051627384961.\u001b[0m\n",
      "\u001b[32m[I 2021-12-20 16:42:20,541]\u001b[0m Trial 43 finished with value: 0.8260381593714928 and parameters: {'classifier': 'RandomForest', 'rf_n_estimators': 936, 'rf_max_depth': 7}. Best is trial 13 with value: 0.8294051627384961.\u001b[0m\n",
      "\u001b[32m[I 2021-12-20 16:42:22,283]\u001b[0m Trial 44 finished with value: 0.8271604938271605 and parameters: {'classifier': 'RandomForest', 'rf_n_estimators': 834, 'rf_max_depth': 6}. Best is trial 13 with value: 0.8294051627384961.\u001b[0m\n",
      "\u001b[32m[I 2021-12-20 16:42:24,423]\u001b[0m Trial 45 finished with value: 0.8215488215488215 and parameters: {'classifier': 'RandomForest', 'rf_n_estimators': 915, 'rf_max_depth': 8}. Best is trial 13 with value: 0.8294051627384961.\u001b[0m\n",
      "\u001b[32m[I 2021-12-20 16:42:26,041]\u001b[0m Trial 46 finished with value: 0.8136924803591471 and parameters: {'classifier': 'RandomForest', 'rf_n_estimators': 703, 'rf_max_depth': 14}. Best is trial 13 with value: 0.8294051627384961.\u001b[0m\n",
      "\u001b[32m[I 2021-12-20 16:42:27,431]\u001b[0m Trial 47 finished with value: 0.8114478114478114 and parameters: {'classifier': 'RandomForest', 'rf_n_estimators': 619, 'rf_max_depth': 29}. Best is trial 13 with value: 0.8294051627384961.\u001b[0m\n",
      "\u001b[32m[I 2021-12-20 16:42:28,413]\u001b[0m Trial 48 finished with value: 0.8294051627384961 and parameters: {'classifier': 'RandomForest', 'rf_n_estimators': 463, 'rf_max_depth': 6}. Best is trial 13 with value: 0.8294051627384961.\u001b[0m\n",
      "\u001b[32m[I 2021-12-20 16:42:29,344]\u001b[0m Trial 49 finished with value: 0.8249158249158249 and parameters: {'classifier': 'RandomForest', 'rf_n_estimators': 446, 'rf_max_depth': 5}. Best is trial 13 with value: 0.8294051627384961.\u001b[0m\n",
      "\u001b[32m[I 2021-12-20 16:42:29,414]\u001b[0m Trial 50 finished with value: 0.7957351290684623 and parameters: {'classifier': 'LogReg', 'logreg_c': 132743331.20592767}. Best is trial 13 with value: 0.8294051627384961.\u001b[0m\n",
      "\u001b[32m[I 2021-12-20 16:42:30,282]\u001b[0m Trial 51 finished with value: 0.8260381593714928 and parameters: {'classifier': 'RandomForest', 'rf_n_estimators': 327, 'rf_max_depth': 6}. Best is trial 13 with value: 0.8294051627384961.\u001b[0m\n",
      "\u001b[32m[I 2021-12-20 16:42:31,330]\u001b[0m Trial 52 finished with value: 0.8282828282828282 and parameters: {'classifier': 'RandomForest', 'rf_n_estimators': 510, 'rf_max_depth': 4}. Best is trial 13 with value: 0.8294051627384961.\u001b[0m\n",
      "\u001b[32m[I 2021-12-20 16:42:32,079]\u001b[0m Trial 53 finished with value: 0.8282828282828283 and parameters: {'classifier': 'RandomForest', 'rf_n_estimators': 343, 'rf_max_depth': 7}. Best is trial 13 with value: 0.8294051627384961.\u001b[0m\n",
      "\u001b[32m[I 2021-12-20 16:42:32,966]\u001b[0m Trial 54 finished with value: 0.8260381593714928 and parameters: {'classifier': 'RandomForest', 'rf_n_estimators': 431, 'rf_max_depth': 5}. Best is trial 13 with value: 0.8294051627384961.\u001b[0m\n",
      "\u001b[32m[I 2021-12-20 16:42:35,059]\u001b[0m Trial 55 finished with value: 0.8282828282828283 and parameters: {'classifier': 'RandomForest', 'rf_n_estimators': 998, 'rf_max_depth': 6}. Best is trial 13 with value: 0.8294051627384961.\u001b[0m\n",
      "\u001b[32m[I 2021-12-20 16:42:37,247]\u001b[0m Trial 56 finished with value: 0.8170594837261503 and parameters: {'classifier': 'RandomForest', 'rf_n_estimators': 951, 'rf_max_depth': 9}. Best is trial 13 with value: 0.8294051627384961.\u001b[0m\n",
      "\u001b[32m[I 2021-12-20 16:42:38,915]\u001b[0m Trial 57 finished with value: 0.8249158249158249 and parameters: {'classifier': 'RandomForest', 'rf_n_estimators': 850, 'rf_max_depth': 4}. Best is trial 13 with value: 0.8294051627384961.\u001b[0m\n",
      "\u001b[32m[I 2021-12-20 16:42:39,445]\u001b[0m Trial 58 finished with value: 0.8271604938271606 and parameters: {'classifier': 'RandomForest', 'rf_n_estimators': 254, 'rf_max_depth': 3}. Best is trial 13 with value: 0.8294051627384961.\u001b[0m\n",
      "\u001b[32m[I 2021-12-20 16:42:41,143]\u001b[0m Trial 59 finished with value: 0.8237934904601572 and parameters: {'classifier': 'RandomForest', 'rf_n_estimators': 797, 'rf_max_depth': 7}. Best is trial 13 with value: 0.8294051627384961.\u001b[0m\n",
      "\u001b[32m[I 2021-12-20 16:42:43,180]\u001b[0m Trial 60 finished with value: 0.8282828282828283 and parameters: {'classifier': 'RandomForest', 'rf_n_estimators': 965, 'rf_max_depth': 5}. Best is trial 13 with value: 0.8294051627384961.\u001b[0m\n",
      "\u001b[32m[I 2021-12-20 16:42:45,003]\u001b[0m Trial 61 finished with value: 0.8249158249158249 and parameters: {'classifier': 'RandomForest', 'rf_n_estimators': 887, 'rf_max_depth': 5}. Best is trial 13 with value: 0.8294051627384961.\u001b[0m\n",
      "\u001b[32m[I 2021-12-20 16:42:47,068]\u001b[0m Trial 62 finished with value: 0.8294051627384961 and parameters: {'classifier': 'RandomForest', 'rf_n_estimators': 962, 'rf_max_depth': 6}. Best is trial 13 with value: 0.8294051627384961.\u001b[0m\n",
      "\u001b[32m[I 2021-12-20 16:42:49,147]\u001b[0m Trial 63 finished with value: 0.8159371492704826 and parameters: {'classifier': 'RandomForest', 'rf_n_estimators': 896, 'rf_max_depth': 9}. Best is trial 13 with value: 0.8294051627384961.\u001b[0m\n",
      "\u001b[32m[I 2021-12-20 16:42:51,259]\u001b[0m Trial 64 finished with value: 0.8260381593714928 and parameters: {'classifier': 'RandomForest', 'rf_n_estimators': 1000, 'rf_max_depth': 6}. Best is trial 13 with value: 0.8294051627384961.\u001b[0m\n",
      "\u001b[32m[I 2021-12-20 16:42:53,109]\u001b[0m Trial 65 finished with value: 0.8226711560044894 and parameters: {'classifier': 'RandomForest', 'rf_n_estimators': 849, 'rf_max_depth': 8}. Best is trial 13 with value: 0.8294051627384961.\u001b[0m\n",
      "\u001b[32m[I 2021-12-20 16:42:54,386]\u001b[0m Trial 66 finished with value: 0.8114478114478114 and parameters: {'classifier': 'RandomForest', 'rf_n_estimators': 506, 'rf_max_depth': 20}. Best is trial 13 with value: 0.8294051627384961.\u001b[0m\n",
      "\u001b[32m[I 2021-12-20 16:42:54,419]\u001b[0m Trial 67 finished with value: 0.6161616161616161 and parameters: {'classifier': 'LogReg', 'logreg_c': 5.329121802016744e-06}. Best is trial 13 with value: 0.8294051627384961.\u001b[0m\n",
      "\u001b[32m[I 2021-12-20 16:42:56,293]\u001b[0m Trial 68 finished with value: 0.8305274971941637 and parameters: {'classifier': 'RandomForest', 'rf_n_estimators': 961, 'rf_max_depth': 4}. Best is trial 68 with value: 0.8305274971941637.\u001b[0m\n",
      "\u001b[32m[I 2021-12-20 16:42:58,196]\u001b[0m Trial 69 finished with value: 0.8271604938271605 and parameters: {'classifier': 'RandomForest', 'rf_n_estimators': 955, 'rf_max_depth': 4}. Best is trial 68 with value: 0.8305274971941637.\u001b[0m\n",
      "\u001b[32m[I 2021-12-20 16:42:58,415]\u001b[0m Trial 70 finished with value: 0.8237934904601572 and parameters: {'classifier': 'RandomForest', 'rf_n_estimators': 93, 'rf_max_depth': 3}. Best is trial 68 with value: 0.8305274971941637.\u001b[0m\n",
      "\u001b[32m[I 2021-12-20 16:43:00,612]\u001b[0m Trial 71 finished with value: 0.8237934904601572 and parameters: {'classifier': 'RandomForest', 'rf_n_estimators': 964, 'rf_max_depth': 7}. Best is trial 68 with value: 0.8305274971941637.\u001b[0m\n"
     ]
    },
    {
     "name": "stderr",
     "output_type": "stream",
     "text": [
      "\u001b[32m[I 2021-12-20 16:43:02,483]\u001b[0m Trial 72 finished with value: 0.8282828282828283 and parameters: {'classifier': 'RandomForest', 'rf_n_estimators': 902, 'rf_max_depth': 5}. Best is trial 68 with value: 0.8305274971941637.\u001b[0m\n",
      "\u001b[32m[I 2021-12-20 16:43:03,965]\u001b[0m Trial 73 finished with value: 0.829405162738496 and parameters: {'classifier': 'RandomForest', 'rf_n_estimators': 741, 'rf_max_depth': 4}. Best is trial 68 with value: 0.8305274971941637.\u001b[0m\n",
      "\u001b[32m[I 2021-12-20 16:43:05,428]\u001b[0m Trial 74 finished with value: 0.8282828282828282 and parameters: {'classifier': 'RandomForest', 'rf_n_estimators': 728, 'rf_max_depth': 4}. Best is trial 68 with value: 0.8305274971941637.\u001b[0m\n",
      "\u001b[32m[I 2021-12-20 16:43:06,612]\u001b[0m Trial 75 finished with value: 0.8271604938271605 and parameters: {'classifier': 'RandomForest', 'rf_n_estimators': 559, 'rf_max_depth': 4}. Best is trial 68 with value: 0.8305274971941637.\u001b[0m\n",
      "\u001b[32m[I 2021-12-20 16:43:07,384]\u001b[0m Trial 76 finished with value: 0.8237934904601572 and parameters: {'classifier': 'RandomForest', 'rf_n_estimators': 397, 'rf_max_depth': 3}. Best is trial 68 with value: 0.8305274971941637.\u001b[0m\n",
      "\u001b[32m[I 2021-12-20 16:43:08,749]\u001b[0m Trial 77 finished with value: 0.8159371492704826 and parameters: {'classifier': 'RandomForest', 'rf_n_estimators': 615, 'rf_max_depth': 10}. Best is trial 68 with value: 0.8305274971941637.\u001b[0m\n",
      "\u001b[32m[I 2021-12-20 16:43:08,819]\u001b[0m Trial 78 finished with value: 0.7968574635241302 and parameters: {'classifier': 'LogReg', 'logreg_c': 2.5908922824189617}. Best is trial 68 with value: 0.8305274971941637.\u001b[0m\n",
      "\u001b[32m[I 2021-12-20 16:43:10,407]\u001b[0m Trial 79 finished with value: 0.8237934904601572 and parameters: {'classifier': 'RandomForest', 'rf_n_estimators': 793, 'rf_max_depth': 3}. Best is trial 68 with value: 0.8305274971941637.\u001b[0m\n",
      "\u001b[32m[I 2021-12-20 16:43:12,233]\u001b[0m Trial 80 finished with value: 0.8215488215488215 and parameters: {'classifier': 'RandomForest', 'rf_n_estimators': 869, 'rf_max_depth': 5}. Best is trial 68 with value: 0.8305274971941637.\u001b[0m\n",
      "\u001b[32m[I 2021-12-20 16:43:13,848]\u001b[0m Trial 81 finished with value: 0.8282828282828283 and parameters: {'classifier': 'RandomForest', 'rf_n_estimators': 918, 'rf_max_depth': 6}. Best is trial 68 with value: 0.8305274971941637.\u001b[0m\n",
      "\u001b[32m[I 2021-12-20 16:43:15,490]\u001b[0m Trial 82 finished with value: 0.830527497194164 and parameters: {'classifier': 'RandomForest', 'rf_n_estimators': 974, 'rf_max_depth': 4}. Best is trial 82 with value: 0.830527497194164.\u001b[0m\n",
      "\u001b[32m[I 2021-12-20 16:43:17,126]\u001b[0m Trial 83 finished with value: 0.829405162738496 and parameters: {'classifier': 'RandomForest', 'rf_n_estimators': 978, 'rf_max_depth': 4}. Best is trial 82 with value: 0.830527497194164.\u001b[0m\n",
      "\u001b[32m[I 2021-12-20 16:43:19,046]\u001b[0m Trial 84 finished with value: 0.8136924803591471 and parameters: {'classifier': 'RandomForest', 'rf_n_estimators': 984, 'rf_max_depth': 2}. Best is trial 82 with value: 0.830527497194164.\u001b[0m\n",
      "\u001b[32m[I 2021-12-20 16:43:20,661]\u001b[0m Trial 85 finished with value: 0.8294051627384961 and parameters: {'classifier': 'RandomForest', 'rf_n_estimators': 964, 'rf_max_depth': 4}. Best is trial 82 with value: 0.830527497194164.\u001b[0m\n",
      "\u001b[32m[I 2021-12-20 16:43:22,413]\u001b[0m Trial 86 finished with value: 0.8282828282828283 and parameters: {'classifier': 'RandomForest', 'rf_n_estimators': 963, 'rf_max_depth': 4}. Best is trial 82 with value: 0.830527497194164.\u001b[0m\n",
      "\u001b[32m[I 2021-12-20 16:43:23,356]\u001b[0m Trial 87 finished with value: 0.8249158249158249 and parameters: {'classifier': 'RandomForest', 'rf_n_estimators': 475, 'rf_max_depth': 3}. Best is trial 82 with value: 0.830527497194164.\u001b[0m\n",
      "\u001b[32m[I 2021-12-20 16:43:25,249]\u001b[0m Trial 88 finished with value: 0.829405162738496 and parameters: {'classifier': 'RandomForest', 'rf_n_estimators': 974, 'rf_max_depth': 4}. Best is trial 82 with value: 0.830527497194164.\u001b[0m\n",
      "\u001b[32m[I 2021-12-20 16:43:27,200]\u001b[0m Trial 89 finished with value: 0.8260381593714926 and parameters: {'classifier': 'RandomForest', 'rf_n_estimators': 1000, 'rf_max_depth': 5}. Best is trial 82 with value: 0.830527497194164.\u001b[0m\n",
      "\u001b[32m[I 2021-12-20 16:43:29,411]\u001b[0m Trial 90 finished with value: 0.8136924803591471 and parameters: {'classifier': 'RandomForest', 'rf_n_estimators': 975, 'rf_max_depth': 19}. Best is trial 82 with value: 0.830527497194164.\u001b[0m\n",
      "\u001b[32m[I 2021-12-20 16:43:31,303]\u001b[0m Trial 91 finished with value: 0.8260381593714926 and parameters: {'classifier': 'RandomForest', 'rf_n_estimators': 942, 'rf_max_depth': 4}. Best is trial 82 with value: 0.830527497194164.\u001b[0m\n",
      "\u001b[32m[I 2021-12-20 16:43:33,018]\u001b[0m Trial 92 finished with value: 0.8249158249158249 and parameters: {'classifier': 'RandomForest', 'rf_n_estimators': 871, 'rf_max_depth': 5}. Best is trial 82 with value: 0.830527497194164.\u001b[0m\n",
      "\u001b[32m[I 2021-12-20 16:43:34,865]\u001b[0m Trial 93 finished with value: 0.8282828282828283 and parameters: {'classifier': 'RandomForest', 'rf_n_estimators': 923, 'rf_max_depth': 4}. Best is trial 82 with value: 0.830527497194164.\u001b[0m\n",
      "\u001b[32m[I 2021-12-20 16:43:36,915]\u001b[0m Trial 94 finished with value: 0.8237934904601572 and parameters: {'classifier': 'RandomForest', 'rf_n_estimators': 971, 'rf_max_depth': 3}. Best is trial 82 with value: 0.830527497194164.\u001b[0m\n",
      "\u001b[32m[I 2021-12-20 16:43:37,950]\u001b[0m Trial 95 finished with value: 0.8271604938271605 and parameters: {'classifier': 'RandomForest', 'rf_n_estimators': 533, 'rf_max_depth': 4}. Best is trial 82 with value: 0.830527497194164.\u001b[0m\n",
      "\u001b[32m[I 2021-12-20 16:43:37,999]\u001b[0m Trial 96 finished with value: 0.8002244668911335 and parameters: {'classifier': 'LogReg', 'logreg_c': 1.3261773349555677}. Best is trial 82 with value: 0.830527497194164.\u001b[0m\n",
      "\u001b[32m[I 2021-12-20 16:43:39,601]\u001b[0m Trial 97 finished with value: 0.8327721661054994 and parameters: {'classifier': 'RandomForest', 'rf_n_estimators': 825, 'rf_max_depth': 4}. Best is trial 97 with value: 0.8327721661054994.\u001b[0m\n",
      "\u001b[32m[I 2021-12-20 16:43:41,496]\u001b[0m Trial 98 finished with value: 0.8103254769921436 and parameters: {'classifier': 'RandomForest', 'rf_n_estimators': 827, 'rf_max_depth': 13}. Best is trial 97 with value: 0.8327721661054994.\u001b[0m\n",
      "\u001b[32m[I 2021-12-20 16:43:43,395]\u001b[0m Trial 99 finished with value: 0.8271604938271605 and parameters: {'classifier': 'RandomForest', 'rf_n_estimators': 908, 'rf_max_depth': 5}. Best is trial 97 with value: 0.8327721661054994.\u001b[0m\n",
      "\u001b[32m[I 2021-12-20 16:43:45,296]\u001b[0m Trial 100 finished with value: 0.8282828282828282 and parameters: {'classifier': 'RandomForest', 'rf_n_estimators': 938, 'rf_max_depth': 4}. Best is trial 97 with value: 0.8327721661054994.\u001b[0m\n",
      "\u001b[32m[I 2021-12-20 16:43:46,865]\u001b[0m Trial 101 finished with value: 0.8260381593714926 and parameters: {'classifier': 'RandomForest', 'rf_n_estimators': 768, 'rf_max_depth': 4}. Best is trial 97 with value: 0.8327721661054994.\u001b[0m\n",
      "\u001b[32m[I 2021-12-20 16:43:48,557]\u001b[0m Trial 102 finished with value: 0.8249158249158249 and parameters: {'classifier': 'RandomForest', 'rf_n_estimators': 745, 'rf_max_depth': 5}. Best is trial 97 with value: 0.8327721661054994.\u001b[0m\n",
      "\u001b[32m[I 2021-12-20 16:43:50,416]\u001b[0m Trial 103 finished with value: 0.8305274971941637 and parameters: {'classifier': 'RandomForest', 'rf_n_estimators': 858, 'rf_max_depth': 6}. Best is trial 97 with value: 0.8327721661054994.\u001b[0m\n",
      "\u001b[32m[I 2021-12-20 16:43:52,215]\u001b[0m Trial 104 finished with value: 0.8305274971941637 and parameters: {'classifier': 'RandomForest', 'rf_n_estimators': 856, 'rf_max_depth': 6}. Best is trial 97 with value: 0.8327721661054994.\u001b[0m\n",
      "\u001b[32m[I 2021-12-20 16:43:54,149]\u001b[0m Trial 105 finished with value: 0.8249158249158249 and parameters: {'classifier': 'RandomForest', 'rf_n_estimators': 866, 'rf_max_depth': 6}. Best is trial 97 with value: 0.8327721661054994.\u001b[0m\n",
      "\u001b[32m[I 2021-12-20 16:43:55,947]\u001b[0m Trial 106 finished with value: 0.8260381593714928 and parameters: {'classifier': 'RandomForest', 'rf_n_estimators': 834, 'rf_max_depth': 7}. Best is trial 97 with value: 0.8327721661054994.\u001b[0m\n",
      "\u001b[32m[I 2021-12-20 16:43:57,728]\u001b[0m Trial 107 finished with value: 0.8204264870931537 and parameters: {'classifier': 'RandomForest', 'rf_n_estimators': 804, 'rf_max_depth': 8}. Best is trial 97 with value: 0.8327721661054994.\u001b[0m\n"
     ]
    },
    {
     "name": "stderr",
     "output_type": "stream",
     "text": [
      "\u001b[32m[I 2021-12-20 16:43:59,311]\u001b[0m Trial 108 finished with value: 0.8271604938271605 and parameters: {'classifier': 'RandomForest', 'rf_n_estimators': 723, 'rf_max_depth': 7}. Best is trial 97 with value: 0.8327721661054994.\u001b[0m\n",
      "\u001b[32m[I 2021-12-20 16:44:01,336]\u001b[0m Trial 109 finished with value: 0.8271604938271605 and parameters: {'classifier': 'RandomForest', 'rf_n_estimators': 886, 'rf_max_depth': 6}. Best is trial 97 with value: 0.8327721661054994.\u001b[0m\n",
      "\u001b[32m[I 2021-12-20 16:44:03,115]\u001b[0m Trial 110 finished with value: 0.8249158249158248 and parameters: {'classifier': 'RandomForest', 'rf_n_estimators': 846, 'rf_max_depth': 6}. Best is trial 97 with value: 0.8327721661054994.\u001b[0m\n",
      "\u001b[32m[I 2021-12-20 16:44:05,223]\u001b[0m Trial 111 finished with value: 0.8204264870931537 and parameters: {'classifier': 'RandomForest', 'rf_n_estimators': 914, 'rf_max_depth': 8}. Best is trial 97 with value: 0.8327721661054994.\u001b[0m\n",
      "\u001b[32m[I 2021-12-20 16:44:06,952]\u001b[0m Trial 112 finished with value: 0.8260381593714926 and parameters: {'classifier': 'RandomForest', 'rf_n_estimators': 780, 'rf_max_depth': 5}. Best is trial 97 with value: 0.8327721661054994.\u001b[0m\n",
      "\u001b[32m[I 2021-12-20 16:44:09,026]\u001b[0m Trial 113 finished with value: 0.8249158249158249 and parameters: {'classifier': 'RandomForest', 'rf_n_estimators': 943, 'rf_max_depth': 7}. Best is trial 97 with value: 0.8327721661054994.\u001b[0m\n",
      "\u001b[32m[I 2021-12-20 16:44:10,530]\u001b[0m Trial 114 finished with value: 0.8204264870931538 and parameters: {'classifier': 'RandomForest', 'rf_n_estimators': 678, 'rf_max_depth': 9}. Best is trial 97 with value: 0.8327721661054994.\u001b[0m\n",
      "\u001b[32m[I 2021-12-20 16:44:12,597]\u001b[0m Trial 115 finished with value: 0.8271604938271605 and parameters: {'classifier': 'RandomForest', 'rf_n_estimators': 981, 'rf_max_depth': 4}. Best is trial 97 with value: 0.8327721661054994.\u001b[0m\n",
      "\u001b[32m[I 2021-12-20 16:44:12,628]\u001b[0m Trial 116 finished with value: 0.6161616161616161 and parameters: {'classifier': 'LogReg', 'logreg_c': 2.4237755115536203e-07}. Best is trial 97 with value: 0.8327721661054994.\u001b[0m\n",
      "\u001b[32m[I 2021-12-20 16:44:14,628]\u001b[0m Trial 117 finished with value: 0.8136924803591471 and parameters: {'classifier': 'RandomForest', 'rf_n_estimators': 888, 'rf_max_depth': 11}. Best is trial 97 with value: 0.8327721661054994.\u001b[0m\n",
      "\u001b[32m[I 2021-12-20 16:44:16,533]\u001b[0m Trial 118 finished with value: 0.8271604938271605 and parameters: {'classifier': 'RandomForest', 'rf_n_estimators': 952, 'rf_max_depth': 5}. Best is trial 97 with value: 0.8327721661054994.\u001b[0m\n",
      "\u001b[32m[I 2021-12-20 16:44:17,403]\u001b[0m Trial 119 finished with value: 0.8294051627384961 and parameters: {'classifier': 'RandomForest', 'rf_n_estimators': 394, 'rf_max_depth': 6}. Best is trial 97 with value: 0.8327721661054994.\u001b[0m\n",
      "\u001b[32m[I 2021-12-20 16:44:18,314]\u001b[0m Trial 120 finished with value: 0.8260381593714928 and parameters: {'classifier': 'RandomForest', 'rf_n_estimators': 394, 'rf_max_depth': 6}. Best is trial 97 with value: 0.8327721661054994.\u001b[0m\n",
      "\u001b[32m[I 2021-12-20 16:44:19,170]\u001b[0m Trial 121 finished with value: 0.8226711560044894 and parameters: {'classifier': 'RandomForest', 'rf_n_estimators': 384, 'rf_max_depth': 7}. Best is trial 97 with value: 0.8327721661054994.\u001b[0m\n",
      "\u001b[32m[I 2021-12-20 16:44:20,447]\u001b[0m Trial 122 finished with value: 0.8249158249158249 and parameters: {'classifier': 'RandomForest', 'rf_n_estimators': 632, 'rf_max_depth': 5}. Best is trial 97 with value: 0.8327721661054994.\u001b[0m\n",
      "\u001b[32m[I 2021-12-20 16:44:21,463]\u001b[0m Trial 123 finished with value: 0.8282828282828283 and parameters: {'classifier': 'RandomForest', 'rf_n_estimators': 462, 'rf_max_depth': 6}. Best is trial 97 with value: 0.8327721661054994.\u001b[0m\n",
      "\u001b[32m[I 2021-12-20 16:44:22,247]\u001b[0m Trial 124 finished with value: 0.8271604938271605 and parameters: {'classifier': 'RandomForest', 'rf_n_estimators': 373, 'rf_max_depth': 4}. Best is trial 97 with value: 0.8327721661054994.\u001b[0m\n",
      "\u001b[32m[I 2021-12-20 16:44:24,353]\u001b[0m Trial 125 finished with value: 0.8271604938271605 and parameters: {'classifier': 'RandomForest', 'rf_n_estimators': 979, 'rf_max_depth': 4}. Best is trial 97 with value: 0.8327721661054994.\u001b[0m\n",
      "\u001b[32m[I 2021-12-20 16:44:24,981]\u001b[0m Trial 126 finished with value: 0.8260381593714928 and parameters: {'classifier': 'RandomForest', 'rf_n_estimators': 302, 'rf_max_depth': 3}. Best is trial 97 with value: 0.8327721661054994.\u001b[0m\n",
      "\u001b[32m[I 2021-12-20 16:44:27,131]\u001b[0m Trial 127 finished with value: 0.8103254769921436 and parameters: {'classifier': 'RandomForest', 'rf_n_estimators': 927, 'rf_max_depth': 16}. Best is trial 97 with value: 0.8327721661054994.\u001b[0m\n",
      "\u001b[32m[I 2021-12-20 16:44:27,999]\u001b[0m Trial 128 finished with value: 0.8282828282828283 and parameters: {'classifier': 'RandomForest', 'rf_n_estimators': 418, 'rf_max_depth': 6}. Best is trial 97 with value: 0.8327721661054994.\u001b[0m\n",
      "\u001b[32m[I 2021-12-20 16:44:30,170]\u001b[0m Trial 129 finished with value: 0.8181818181818182 and parameters: {'classifier': 'RandomForest', 'rf_n_estimators': 954, 'rf_max_depth': 8}. Best is trial 97 with value: 0.8327721661054994.\u001b[0m\n",
      "\u001b[32m[I 2021-12-20 16:44:30,222]\u001b[0m Trial 130 finished with value: 0.7957351290684623 and parameters: {'classifier': 'LogReg', 'logreg_c': 6489264.376265438}. Best is trial 97 with value: 0.8327721661054994.\u001b[0m\n",
      "\u001b[32m[I 2021-12-20 16:44:32,235]\u001b[0m Trial 131 finished with value: 0.8282828282828282 and parameters: {'classifier': 'RandomForest', 'rf_n_estimators': 1000, 'rf_max_depth': 4}. Best is trial 97 with value: 0.8327721661054994.\u001b[0m\n",
      "\u001b[32m[I 2021-12-20 16:44:33,965]\u001b[0m Trial 132 finished with value: 0.8260381593714928 and parameters: {'classifier': 'RandomForest', 'rf_n_estimators': 862, 'rf_max_depth': 5}. Best is trial 97 with value: 0.8327721661054994.\u001b[0m\n",
      "\u001b[32m[I 2021-12-20 16:44:34,969]\u001b[0m Trial 133 finished with value: 0.8271604938271605 and parameters: {'classifier': 'RandomForest', 'rf_n_estimators': 486, 'rf_max_depth': 5}. Best is trial 97 with value: 0.8327721661054994.\u001b[0m\n",
      "\u001b[32m[I 2021-12-20 16:44:36,715]\u001b[0m Trial 134 finished with value: 0.830527497194164 and parameters: {'classifier': 'RandomForest', 'rf_n_estimators': 820, 'rf_max_depth': 4}. Best is trial 97 with value: 0.8327721661054994.\u001b[0m\n",
      "\u001b[32m[I 2021-12-20 16:44:38,383]\u001b[0m Trial 135 finished with value: 0.8316498316498316 and parameters: {'classifier': 'RandomForest', 'rf_n_estimators': 825, 'rf_max_depth': 4}. Best is trial 97 with value: 0.8327721661054994.\u001b[0m\n",
      "\u001b[32m[I 2021-12-20 16:44:40,320]\u001b[0m Trial 136 finished with value: 0.8271604938271605 and parameters: {'classifier': 'RandomForest', 'rf_n_estimators': 966, 'rf_max_depth': 4}. Best is trial 97 with value: 0.8327721661054994.\u001b[0m\n",
      "\u001b[32m[I 2021-12-20 16:44:42,310]\u001b[0m Trial 137 finished with value: 0.830527497194164 and parameters: {'classifier': 'RandomForest', 'rf_n_estimators': 906, 'rf_max_depth': 6}. Best is trial 97 with value: 0.8327721661054994.\u001b[0m\n",
      "\u001b[32m[I 2021-12-20 16:44:44,075]\u001b[0m Trial 138 finished with value: 0.8282828282828283 and parameters: {'classifier': 'RandomForest', 'rf_n_estimators': 822, 'rf_max_depth': 7}. Best is trial 97 with value: 0.8327721661054994.\u001b[0m\n",
      "\u001b[32m[I 2021-12-20 16:44:45,731]\u001b[0m Trial 139 finished with value: 0.8271604938271605 and parameters: {'classifier': 'RandomForest', 'rf_n_estimators': 806, 'rf_max_depth': 6}. Best is trial 97 with value: 0.8327721661054994.\u001b[0m\n",
      "\u001b[32m[I 2021-12-20 16:44:47,747]\u001b[0m Trial 140 finished with value: 0.8170594837261503 and parameters: {'classifier': 'RandomForest', 'rf_n_estimators': 905, 'rf_max_depth': 9}. Best is trial 97 with value: 0.8327721661054994.\u001b[0m\n",
      "\u001b[32m[I 2021-12-20 16:44:49,514]\u001b[0m Trial 141 finished with value: 0.8249158249158249 and parameters: {'classifier': 'RandomForest', 'rf_n_estimators': 855, 'rf_max_depth': 5}. Best is trial 97 with value: 0.8327721661054994.\u001b[0m\n",
      "\u001b[32m[I 2021-12-20 16:44:51,397]\u001b[0m Trial 142 finished with value: 0.8316498316498316 and parameters: {'classifier': 'RandomForest', 'rf_n_estimators': 942, 'rf_max_depth': 4}. Best is trial 97 with value: 0.8327721661054994.\u001b[0m\n",
      "\u001b[32m[I 2021-12-20 16:44:53,464]\u001b[0m Trial 143 finished with value: 0.8282828282828283 and parameters: {'classifier': 'RandomForest', 'rf_n_estimators': 941, 'rf_max_depth': 7}. Best is trial 97 with value: 0.8327721661054994.\u001b[0m\n"
     ]
    },
    {
     "name": "stderr",
     "output_type": "stream",
     "text": [
      "\u001b[32m[I 2021-12-20 16:44:55,530]\u001b[0m Trial 144 finished with value: 0.829405162738496 and parameters: {'classifier': 'RandomForest', 'rf_n_estimators': 890, 'rf_max_depth': 6}. Best is trial 97 with value: 0.8327721661054994.\u001b[0m\n",
      "\u001b[32m[I 2021-12-20 16:44:57,165]\u001b[0m Trial 145 finished with value: 0.8282828282828283 and parameters: {'classifier': 'RandomForest', 'rf_n_estimators': 783, 'rf_max_depth': 6}. Best is trial 97 with value: 0.8327721661054994.\u001b[0m\n",
      "\u001b[32m[I 2021-12-20 16:44:58,810]\u001b[0m Trial 146 finished with value: 0.830527497194164 and parameters: {'classifier': 'RandomForest', 'rf_n_estimators': 836, 'rf_max_depth': 4}. Best is trial 97 with value: 0.8327721661054994.\u001b[0m\n",
      "\u001b[32m[I 2021-12-20 16:45:00,799]\u001b[0m Trial 147 finished with value: 0.8260381593714926 and parameters: {'classifier': 'RandomForest', 'rf_n_estimators': 836, 'rf_max_depth': 5}. Best is trial 97 with value: 0.8327721661054994.\u001b[0m\n",
      "\u001b[32m[I 2021-12-20 16:45:02,630]\u001b[0m Trial 148 finished with value: 0.8282828282828283 and parameters: {'classifier': 'RandomForest', 'rf_n_estimators': 922, 'rf_max_depth': 4}. Best is trial 97 with value: 0.8327721661054994.\u001b[0m\n",
      "\u001b[32m[I 2021-12-20 16:45:04,633]\u001b[0m Trial 149 finished with value: 0.8114478114478114 and parameters: {'classifier': 'RandomForest', 'rf_n_estimators': 888, 'rf_max_depth': 30}. Best is trial 97 with value: 0.8327721661054994.\u001b[0m\n",
      "\u001b[32m[I 2021-12-20 16:45:06,496]\u001b[0m Trial 150 finished with value: 0.8237934904601572 and parameters: {'classifier': 'RandomForest', 'rf_n_estimators': 873, 'rf_max_depth': 3}. Best is trial 97 with value: 0.8327721661054994.\u001b[0m\n",
      "\u001b[32m[I 2021-12-20 16:45:08,215]\u001b[0m Trial 151 finished with value: 0.8069584736251403 and parameters: {'classifier': 'RandomForest', 'rf_n_estimators': 758, 'rf_max_depth': 27}. Best is trial 97 with value: 0.8327721661054994.\u001b[0m\n",
      "\u001b[32m[I 2021-12-20 16:45:09,899]\u001b[0m Trial 152 finished with value: 0.8282828282828283 and parameters: {'classifier': 'RandomForest', 'rf_n_estimators': 823, 'rf_max_depth': 4}. Best is trial 97 with value: 0.8327721661054994.\u001b[0m\n",
      "\u001b[32m[I 2021-12-20 16:45:11,878]\u001b[0m Trial 153 finished with value: 0.8282828282828283 and parameters: {'classifier': 'RandomForest', 'rf_n_estimators': 901, 'rf_max_depth': 6}. Best is trial 97 with value: 0.8327721661054994.\u001b[0m\n",
      "\u001b[32m[I 2021-12-20 16:45:13,698]\u001b[0m Trial 154 finished with value: 0.8294051627384961 and parameters: {'classifier': 'RandomForest', 'rf_n_estimators': 926, 'rf_max_depth': 4}. Best is trial 97 with value: 0.8327721661054994.\u001b[0m\n",
      "\u001b[32m[I 2021-12-20 16:45:15,548]\u001b[0m Trial 155 finished with value: 0.8271604938271605 and parameters: {'classifier': 'RandomForest', 'rf_n_estimators': 925, 'rf_max_depth': 4}. Best is trial 97 with value: 0.8327721661054994.\u001b[0m\n",
      "\u001b[32m[I 2021-12-20 16:45:17,225]\u001b[0m Trial 156 finished with value: 0.829405162738496 and parameters: {'classifier': 'RandomForest', 'rf_n_estimators': 849, 'rf_max_depth': 4}. Best is trial 97 with value: 0.8327721661054994.\u001b[0m\n",
      "\u001b[32m[I 2021-12-20 16:45:19,263]\u001b[0m Trial 157 finished with value: 0.8271604938271605 and parameters: {'classifier': 'RandomForest', 'rf_n_estimators': 953, 'rf_max_depth': 5}. Best is trial 97 with value: 0.8327721661054994.\u001b[0m\n",
      "\u001b[32m[I 2021-12-20 16:45:21,247]\u001b[0m Trial 158 finished with value: 0.8204264870931537 and parameters: {'classifier': 'RandomForest', 'rf_n_estimators': 912, 'rf_max_depth': 8}. Best is trial 97 with value: 0.8327721661054994.\u001b[0m\n",
      "\u001b[32m[I 2021-12-20 16:45:21,332]\u001b[0m Trial 159 finished with value: 0.8080808080808081 and parameters: {'classifier': 'RandomForest', 'rf_n_estimators': 22, 'rf_max_depth': 23}. Best is trial 97 with value: 0.8327721661054994.\u001b[0m\n",
      "\u001b[32m[I 2021-12-20 16:45:21,372]\u001b[0m Trial 160 finished with value: 0.7474747474747475 and parameters: {'classifier': 'LogReg', 'logreg_c': 0.008170765173546061}. Best is trial 97 with value: 0.8327721661054994.\u001b[0m\n",
      "\u001b[32m[I 2021-12-20 16:45:23,097]\u001b[0m Trial 161 finished with value: 0.829405162738496 and parameters: {'classifier': 'RandomForest', 'rf_n_estimators': 875, 'rf_max_depth': 4}. Best is trial 97 with value: 0.8327721661054994.\u001b[0m\n",
      "\u001b[32m[I 2021-12-20 16:45:25,069]\u001b[0m Trial 162 finished with value: 0.829405162738496 and parameters: {'classifier': 'RandomForest', 'rf_n_estimators': 962, 'rf_max_depth': 4}. Best is trial 97 with value: 0.8327721661054994.\u001b[0m\n",
      "\u001b[32m[I 2021-12-20 16:45:26,966]\u001b[0m Trial 163 finished with value: 0.8282828282828283 and parameters: {'classifier': 'RandomForest', 'rf_n_estimators': 937, 'rf_max_depth': 4}. Best is trial 97 with value: 0.8327721661054994.\u001b[0m\n",
      "\u001b[32m[I 2021-12-20 16:45:28,662]\u001b[0m Trial 164 finished with value: 0.8249158249158249 and parameters: {'classifier': 'RandomForest', 'rf_n_estimators': 800, 'rf_max_depth': 7}. Best is trial 97 with value: 0.8327721661054994.\u001b[0m\n",
      "\u001b[32m[I 2021-12-20 16:45:30,697]\u001b[0m Trial 165 finished with value: 0.8260381593714928 and parameters: {'classifier': 'RandomForest', 'rf_n_estimators': 888, 'rf_max_depth': 6}. Best is trial 97 with value: 0.8327721661054994.\u001b[0m\n",
      "\u001b[32m[I 2021-12-20 16:45:32,506]\u001b[0m Trial 166 finished with value: 0.830527497194164 and parameters: {'classifier': 'RandomForest', 'rf_n_estimators': 849, 'rf_max_depth': 6}. Best is trial 97 with value: 0.8327721661054994.\u001b[0m\n",
      "\u001b[32m[I 2021-12-20 16:45:34,282]\u001b[0m Trial 167 finished with value: 0.8237934904601572 and parameters: {'classifier': 'RandomForest', 'rf_n_estimators': 853, 'rf_max_depth': 7}. Best is trial 97 with value: 0.8327721661054994.\u001b[0m\n",
      "\u001b[32m[I 2021-12-20 16:45:36,120]\u001b[0m Trial 168 finished with value: 0.8249158249158249 and parameters: {'classifier': 'RandomForest', 'rf_n_estimators': 820, 'rf_max_depth': 6}. Best is trial 97 with value: 0.8327721661054994.\u001b[0m\n",
      "\u001b[32m[I 2021-12-20 16:45:37,813]\u001b[0m Trial 169 finished with value: 0.8260381593714926 and parameters: {'classifier': 'RandomForest', 'rf_n_estimators': 839, 'rf_max_depth': 5}. Best is trial 97 with value: 0.8327721661054994.\u001b[0m\n",
      "\u001b[32m[I 2021-12-20 16:45:38,648]\u001b[0m Trial 170 finished with value: 0.829405162738496 and parameters: {'classifier': 'RandomForest', 'rf_n_estimators': 411, 'rf_max_depth': 6}. Best is trial 97 with value: 0.8327721661054994.\u001b[0m\n",
      "\u001b[32m[I 2021-12-20 16:45:40,544]\u001b[0m Trial 171 finished with value: 0.8282828282828283 and parameters: {'classifier': 'RandomForest', 'rf_n_estimators': 901, 'rf_max_depth': 6}. Best is trial 97 with value: 0.8327721661054994.\u001b[0m\n",
      "\u001b[32m[I 2021-12-20 16:45:42,765]\u001b[0m Trial 172 finished with value: 0.8271604938271605 and parameters: {'classifier': 'RandomForest', 'rf_n_estimators': 875, 'rf_max_depth': 7}. Best is trial 97 with value: 0.8327721661054994.\u001b[0m\n",
      "\u001b[32m[I 2021-12-20 16:45:44,744]\u001b[0m Trial 173 finished with value: 0.8282828282828283 and parameters: {'classifier': 'RandomForest', 'rf_n_estimators': 988, 'rf_max_depth': 4}. Best is trial 97 with value: 0.8327721661054994.\u001b[0m\n",
      "\u001b[32m[I 2021-12-20 16:45:45,497]\u001b[0m Trial 174 finished with value: 0.8271604938271605 and parameters: {'classifier': 'RandomForest', 'rf_n_estimators': 366, 'rf_max_depth': 4}. Best is trial 97 with value: 0.8327721661054994.\u001b[0m\n",
      "\u001b[32m[I 2021-12-20 16:45:47,463]\u001b[0m Trial 175 finished with value: 0.8271604938271605 and parameters: {'classifier': 'RandomForest', 'rf_n_estimators': 930, 'rf_max_depth': 5}. Best is trial 97 with value: 0.8327721661054994.\u001b[0m\n",
      "\u001b[32m[I 2021-12-20 16:45:49,429]\u001b[0m Trial 176 finished with value: 0.829405162738496 and parameters: {'classifier': 'RandomForest', 'rf_n_estimators': 973, 'rf_max_depth': 4}. Best is trial 97 with value: 0.8327721661054994.\u001b[0m\n",
      "\u001b[32m[I 2021-12-20 16:45:50,083]\u001b[0m Trial 177 finished with value: 0.8237934904601572 and parameters: {'classifier': 'RandomForest', 'rf_n_estimators': 313, 'rf_max_depth': 6}. Best is trial 97 with value: 0.8327721661054994.\u001b[0m\n",
      "\u001b[32m[I 2021-12-20 16:45:51,034]\u001b[0m Trial 178 finished with value: 0.8260381593714926 and parameters: {'classifier': 'RandomForest', 'rf_n_estimators': 452, 'rf_max_depth': 6}. Best is trial 97 with value: 0.8327721661054994.\u001b[0m\n",
      "\u001b[32m[I 2021-12-20 16:45:52,994]\u001b[0m Trial 179 finished with value: 0.8249158249158249 and parameters: {'classifier': 'RandomForest', 'rf_n_estimators': 962, 'rf_max_depth': 5}. Best is trial 97 with value: 0.8327721661054994.\u001b[0m\n"
     ]
    },
    {
     "name": "stderr",
     "output_type": "stream",
     "text": [
      "\u001b[32m[I 2021-12-20 16:45:55,299]\u001b[0m Trial 180 finished with value: 0.8148148148148149 and parameters: {'classifier': 'RandomForest', 'rf_n_estimators': 985, 'rf_max_depth': 10}. Best is trial 97 with value: 0.8327721661054994.\u001b[0m\n",
      "\u001b[32m[I 2021-12-20 16:45:57,030]\u001b[0m Trial 181 finished with value: 0.830527497194164 and parameters: {'classifier': 'RandomForest', 'rf_n_estimators': 857, 'rf_max_depth': 4}. Best is trial 97 with value: 0.8327721661054994.\u001b[0m\n",
      "\u001b[32m[I 2021-12-20 16:45:58,882]\u001b[0m Trial 182 finished with value: 0.8294051627384961 and parameters: {'classifier': 'RandomForest', 'rf_n_estimators': 870, 'rf_max_depth': 6}. Best is trial 97 with value: 0.8327721661054994.\u001b[0m\n",
      "\u001b[32m[I 2021-12-20 16:46:00,731]\u001b[0m Trial 183 finished with value: 0.8305274971941637 and parameters: {'classifier': 'RandomForest', 'rf_n_estimators': 861, 'rf_max_depth': 4}. Best is trial 97 with value: 0.8327721661054994.\u001b[0m\n",
      "\u001b[32m[I 2021-12-20 16:46:02,344]\u001b[0m Trial 184 finished with value: 0.8148148148148149 and parameters: {'classifier': 'RandomForest', 'rf_n_estimators': 852, 'rf_max_depth': 2}. Best is trial 97 with value: 0.8327721661054994.\u001b[0m\n",
      "\u001b[32m[I 2021-12-20 16:46:02,683]\u001b[0m Trial 185 finished with value: 0.8294051627384961 and parameters: {'classifier': 'RandomForest', 'rf_n_estimators': 159, 'rf_max_depth': 4}. Best is trial 97 with value: 0.8327721661054994.\u001b[0m\n",
      "\u001b[32m[I 2021-12-20 16:46:02,896]\u001b[0m Trial 186 finished with value: 0.8271604938271605 and parameters: {'classifier': 'RandomForest', 'rf_n_estimators': 97, 'rf_max_depth': 4}. Best is trial 97 with value: 0.8327721661054994.\u001b[0m\n",
      "\u001b[32m[I 2021-12-20 16:46:03,307]\u001b[0m Trial 187 finished with value: 0.8282828282828283 and parameters: {'classifier': 'RandomForest', 'rf_n_estimators': 187, 'rf_max_depth': 4}. Best is trial 97 with value: 0.8327721661054994.\u001b[0m\n",
      "\u001b[32m[I 2021-12-20 16:46:05,079]\u001b[0m Trial 188 finished with value: 0.8271604938271605 and parameters: {'classifier': 'RandomForest', 'rf_n_estimators': 822, 'rf_max_depth': 7}. Best is trial 97 with value: 0.8327721661054994.\u001b[0m\n",
      "\u001b[32m[I 2021-12-20 16:46:05,142]\u001b[0m Trial 189 finished with value: 0.7957351290684623 and parameters: {'classifier': 'LogReg', 'logreg_c': 201.59767181703145}. Best is trial 97 with value: 0.8327721661054994.\u001b[0m\n",
      "\u001b[32m[I 2021-12-20 16:46:06,929]\u001b[0m Trial 190 finished with value: 0.8294051627384961 and parameters: {'classifier': 'RandomForest', 'rf_n_estimators': 862, 'rf_max_depth': 4}. Best is trial 97 with value: 0.8327721661054994.\u001b[0m\n",
      "\u001b[32m[I 2021-12-20 16:46:08,647]\u001b[0m Trial 191 finished with value: 0.829405162738496 and parameters: {'classifier': 'RandomForest', 'rf_n_estimators': 870, 'rf_max_depth': 4}. Best is trial 97 with value: 0.8327721661054994.\u001b[0m\n",
      "\u001b[32m[I 2021-12-20 16:46:10,315]\u001b[0m Trial 192 finished with value: 0.8282828282828283 and parameters: {'classifier': 'RandomForest', 'rf_n_estimators': 840, 'rf_max_depth': 4}. Best is trial 97 with value: 0.8327721661054994.\u001b[0m\n",
      "\u001b[32m[I 2021-12-20 16:46:12,145]\u001b[0m Trial 193 finished with value: 0.829405162738496 and parameters: {'classifier': 'RandomForest', 'rf_n_estimators': 810, 'rf_max_depth': 4}. Best is trial 97 with value: 0.8327721661054994.\u001b[0m\n",
      "\u001b[32m[I 2021-12-20 16:46:13,332]\u001b[0m Trial 194 finished with value: 0.830527497194164 and parameters: {'classifier': 'RandomForest', 'rf_n_estimators': 543, 'rf_max_depth': 6}. Best is trial 97 with value: 0.8327721661054994.\u001b[0m\n",
      "\u001b[32m[I 2021-12-20 16:46:14,515]\u001b[0m Trial 195 finished with value: 0.830527497194164 and parameters: {'classifier': 'RandomForest', 'rf_n_estimators': 549, 'rf_max_depth': 5}. Best is trial 97 with value: 0.8327721661054994.\u001b[0m\n",
      "\u001b[32m[I 2021-12-20 16:46:15,796]\u001b[0m Trial 196 finished with value: 0.8282828282828284 and parameters: {'classifier': 'RandomForest', 'rf_n_estimators': 588, 'rf_max_depth': 6}. Best is trial 97 with value: 0.8327721661054994.\u001b[0m\n",
      "\u001b[32m[I 2021-12-20 16:46:17,470]\u001b[0m Trial 197 finished with value: 0.8282828282828283 and parameters: {'classifier': 'RandomForest', 'rf_n_estimators': 786, 'rf_max_depth': 6}. Best is trial 97 with value: 0.8327721661054994.\u001b[0m\n",
      "\u001b[32m[I 2021-12-20 16:46:18,732]\u001b[0m Trial 198 finished with value: 0.8226711560044894 and parameters: {'classifier': 'RandomForest', 'rf_n_estimators': 529, 'rf_max_depth': 5}. Best is trial 97 with value: 0.8327721661054994.\u001b[0m\n",
      "\u001b[32m[I 2021-12-20 16:46:19,944]\u001b[0m Trial 199 finished with value: 0.8271604938271605 and parameters: {'classifier': 'RandomForest', 'rf_n_estimators': 546, 'rf_max_depth': 5}. Best is trial 97 with value: 0.8327721661054994.\u001b[0m\n",
      "\u001b[32m[I 2021-12-20 16:46:21,047]\u001b[0m Trial 200 finished with value: 0.8226711560044894 and parameters: {'classifier': 'RandomForest', 'rf_n_estimators': 500, 'rf_max_depth': 5}. Best is trial 97 with value: 0.8327721661054994.\u001b[0m\n",
      "\u001b[32m[I 2021-12-20 16:46:21,548]\u001b[0m Trial 201 finished with value: 0.8271604938271605 and parameters: {'classifier': 'RandomForest', 'rf_n_estimators': 232, 'rf_max_depth': 4}. Best is trial 97 with value: 0.8327721661054994.\u001b[0m\n",
      "\u001b[32m[I 2021-12-20 16:46:22,748]\u001b[0m Trial 202 finished with value: 0.8282828282828283 and parameters: {'classifier': 'RandomForest', 'rf_n_estimators': 591, 'rf_max_depth': 4}. Best is trial 97 with value: 0.8327721661054994.\u001b[0m\n",
      "\u001b[32m[I 2021-12-20 16:46:23,354]\u001b[0m Trial 203 finished with value: 0.830527497194164 and parameters: {'classifier': 'RandomForest', 'rf_n_estimators': 267, 'rf_max_depth': 6}. Best is trial 97 with value: 0.8327721661054994.\u001b[0m\n",
      "\u001b[32m[I 2021-12-20 16:46:23,623]\u001b[0m Trial 204 finished with value: 0.8271604938271605 and parameters: {'classifier': 'RandomForest', 'rf_n_estimators': 109, 'rf_max_depth': 4}. Best is trial 97 with value: 0.8327721661054994.\u001b[0m\n",
      "\u001b[32m[I 2021-12-20 16:46:25,413]\u001b[0m Trial 205 finished with value: 0.829405162738496 and parameters: {'classifier': 'RandomForest', 'rf_n_estimators': 840, 'rf_max_depth': 6}. Best is trial 97 with value: 0.8327721661054994.\u001b[0m\n",
      "\u001b[32m[I 2021-12-20 16:46:25,979]\u001b[0m Trial 206 finished with value: 0.830527497194164 and parameters: {'classifier': 'RandomForest', 'rf_n_estimators': 263, 'rf_max_depth': 7}. Best is trial 97 with value: 0.8327721661054994.\u001b[0m\n",
      "\u001b[32m[I 2021-12-20 16:46:26,742]\u001b[0m Trial 207 finished with value: 0.8237934904601572 and parameters: {'classifier': 'RandomForest', 'rf_n_estimators': 349, 'rf_max_depth': 7}. Best is trial 97 with value: 0.8327721661054994.\u001b[0m\n",
      "\u001b[32m[I 2021-12-20 16:46:27,366]\u001b[0m Trial 208 finished with value: 0.8249158249158249 and parameters: {'classifier': 'RandomForest', 'rf_n_estimators': 273, 'rf_max_depth': 7}. Best is trial 97 with value: 0.8327721661054994.\u001b[0m\n",
      "\u001b[32m[I 2021-12-20 16:46:27,996]\u001b[0m Trial 209 finished with value: 0.8271604938271605 and parameters: {'classifier': 'RandomForest', 'rf_n_estimators': 260, 'rf_max_depth': 7}. Best is trial 97 with value: 0.8327721661054994.\u001b[0m\n",
      "\u001b[32m[I 2021-12-20 16:46:28,614]\u001b[0m Trial 210 finished with value: 0.8148148148148148 and parameters: {'classifier': 'RandomForest', 'rf_n_estimators': 280, 'rf_max_depth': 8}. Best is trial 97 with value: 0.8327721661054994.\u001b[0m\n",
      "\u001b[32m[I 2021-12-20 16:46:28,965]\u001b[0m Trial 211 finished with value: 0.8327721661054994 and parameters: {'classifier': 'RandomForest', 'rf_n_estimators': 156, 'rf_max_depth': 6}. Best is trial 97 with value: 0.8327721661054994.\u001b[0m\n",
      "\u001b[32m[I 2021-12-20 16:46:29,390]\u001b[0m Trial 212 finished with value: 0.8260381593714926 and parameters: {'classifier': 'RandomForest', 'rf_n_estimators': 144, 'rf_max_depth': 6}. Best is trial 97 with value: 0.8327721661054994.\u001b[0m\n",
      "\u001b[32m[I 2021-12-20 16:46:29,875]\u001b[0m Trial 213 finished with value: 0.8249158249158249 and parameters: {'classifier': 'RandomForest', 'rf_n_estimators': 173, 'rf_max_depth': 4}. Best is trial 97 with value: 0.8327721661054994.\u001b[0m\n",
      "\u001b[32m[I 2021-12-20 16:46:30,320]\u001b[0m Trial 214 finished with value: 0.830527497194164 and parameters: {'classifier': 'RandomForest', 'rf_n_estimators': 136, 'rf_max_depth': 6}. Best is trial 97 with value: 0.8327721661054994.\u001b[0m\n",
      "\u001b[32m[I 2021-12-20 16:46:30,615]\u001b[0m Trial 215 finished with value: 0.8271604938271606 and parameters: {'classifier': 'RandomForest', 'rf_n_estimators': 119, 'rf_max_depth': 6}. Best is trial 97 with value: 0.8327721661054994.\u001b[0m\n"
     ]
    },
    {
     "name": "stderr",
     "output_type": "stream",
     "text": [
      "\u001b[32m[I 2021-12-20 16:46:30,670]\u001b[0m Trial 216 finished with value: 0.8181818181818182 and parameters: {'classifier': 'RandomForest', 'rf_n_estimators': 10, 'rf_max_depth': 6}. Best is trial 97 with value: 0.8327721661054994.\u001b[0m\n",
      "\u001b[32m[I 2021-12-20 16:46:30,796]\u001b[0m Trial 217 finished with value: 0.8226711560044894 and parameters: {'classifier': 'RandomForest', 'rf_n_estimators': 44, 'rf_max_depth': 7}. Best is trial 97 with value: 0.8327721661054994.\u001b[0m\n",
      "\u001b[32m[I 2021-12-20 16:46:31,247]\u001b[0m Trial 218 finished with value: 0.8305274971941637 and parameters: {'classifier': 'RandomForest', 'rf_n_estimators': 200, 'rf_max_depth': 7}. Best is trial 97 with value: 0.8327721661054994.\u001b[0m\n",
      "\u001b[32m[I 2021-12-20 16:46:31,595]\u001b[0m Trial 219 finished with value: 0.8204264870931537 and parameters: {'classifier': 'RandomForest', 'rf_n_estimators': 147, 'rf_max_depth': 8}. Best is trial 97 with value: 0.8327721661054994.\u001b[0m\n",
      "\u001b[32m[I 2021-12-20 16:46:32,147]\u001b[0m Trial 220 finished with value: 0.8271604938271605 and parameters: {'classifier': 'RandomForest', 'rf_n_estimators': 245, 'rf_max_depth': 7}. Best is trial 97 with value: 0.8327721661054994.\u001b[0m\n",
      "\u001b[32m[I 2021-12-20 16:46:32,599]\u001b[0m Trial 221 finished with value: 0.8215488215488215 and parameters: {'classifier': 'RandomForest', 'rf_n_estimators': 207, 'rf_max_depth': 6}. Best is trial 97 with value: 0.8327721661054994.\u001b[0m\n",
      "\u001b[32m[I 2021-12-20 16:46:32,948]\u001b[0m Trial 222 finished with value: 0.8294051627384961 and parameters: {'classifier': 'RandomForest', 'rf_n_estimators': 152, 'rf_max_depth': 7}. Best is trial 97 with value: 0.8327721661054994.\u001b[0m\n",
      "\u001b[32m[I 2021-12-20 16:46:33,411]\u001b[0m Trial 223 finished with value: 0.8215488215488215 and parameters: {'classifier': 'RandomForest', 'rf_n_estimators': 203, 'rf_max_depth': 8}. Best is trial 97 with value: 0.8327721661054994.\u001b[0m\n",
      "\u001b[32m[I 2021-12-20 16:46:33,785]\u001b[0m Trial 224 finished with value: 0.8249158249158248 and parameters: {'classifier': 'RandomForest', 'rf_n_estimators': 172, 'rf_max_depth': 6}. Best is trial 97 with value: 0.8327721661054994.\u001b[0m\n",
      "\u001b[32m[I 2021-12-20 16:46:33,965]\u001b[0m Trial 225 finished with value: 0.8193041526374859 and parameters: {'classifier': 'RandomForest', 'rf_n_estimators': 68, 'rf_max_depth': 6}. Best is trial 97 with value: 0.8327721661054994.\u001b[0m\n",
      "\u001b[32m[I 2021-12-20 16:46:35,351]\u001b[0m Trial 226 finished with value: 0.8260381593714928 and parameters: {'classifier': 'RandomForest', 'rf_n_estimators': 645, 'rf_max_depth': 7}. Best is trial 97 with value: 0.8327721661054994.\u001b[0m\n",
      "\u001b[32m[I 2021-12-20 16:46:35,665]\u001b[0m Trial 227 finished with value: 0.8294051627384961 and parameters: {'classifier': 'RandomForest', 'rf_n_estimators': 131, 'rf_max_depth': 6}. Best is trial 97 with value: 0.8327721661054994.\u001b[0m\n",
      "\u001b[32m[I 2021-12-20 16:46:35,948]\u001b[0m Trial 228 finished with value: 0.8316498316498316 and parameters: {'classifier': 'RandomForest', 'rf_n_estimators': 111, 'rf_max_depth': 6}. Best is trial 97 with value: 0.8327721661054994.\u001b[0m\n",
      "\u001b[32m[I 2021-12-20 16:46:35,985]\u001b[0m Trial 229 finished with value: 0.6161616161616161 and parameters: {'classifier': 'LogReg', 'logreg_c': 6.757808635418624e-08}. Best is trial 97 with value: 0.8327721661054994.\u001b[0m\n",
      "\u001b[32m[I 2021-12-20 16:46:36,359]\u001b[0m Trial 230 finished with value: 0.8260381593714928 and parameters: {'classifier': 'RandomForest', 'rf_n_estimators': 127, 'rf_max_depth': 7}. Best is trial 97 with value: 0.8327721661054994.\u001b[0m\n",
      "\u001b[32m[I 2021-12-20 16:46:36,581]\u001b[0m Trial 231 finished with value: 0.8237934904601572 and parameters: {'classifier': 'RandomForest', 'rf_n_estimators': 88, 'rf_max_depth': 6}. Best is trial 97 with value: 0.8327721661054994.\u001b[0m\n",
      "\u001b[32m[I 2021-12-20 16:46:36,907]\u001b[0m Trial 232 finished with value: 0.830527497194164 and parameters: {'classifier': 'RandomForest', 'rf_n_estimators': 142, 'rf_max_depth': 6}. Best is trial 97 with value: 0.8327721661054994.\u001b[0m\n",
      "\u001b[32m[I 2021-12-20 16:46:37,280]\u001b[0m Trial 233 finished with value: 0.8226711560044894 and parameters: {'classifier': 'RandomForest', 'rf_n_estimators': 165, 'rf_max_depth': 7}. Best is trial 97 with value: 0.8327721661054994.\u001b[0m\n",
      "\u001b[32m[I 2021-12-20 16:46:37,681]\u001b[0m Trial 234 finished with value: 0.830527497194164 and parameters: {'classifier': 'RandomForest', 'rf_n_estimators': 186, 'rf_max_depth': 6}. Best is trial 97 with value: 0.8327721661054994.\u001b[0m\n",
      "\u001b[32m[I 2021-12-20 16:46:38,180]\u001b[0m Trial 235 finished with value: 0.8294051627384961 and parameters: {'classifier': 'RandomForest', 'rf_n_estimators': 223, 'rf_max_depth': 6}. Best is trial 97 with value: 0.8327721661054994.\u001b[0m\n",
      "\u001b[32m[I 2021-12-20 16:46:38,647]\u001b[0m Trial 236 finished with value: 0.8271604938271605 and parameters: {'classifier': 'RandomForest', 'rf_n_estimators': 193, 'rf_max_depth': 6}. Best is trial 97 with value: 0.8327721661054994.\u001b[0m\n",
      "\u001b[32m[I 2021-12-20 16:46:38,974]\u001b[0m Trial 237 finished with value: 0.8338945005611672 and parameters: {'classifier': 'RandomForest', 'rf_n_estimators': 146, 'rf_max_depth': 6}. Best is trial 237 with value: 0.8338945005611672.\u001b[0m\n",
      "\u001b[32m[I 2021-12-20 16:46:39,300]\u001b[0m Trial 238 finished with value: 0.8282828282828283 and parameters: {'classifier': 'RandomForest', 'rf_n_estimators': 144, 'rf_max_depth': 6}. Best is trial 237 with value: 0.8338945005611672.\u001b[0m\n",
      "\u001b[32m[I 2021-12-20 16:46:39,595]\u001b[0m Trial 239 finished with value: 0.8249158249158249 and parameters: {'classifier': 'RandomForest', 'rf_n_estimators': 125, 'rf_max_depth': 7}. Best is trial 237 with value: 0.8338945005611672.\u001b[0m\n",
      "\u001b[32m[I 2021-12-20 16:46:39,971]\u001b[0m Trial 240 finished with value: 0.8260381593714928 and parameters: {'classifier': 'RandomForest', 'rf_n_estimators': 173, 'rf_max_depth': 6}. Best is trial 237 with value: 0.8338945005611672.\u001b[0m\n",
      "\u001b[32m[I 2021-12-20 16:46:40,200]\u001b[0m Trial 241 finished with value: 0.8305274971941637 and parameters: {'classifier': 'RandomForest', 'rf_n_estimators': 92, 'rf_max_depth': 6}. Best is trial 237 with value: 0.8338945005611672.\u001b[0m\n",
      "\u001b[32m[I 2021-12-20 16:46:40,415]\u001b[0m Trial 242 finished with value: 0.8204264870931537 and parameters: {'classifier': 'RandomForest', 'rf_n_estimators': 87, 'rf_max_depth': 6}. Best is trial 237 with value: 0.8338945005611672.\u001b[0m\n",
      "\u001b[32m[I 2021-12-20 16:46:40,666]\u001b[0m Trial 243 finished with value: 0.8271604938271605 and parameters: {'classifier': 'RandomForest', 'rf_n_estimators': 113, 'rf_max_depth': 6}. Best is trial 237 with value: 0.8338945005611672.\u001b[0m\n",
      "\u001b[32m[I 2021-12-20 16:46:40,866]\u001b[0m Trial 244 finished with value: 0.8249158249158249 and parameters: {'classifier': 'RandomForest', 'rf_n_estimators': 82, 'rf_max_depth': 6}. Best is trial 237 with value: 0.8338945005611672.\u001b[0m\n",
      "\u001b[32m[I 2021-12-20 16:46:41,178]\u001b[0m Trial 245 finished with value: 0.8305274971941637 and parameters: {'classifier': 'RandomForest', 'rf_n_estimators': 127, 'rf_max_depth': 6}. Best is trial 237 with value: 0.8338945005611672.\u001b[0m\n",
      "\u001b[32m[I 2021-12-20 16:46:41,520]\u001b[0m Trial 246 finished with value: 0.8282828282828284 and parameters: {'classifier': 'RandomForest', 'rf_n_estimators': 138, 'rf_max_depth': 6}. Best is trial 237 with value: 0.8338945005611672.\u001b[0m\n",
      "\u001b[32m[I 2021-12-20 16:46:41,817]\u001b[0m Trial 247 finished with value: 0.8294051627384961 and parameters: {'classifier': 'RandomForest', 'rf_n_estimators': 117, 'rf_max_depth': 5}. Best is trial 237 with value: 0.8338945005611672.\u001b[0m\n",
      "\u001b[32m[I 2021-12-20 16:46:42,268]\u001b[0m Trial 248 finished with value: 0.8294051627384961 and parameters: {'classifier': 'RandomForest', 'rf_n_estimators': 192, 'rf_max_depth': 7}. Best is trial 237 with value: 0.8338945005611672.\u001b[0m\n",
      "\u001b[32m[I 2021-12-20 16:46:43,999]\u001b[0m Trial 249 finished with value: 0.8271604938271606 and parameters: {'classifier': 'RandomForest', 'rf_n_estimators': 821, 'rf_max_depth': 6}. Best is trial 237 with value: 0.8338945005611672.\u001b[0m\n",
      "\u001b[32m[I 2021-12-20 16:46:44,166]\u001b[0m Trial 250 finished with value: 0.8271604938271605 and parameters: {'classifier': 'RandomForest', 'rf_n_estimators': 63, 'rf_max_depth': 5}. Best is trial 237 with value: 0.8338945005611672.\u001b[0m\n",
      "\u001b[32m[I 2021-12-20 16:46:44,548]\u001b[0m Trial 251 finished with value: 0.8249158249158249 and parameters: {'classifier': 'RandomForest', 'rf_n_estimators': 167, 'rf_max_depth': 6}. Best is trial 237 with value: 0.8338945005611672.\u001b[0m\n"
     ]
    },
    {
     "name": "stderr",
     "output_type": "stream",
     "text": [
      "\u001b[32m[I 2021-12-20 16:46:46,415]\u001b[0m Trial 252 finished with value: 0.8226711560044894 and parameters: {'classifier': 'RandomForest', 'rf_n_estimators': 838, 'rf_max_depth': 7}. Best is trial 237 with value: 0.8338945005611672.\u001b[0m\n",
      "\u001b[32m[I 2021-12-20 16:46:46,732]\u001b[0m Trial 253 finished with value: 0.8271604938271605 and parameters: {'classifier': 'RandomForest', 'rf_n_estimators': 138, 'rf_max_depth': 6}. Best is trial 237 with value: 0.8338945005611672.\u001b[0m\n",
      "\u001b[32m[I 2021-12-20 16:46:46,969]\u001b[0m Trial 254 finished with value: 0.8260381593714928 and parameters: {'classifier': 'RandomForest', 'rf_n_estimators': 98, 'rf_max_depth': 6}. Best is trial 237 with value: 0.8338945005611672.\u001b[0m\n",
      "\u001b[32m[I 2021-12-20 16:46:47,273]\u001b[0m Trial 255 finished with value: 0.8282828282828283 and parameters: {'classifier': 'RandomForest', 'rf_n_estimators': 109, 'rf_max_depth': 7}. Best is trial 237 with value: 0.8338945005611672.\u001b[0m\n",
      "\u001b[32m[I 2021-12-20 16:46:48,537]\u001b[0m Trial 256 finished with value: 0.8237934904601572 and parameters: {'classifier': 'RandomForest', 'rf_n_estimators': 572, 'rf_max_depth': 5}. Best is trial 237 with value: 0.8338945005611672.\u001b[0m\n",
      "\u001b[32m[I 2021-12-20 16:46:49,014]\u001b[0m Trial 257 finished with value: 0.8249158249158249 and parameters: {'classifier': 'RandomForest', 'rf_n_estimators': 220, 'rf_max_depth': 7}. Best is trial 237 with value: 0.8338945005611672.\u001b[0m\n",
      "\u001b[32m[I 2021-12-20 16:46:49,365]\u001b[0m Trial 258 finished with value: 0.8249158249158249 and parameters: {'classifier': 'RandomForest', 'rf_n_estimators': 154, 'rf_max_depth': 5}. Best is trial 237 with value: 0.8338945005611672.\u001b[0m\n",
      "\u001b[32m[I 2021-12-20 16:46:49,415]\u001b[0m Trial 259 finished with value: 0.7957351290684623 and parameters: {'classifier': 'LogReg', 'logreg_c': 5420659.071842756}. Best is trial 237 with value: 0.8338945005611672.\u001b[0m\n",
      "\u001b[32m[I 2021-12-20 16:46:49,815]\u001b[0m Trial 260 finished with value: 0.8282828282828283 and parameters: {'classifier': 'RandomForest', 'rf_n_estimators': 187, 'rf_max_depth': 6}. Best is trial 237 with value: 0.8338945005611672.\u001b[0m\n",
      "\u001b[32m[I 2021-12-20 16:46:51,545]\u001b[0m Trial 261 finished with value: 0.8249158249158249 and parameters: {'classifier': 'RandomForest', 'rf_n_estimators': 811, 'rf_max_depth': 7}. Best is trial 237 with value: 0.8338945005611672.\u001b[0m\n",
      "\u001b[32m[I 2021-12-20 16:46:53,338]\u001b[0m Trial 262 finished with value: 0.8294051627384961 and parameters: {'classifier': 'RandomForest', 'rf_n_estimators': 851, 'rf_max_depth': 6}. Best is trial 237 with value: 0.8338945005611672.\u001b[0m\n",
      "\u001b[32m[I 2021-12-20 16:46:53,671]\u001b[0m Trial 263 finished with value: 0.8282828282828283 and parameters: {'classifier': 'RandomForest', 'rf_n_estimators': 126, 'rf_max_depth': 6}. Best is trial 237 with value: 0.8338945005611672.\u001b[0m\n",
      "\u001b[32m[I 2021-12-20 16:46:55,497]\u001b[0m Trial 264 finished with value: 0.8237934904601572 and parameters: {'classifier': 'RandomForest', 'rf_n_estimators': 877, 'rf_max_depth': 5}. Best is trial 237 with value: 0.8338945005611672.\u001b[0m\n",
      "\u001b[32m[I 2021-12-20 16:46:56,660]\u001b[0m Trial 265 finished with value: 0.8170594837261503 and parameters: {'classifier': 'RandomForest', 'rf_n_estimators': 528, 'rf_max_depth': 8}. Best is trial 237 with value: 0.8338945005611672.\u001b[0m\n",
      "\u001b[32m[I 2021-12-20 16:46:58,302]\u001b[0m Trial 266 finished with value: 0.8294051627384961 and parameters: {'classifier': 'RandomForest', 'rf_n_estimators': 842, 'rf_max_depth': 4}. Best is trial 237 with value: 0.8338945005611672.\u001b[0m\n",
      "\u001b[32m[I 2021-12-20 16:47:00,029]\u001b[0m Trial 267 finished with value: 0.8282828282828283 and parameters: {'classifier': 'RandomForest', 'rf_n_estimators': 794, 'rf_max_depth': 6}. Best is trial 237 with value: 0.8338945005611672.\u001b[0m\n",
      "\u001b[32m[I 2021-12-20 16:47:00,412]\u001b[0m Trial 268 finished with value: 0.8226711560044894 and parameters: {'classifier': 'RandomForest', 'rf_n_estimators': 149, 'rf_max_depth': 7}. Best is trial 237 with value: 0.8338945005611672.\u001b[0m\n",
      "\u001b[32m[I 2021-12-20 16:47:01,163]\u001b[0m Trial 269 finished with value: 0.8148148148148149 and parameters: {'classifier': 'RandomForest', 'rf_n_estimators': 300, 'rf_max_depth': 16}. Best is trial 237 with value: 0.8338945005611672.\u001b[0m\n",
      "\u001b[32m[I 2021-12-20 16:47:01,545]\u001b[0m Trial 270 finished with value: 0.8305274971941637 and parameters: {'classifier': 'RandomForest', 'rf_n_estimators': 162, 'rf_max_depth': 6}. Best is trial 237 with value: 0.8338945005611672.\u001b[0m\n",
      "\u001b[32m[I 2021-12-20 16:47:01,811]\u001b[0m Trial 271 finished with value: 0.8237934904601572 and parameters: {'classifier': 'RandomForest', 'rf_n_estimators': 103, 'rf_max_depth': 6}. Best is trial 237 with value: 0.8338945005611672.\u001b[0m\n",
      "\u001b[32m[I 2021-12-20 16:47:02,203]\u001b[0m Trial 272 finished with value: 0.8282828282828283 and parameters: {'classifier': 'RandomForest', 'rf_n_estimators': 168, 'rf_max_depth': 4}. Best is trial 237 with value: 0.8338945005611672.\u001b[0m\n",
      "\u001b[32m[I 2021-12-20 16:47:03,961]\u001b[0m Trial 273 finished with value: 0.8260381593714928 and parameters: {'classifier': 'RandomForest', 'rf_n_estimators': 863, 'rf_max_depth': 5}. Best is trial 237 with value: 0.8338945005611672.\u001b[0m\n",
      "\u001b[32m[I 2021-12-20 16:47:05,674]\u001b[0m Trial 274 finished with value: 0.8282828282828283 and parameters: {'classifier': 'RandomForest', 'rf_n_estimators': 832, 'rf_max_depth': 4}. Best is trial 237 with value: 0.8338945005611672.\u001b[0m\n",
      "\u001b[32m[I 2021-12-20 16:47:06,115]\u001b[0m Trial 275 finished with value: 0.8294051627384961 and parameters: {'classifier': 'RandomForest', 'rf_n_estimators': 178, 'rf_max_depth': 6}. Best is trial 237 with value: 0.8338945005611672.\u001b[0m\n",
      "\u001b[32m[I 2021-12-20 16:47:07,930]\u001b[0m Trial 276 finished with value: 0.8260381593714928 and parameters: {'classifier': 'RandomForest', 'rf_n_estimators': 889, 'rf_max_depth': 6}. Best is trial 237 with value: 0.8338945005611672.\u001b[0m\n",
      "\u001b[32m[I 2021-12-20 16:47:08,299]\u001b[0m Trial 277 finished with value: 0.8338945005611672 and parameters: {'classifier': 'RandomForest', 'rf_n_estimators': 155, 'rf_max_depth': 7}. Best is trial 237 with value: 0.8338945005611672.\u001b[0m\n",
      "\u001b[32m[I 2021-12-20 16:47:08,332]\u001b[0m Trial 278 finished with value: 0.7845117845117845 and parameters: {'classifier': 'LogReg', 'logreg_c': 0.021966988967177383}. Best is trial 237 with value: 0.8338945005611672.\u001b[0m\n",
      "\u001b[32m[I 2021-12-20 16:47:08,711]\u001b[0m Trial 279 finished with value: 0.8237934904601572 and parameters: {'classifier': 'RandomForest', 'rf_n_estimators': 166, 'rf_max_depth': 8}. Best is trial 237 with value: 0.8338945005611672.\u001b[0m\n",
      "\u001b[32m[I 2021-12-20 16:47:09,032]\u001b[0m Trial 280 finished with value: 0.8260381593714928 and parameters: {'classifier': 'RandomForest', 'rf_n_estimators': 139, 'rf_max_depth': 7}. Best is trial 237 with value: 0.8338945005611672.\u001b[0m\n",
      "\u001b[32m[I 2021-12-20 16:47:09,482]\u001b[0m Trial 281 finished with value: 0.8282828282828283 and parameters: {'classifier': 'RandomForest', 'rf_n_estimators': 205, 'rf_max_depth': 7}. Best is trial 237 with value: 0.8338945005611672.\u001b[0m\n",
      "\u001b[32m[I 2021-12-20 16:47:10,003]\u001b[0m Trial 282 finished with value: 0.8282828282828283 and parameters: {'classifier': 'RandomForest', 'rf_n_estimators': 236, 'rf_max_depth': 7}. Best is trial 237 with value: 0.8338945005611672.\u001b[0m\n",
      "\u001b[32m[I 2021-12-20 16:47:10,322]\u001b[0m Trial 283 finished with value: 0.8226711560044894 and parameters: {'classifier': 'RandomForest', 'rf_n_estimators': 129, 'rf_max_depth': 7}. Best is trial 237 with value: 0.8338945005611672.\u001b[0m\n",
      "\u001b[32m[I 2021-12-20 16:47:10,508]\u001b[0m Trial 284 finished with value: 0.8316498316498316 and parameters: {'classifier': 'RandomForest', 'rf_n_estimators': 72, 'rf_max_depth': 6}. Best is trial 237 with value: 0.8338945005611672.\u001b[0m\n",
      "\u001b[32m[I 2021-12-20 16:47:10,677]\u001b[0m Trial 285 finished with value: 0.8170594837261503 and parameters: {'classifier': 'RandomForest', 'rf_n_estimators': 60, 'rf_max_depth': 8}. Best is trial 237 with value: 0.8338945005611672.\u001b[0m\n",
      "\u001b[32m[I 2021-12-20 16:47:10,886]\u001b[0m Trial 286 finished with value: 0.819304152637486 and parameters: {'classifier': 'RandomForest', 'rf_n_estimators': 90, 'rf_max_depth': 6}. Best is trial 237 with value: 0.8338945005611672.\u001b[0m\n",
      "\u001b[32m[I 2021-12-20 16:47:11,387]\u001b[0m Trial 287 finished with value: 0.8316498316498316 and parameters: {'classifier': 'RandomForest', 'rf_n_estimators': 207, 'rf_max_depth': 4}. Best is trial 237 with value: 0.8338945005611672.\u001b[0m\n"
     ]
    },
    {
     "name": "stderr",
     "output_type": "stream",
     "text": [
      "\u001b[32m[I 2021-12-20 16:47:11,901]\u001b[0m Trial 288 finished with value: 0.8282828282828283 and parameters: {'classifier': 'RandomForest', 'rf_n_estimators': 210, 'rf_max_depth': 7}. Best is trial 237 with value: 0.8338945005611672.\u001b[0m\n",
      "\u001b[32m[I 2021-12-20 16:47:12,325]\u001b[0m Trial 289 finished with value: 0.8305274971941637 and parameters: {'classifier': 'RandomForest', 'rf_n_estimators': 185, 'rf_max_depth': 4}. Best is trial 237 with value: 0.8338945005611672.\u001b[0m\n",
      "\u001b[32m[I 2021-12-20 16:47:13,431]\u001b[0m Trial 290 finished with value: 0.8294051627384961 and parameters: {'classifier': 'RandomForest', 'rf_n_estimators': 552, 'rf_max_depth': 4}. Best is trial 237 with value: 0.8338945005611672.\u001b[0m\n",
      "\u001b[32m[I 2021-12-20 16:47:15,057]\u001b[0m Trial 291 finished with value: 0.8305274971941637 and parameters: {'classifier': 'RandomForest', 'rf_n_estimators': 772, 'rf_max_depth': 6}. Best is trial 237 with value: 0.8338945005611672.\u001b[0m\n",
      "\u001b[32m[I 2021-12-20 16:47:15,163]\u001b[0m Trial 292 finished with value: 0.8237934904601572 and parameters: {'classifier': 'RandomForest', 'rf_n_estimators': 37, 'rf_max_depth': 4}. Best is trial 237 with value: 0.8338945005611672.\u001b[0m\n",
      "\u001b[32m[I 2021-12-20 16:47:16,664]\u001b[0m Trial 293 finished with value: 0.8260381593714926 and parameters: {'classifier': 'RandomForest', 'rf_n_estimators': 766, 'rf_max_depth': 4}. Best is trial 237 with value: 0.8338945005611672.\u001b[0m\n",
      "\u001b[32m[I 2021-12-20 16:47:17,305]\u001b[0m Trial 294 finished with value: 0.8249158249158249 and parameters: {'classifier': 'RandomForest', 'rf_n_estimators': 260, 'rf_max_depth': 5}. Best is trial 237 with value: 0.8338945005611672.\u001b[0m\n",
      "\u001b[32m[I 2021-12-20 16:47:19,297]\u001b[0m Trial 295 finished with value: 0.8271604938271606 and parameters: {'classifier': 'RandomForest', 'rf_n_estimators': 811, 'rf_max_depth': 6}. Best is trial 237 with value: 0.8338945005611672.\u001b[0m\n",
      "\u001b[32m[I 2021-12-20 16:47:19,649]\u001b[0m Trial 296 finished with value: 0.8181818181818182 and parameters: {'classifier': 'RandomForest', 'rf_n_estimators': 152, 'rf_max_depth': 9}. Best is trial 237 with value: 0.8338945005611672.\u001b[0m\n",
      "\u001b[32m[I 2021-12-20 16:47:19,920]\u001b[0m Trial 297 finished with value: 0.8237934904601572 and parameters: {'classifier': 'RandomForest', 'rf_n_estimators': 118, 'rf_max_depth': 5}. Best is trial 237 with value: 0.8338945005611672.\u001b[0m\n",
      "\u001b[32m[I 2021-12-20 16:47:19,983]\u001b[0m Trial 298 finished with value: 0.7957351290684623 and parameters: {'classifier': 'LogReg', 'logreg_c': 117.49434729047594}. Best is trial 237 with value: 0.8338945005611672.\u001b[0m\n",
      "\u001b[32m[I 2021-12-20 16:47:20,332]\u001b[0m Trial 299 finished with value: 0.8271604938271605 and parameters: {'classifier': 'RandomForest', 'rf_n_estimators': 159, 'rf_max_depth': 4}. Best is trial 237 with value: 0.8338945005611672.\u001b[0m\n",
      "\u001b[32m[I 2021-12-20 16:47:20,549]\u001b[0m Trial 300 finished with value: 0.8282828282828283 and parameters: {'classifier': 'RandomForest', 'rf_n_estimators': 94, 'rf_max_depth': 4}. Best is trial 237 with value: 0.8338945005611672.\u001b[0m\n",
      "\u001b[32m[I 2021-12-20 16:47:20,882]\u001b[0m Trial 301 finished with value: 0.8316498316498318 and parameters: {'classifier': 'RandomForest', 'rf_n_estimators': 144, 'rf_max_depth': 6}. Best is trial 237 with value: 0.8338945005611672.\u001b[0m\n",
      "\u001b[32m[I 2021-12-20 16:47:22,793]\u001b[0m Trial 302 finished with value: 0.829405162738496 and parameters: {'classifier': 'RandomForest', 'rf_n_estimators': 947, 'rf_max_depth': 5}. Best is trial 237 with value: 0.8338945005611672.\u001b[0m\n",
      "\u001b[32m[I 2021-12-20 16:47:24,564]\u001b[0m Trial 303 finished with value: 0.8271604938271606 and parameters: {'classifier': 'RandomForest', 'rf_n_estimators': 795, 'rf_max_depth': 6}. Best is trial 237 with value: 0.8338945005611672.\u001b[0m\n",
      "\u001b[32m[I 2021-12-20 16:47:25,078]\u001b[0m Trial 304 finished with value: 0.8215488215488215 and parameters: {'classifier': 'RandomForest', 'rf_n_estimators': 212, 'rf_max_depth': 8}. Best is trial 237 with value: 0.8338945005611672.\u001b[0m\n",
      "\u001b[32m[I 2021-12-20 16:47:25,512]\u001b[0m Trial 305 finished with value: 0.8103254769921436 and parameters: {'classifier': 'RandomForest', 'rf_n_estimators': 185, 'rf_max_depth': 20}. Best is trial 237 with value: 0.8338945005611672.\u001b[0m\n",
      "\u001b[32m[I 2021-12-20 16:47:25,998]\u001b[0m Trial 306 finished with value: 0.8215488215488215 and parameters: {'classifier': 'RandomForest', 'rf_n_estimators': 221, 'rf_max_depth': 7}. Best is trial 237 with value: 0.8338945005611672.\u001b[0m\n",
      "\u001b[32m[I 2021-12-20 16:47:26,630]\u001b[0m Trial 307 finished with value: 0.8215488215488215 and parameters: {'classifier': 'RandomForest', 'rf_n_estimators': 284, 'rf_max_depth': 7}. Best is trial 237 with value: 0.8338945005611672.\u001b[0m\n",
      "\u001b[32m[I 2021-12-20 16:47:27,044]\u001b[0m Trial 308 finished with value: 0.8294051627384961 and parameters: {'classifier': 'RandomForest', 'rf_n_estimators': 193, 'rf_max_depth': 7}. Best is trial 237 with value: 0.8338945005611672.\u001b[0m\n",
      "\u001b[32m[I 2021-12-20 16:47:27,256]\u001b[0m Trial 309 finished with value: 0.8271604938271605 and parameters: {'classifier': 'RandomForest', 'rf_n_estimators': 78, 'rf_max_depth': 6}. Best is trial 237 with value: 0.8338945005611672.\u001b[0m\n",
      "\u001b[32m[I 2021-12-20 16:47:27,931]\u001b[0m Trial 310 finished with value: 0.8282828282828283 and parameters: {'classifier': 'RandomForest', 'rf_n_estimators': 324, 'rf_max_depth': 6}. Best is trial 237 with value: 0.8338945005611672.\u001b[0m\n",
      "\u001b[32m[I 2021-12-20 16:47:29,346]\u001b[0m Trial 311 finished with value: 0.8226711560044894 and parameters: {'classifier': 'RandomForest', 'rf_n_estimators': 681, 'rf_max_depth': 5}. Best is trial 237 with value: 0.8338945005611672.\u001b[0m\n",
      "\u001b[32m[I 2021-12-20 16:47:29,711]\u001b[0m Trial 312 finished with value: 0.8249158249158249 and parameters: {'classifier': 'RandomForest', 'rf_n_estimators': 142, 'rf_max_depth': 6}. Best is trial 237 with value: 0.8338945005611672.\u001b[0m\n",
      "\u001b[32m[I 2021-12-20 16:47:31,462]\u001b[0m Trial 313 finished with value: 0.8271604938271605 and parameters: {'classifier': 'RandomForest', 'rf_n_estimators': 824, 'rf_max_depth': 6}. Best is trial 237 with value: 0.8338945005611672.\u001b[0m\n",
      "\u001b[32m[I 2021-12-20 16:47:33,182]\u001b[0m Trial 314 finished with value: 0.8271604938271605 and parameters: {'classifier': 'RandomForest', 'rf_n_estimators': 856, 'rf_max_depth': 4}. Best is trial 237 with value: 0.8338945005611672.\u001b[0m\n",
      "\u001b[32m[I 2021-12-20 16:47:33,614]\u001b[0m Trial 315 finished with value: 0.8316498316498318 and parameters: {'classifier': 'RandomForest', 'rf_n_estimators': 176, 'rf_max_depth': 7}. Best is trial 237 with value: 0.8338945005611672.\u001b[0m\n",
      "\u001b[32m[I 2021-12-20 16:47:34,665]\u001b[0m Trial 316 finished with value: 0.8282828282828283 and parameters: {'classifier': 'RandomForest', 'rf_n_estimators': 509, 'rf_max_depth': 4}. Best is trial 237 with value: 0.8338945005611672.\u001b[0m\n",
      "\u001b[32m[I 2021-12-20 16:47:35,123]\u001b[0m Trial 317 finished with value: 0.8237934904601572 and parameters: {'classifier': 'RandomForest', 'rf_n_estimators': 186, 'rf_max_depth': 8}. Best is trial 237 with value: 0.8338945005611672.\u001b[0m\n",
      "\u001b[32m[I 2021-12-20 16:47:35,510]\u001b[0m Trial 318 finished with value: 0.8226711560044894 and parameters: {'classifier': 'RandomForest', 'rf_n_estimators': 155, 'rf_max_depth': 7}. Best is trial 237 with value: 0.8338945005611672.\u001b[0m\n",
      "\u001b[32m[I 2021-12-20 16:47:35,918]\u001b[0m Trial 319 finished with value: 0.8215488215488215 and parameters: {'classifier': 'RandomForest', 'rf_n_estimators': 170, 'rf_max_depth': 6}. Best is trial 237 with value: 0.8338945005611672.\u001b[0m\n",
      "\u001b[32m[I 2021-12-20 16:47:36,356]\u001b[0m Trial 320 finished with value: 0.8282828282828283 and parameters: {'classifier': 'RandomForest', 'rf_n_estimators': 189, 'rf_max_depth': 4}. Best is trial 237 with value: 0.8338945005611672.\u001b[0m\n",
      "\u001b[32m[I 2021-12-20 16:47:36,421]\u001b[0m Trial 321 finished with value: 0.7957351290684623 and parameters: {'classifier': 'LogReg', 'logreg_c': 3217230272.729004}. Best is trial 237 with value: 0.8338945005611672.\u001b[0m\n",
      "\u001b[32m[I 2021-12-20 16:47:36,684]\u001b[0m Trial 322 finished with value: 0.8271604938271605 and parameters: {'classifier': 'RandomForest', 'rf_n_estimators': 124, 'rf_max_depth': 5}. Best is trial 237 with value: 0.8338945005611672.\u001b[0m\n",
      "\u001b[32m[I 2021-12-20 16:47:37,988]\u001b[0m Trial 323 finished with value: 0.8249158249158248 and parameters: {'classifier': 'RandomForest', 'rf_n_estimators': 616, 'rf_max_depth': 7}. Best is trial 237 with value: 0.8338945005611672.\u001b[0m\n"
     ]
    },
    {
     "name": "stderr",
     "output_type": "stream",
     "text": [
      "\u001b[32m[I 2021-12-20 16:47:38,491]\u001b[0m Trial 324 finished with value: 0.8260381593714926 and parameters: {'classifier': 'RandomForest', 'rf_n_estimators': 242, 'rf_max_depth': 4}. Best is trial 237 with value: 0.8338945005611672.\u001b[0m\n",
      "\u001b[32m[I 2021-12-20 16:47:38,794]\u001b[0m Trial 325 finished with value: 0.8237934904601572 and parameters: {'classifier': 'RandomForest', 'rf_n_estimators': 143, 'rf_max_depth': 3}. Best is trial 237 with value: 0.8338945005611672.\u001b[0m\n",
      "\u001b[32m[I 2021-12-20 16:47:40,726]\u001b[0m Trial 326 finished with value: 0.8260381593714926 and parameters: {'classifier': 'RandomForest', 'rf_n_estimators': 911, 'rf_max_depth': 7}. Best is trial 237 with value: 0.8338945005611672.\u001b[0m\n",
      "\u001b[32m[I 2021-12-20 16:47:40,863]\u001b[0m Trial 327 finished with value: 0.8282828282828283 and parameters: {'classifier': 'RandomForest', 'rf_n_estimators': 51, 'rf_max_depth': 6}. Best is trial 237 with value: 0.8338945005611672.\u001b[0m\n",
      "\u001b[32m[I 2021-12-20 16:47:41,138]\u001b[0m Trial 328 finished with value: 0.8294051627384961 and parameters: {'classifier': 'RandomForest', 'rf_n_estimators': 105, 'rf_max_depth': 6}. Best is trial 237 with value: 0.8338945005611672.\u001b[0m\n",
      "\u001b[32m[I 2021-12-20 16:47:41,482]\u001b[0m Trial 329 finished with value: 0.8237934904601572 and parameters: {'classifier': 'RandomForest', 'rf_n_estimators': 136, 'rf_max_depth': 5}. Best is trial 237 with value: 0.8338945005611672.\u001b[0m\n",
      "\u001b[32m[I 2021-12-20 16:47:41,876]\u001b[0m Trial 330 finished with value: 0.8294051627384961 and parameters: {'classifier': 'RandomForest', 'rf_n_estimators': 162, 'rf_max_depth': 6}. Best is trial 237 with value: 0.8338945005611672.\u001b[0m\n",
      "\u001b[32m[I 2021-12-20 16:47:43,759]\u001b[0m Trial 331 finished with value: 0.819304152637486 and parameters: {'classifier': 'RandomForest', 'rf_n_estimators': 837, 'rf_max_depth': 8}. Best is trial 237 with value: 0.8338945005611672.\u001b[0m\n",
      "\u001b[32m[I 2021-12-20 16:47:44,018]\u001b[0m Trial 332 finished with value: 0.8282828282828284 and parameters: {'classifier': 'RandomForest', 'rf_n_estimators': 113, 'rf_max_depth': 6}. Best is trial 237 with value: 0.8338945005611672.\u001b[0m\n",
      "\u001b[32m[I 2021-12-20 16:47:45,782]\u001b[0m Trial 333 finished with value: 0.8271604938271605 and parameters: {'classifier': 'RandomForest', 'rf_n_estimators': 881, 'rf_max_depth': 4}. Best is trial 237 with value: 0.8338945005611672.\u001b[0m\n",
      "\u001b[32m[I 2021-12-20 16:47:46,978]\u001b[0m Trial 334 finished with value: 0.8249158249158249 and parameters: {'classifier': 'RandomForest', 'rf_n_estimators': 572, 'rf_max_depth': 7}. Best is trial 237 with value: 0.8338945005611672.\u001b[0m\n",
      "\u001b[32m[I 2021-12-20 16:47:47,344]\u001b[0m Trial 335 finished with value: 0.8271604938271605 and parameters: {'classifier': 'RandomForest', 'rf_n_estimators': 148, 'rf_max_depth': 6}. Best is trial 237 with value: 0.8338945005611672.\u001b[0m\n",
      "\u001b[32m[I 2021-12-20 16:47:49,198]\u001b[0m Trial 336 finished with value: 0.8237934904601572 and parameters: {'classifier': 'RandomForest', 'rf_n_estimators': 896, 'rf_max_depth': 5}. Best is trial 237 with value: 0.8338945005611672.\u001b[0m\n",
      "\u001b[32m[I 2021-12-20 16:47:49,237]\u001b[0m Trial 337 finished with value: 0.6161616161616161 and parameters: {'classifier': 'LogReg', 'logreg_c': 1.3831288823476187e-08}. Best is trial 237 with value: 0.8338945005611672.\u001b[0m\n",
      "\u001b[32m[I 2021-12-20 16:47:50,979]\u001b[0m Trial 338 finished with value: 0.8260381593714928 and parameters: {'classifier': 'RandomForest', 'rf_n_estimators': 809, 'rf_max_depth': 7}. Best is trial 237 with value: 0.8338945005611672.\u001b[0m\n",
      "\u001b[32m[I 2021-12-20 16:47:51,413]\u001b[0m Trial 339 finished with value: 0.8103254769921436 and parameters: {'classifier': 'RandomForest', 'rf_n_estimators': 176, 'rf_max_depth': 11}. Best is trial 237 with value: 0.8338945005611672.\u001b[0m\n",
      "\u001b[32m[I 2021-12-20 16:47:53,143]\u001b[0m Trial 340 finished with value: 0.8271604938271605 and parameters: {'classifier': 'RandomForest', 'rf_n_estimators': 828, 'rf_max_depth': 6}. Best is trial 237 with value: 0.8338945005611672.\u001b[0m\n",
      "\u001b[32m[I 2021-12-20 16:47:53,409]\u001b[0m Trial 341 finished with value: 0.8305274971941637 and parameters: {'classifier': 'RandomForest', 'rf_n_estimators': 118, 'rf_max_depth': 4}. Best is trial 237 with value: 0.8338945005611672.\u001b[0m\n",
      "\u001b[32m[I 2021-12-20 16:47:53,685]\u001b[0m Trial 342 finished with value: 0.8271604938271605 and parameters: {'classifier': 'RandomForest', 'rf_n_estimators': 135, 'rf_max_depth': 4}. Best is trial 237 with value: 0.8338945005611672.\u001b[0m\n",
      "\u001b[32m[I 2021-12-20 16:47:53,885]\u001b[0m Trial 343 finished with value: 0.8282828282828284 and parameters: {'classifier': 'RandomForest', 'rf_n_estimators': 87, 'rf_max_depth': 6}. Best is trial 237 with value: 0.8338945005611672.\u001b[0m\n",
      "\u001b[32m[I 2021-12-20 16:47:55,235]\u001b[0m Trial 344 finished with value: 0.8282828282828283 and parameters: {'classifier': 'RandomForest', 'rf_n_estimators': 716, 'rf_max_depth': 7}. Best is trial 237 with value: 0.8338945005611672.\u001b[0m\n",
      "\u001b[32m[I 2021-12-20 16:47:55,698]\u001b[0m Trial 345 finished with value: 0.819304152637486 and parameters: {'classifier': 'RandomForest', 'rf_n_estimators': 233, 'rf_max_depth': 9}. Best is trial 237 with value: 0.8338945005611672.\u001b[0m\n",
      "\u001b[32m[I 2021-12-20 16:47:57,069]\u001b[0m Trial 346 finished with value: 0.8271604938271606 and parameters: {'classifier': 'RandomForest', 'rf_n_estimators': 767, 'rf_max_depth': 6}. Best is trial 237 with value: 0.8338945005611672.\u001b[0m\n",
      "\u001b[32m[I 2021-12-20 16:47:57,312]\u001b[0m Trial 347 finished with value: 0.8215488215488215 and parameters: {'classifier': 'RandomForest', 'rf_n_estimators': 125, 'rf_max_depth': 5}. Best is trial 237 with value: 0.8338945005611672.\u001b[0m\n",
      "\u001b[32m[I 2021-12-20 16:47:57,614]\u001b[0m Trial 348 finished with value: 0.8260381593714926 and parameters: {'classifier': 'RandomForest', 'rf_n_estimators': 158, 'rf_max_depth': 6}. Best is trial 237 with value: 0.8338945005611672.\u001b[0m\n",
      "\u001b[32m[I 2021-12-20 16:47:57,965]\u001b[0m Trial 349 finished with value: 0.8237934904601572 and parameters: {'classifier': 'RandomForest', 'rf_n_estimators': 175, 'rf_max_depth': 7}. Best is trial 237 with value: 0.8338945005611672.\u001b[0m\n",
      "\u001b[32m[I 2021-12-20 16:47:58,914]\u001b[0m Trial 350 finished with value: 0.8282828282828283 and parameters: {'classifier': 'RandomForest', 'rf_n_estimators': 532, 'rf_max_depth': 6}. Best is trial 237 with value: 0.8338945005611672.\u001b[0m\n",
      "\u001b[32m[I 2021-12-20 16:47:59,153]\u001b[0m Trial 351 finished with value: 0.8271604938271606 and parameters: {'classifier': 'RandomForest', 'rf_n_estimators': 111, 'rf_max_depth': 6}. Best is trial 237 with value: 0.8338945005611672.\u001b[0m\n",
      "\u001b[32m[I 2021-12-20 16:47:59,304]\u001b[0m Trial 352 finished with value: 0.8249158249158249 and parameters: {'classifier': 'RandomForest', 'rf_n_estimators': 63, 'rf_max_depth': 7}. Best is trial 237 with value: 0.8338945005611672.\u001b[0m\n",
      "\u001b[32m[I 2021-12-20 16:48:00,863]\u001b[0m Trial 353 finished with value: 0.8316498316498318 and parameters: {'classifier': 'RandomForest', 'rf_n_estimators': 860, 'rf_max_depth': 4}. Best is trial 237 with value: 0.8338945005611672.\u001b[0m\n",
      "\u001b[32m[I 2021-12-20 16:48:01,398]\u001b[0m Trial 354 finished with value: 0.8249158249158249 and parameters: {'classifier': 'RandomForest', 'rf_n_estimators': 291, 'rf_max_depth': 5}. Best is trial 237 with value: 0.8338945005611672.\u001b[0m\n",
      "\u001b[32m[I 2021-12-20 16:48:02,949]\u001b[0m Trial 355 finished with value: 0.829405162738496 and parameters: {'classifier': 'RandomForest', 'rf_n_estimators': 927, 'rf_max_depth': 4}. Best is trial 237 with value: 0.8338945005611672.\u001b[0m\n",
      "\u001b[32m[I 2021-12-20 16:48:03,547]\u001b[0m Trial 356 finished with value: 0.8282828282828283 and parameters: {'classifier': 'RandomForest', 'rf_n_estimators': 342, 'rf_max_depth': 4}. Best is trial 237 with value: 0.8338945005611672.\u001b[0m\n",
      "\u001b[32m[I 2021-12-20 16:48:03,582]\u001b[0m Trial 357 finished with value: 0.7957351290684623 and parameters: {'classifier': 'LogReg', 'logreg_c': 1641206.9455167027}. Best is trial 237 with value: 0.8338945005611672.\u001b[0m\n",
      "\u001b[32m[I 2021-12-20 16:48:04,072]\u001b[0m Trial 358 finished with value: 0.8282828282828283 and parameters: {'classifier': 'RandomForest', 'rf_n_estimators': 259, 'rf_max_depth': 5}. Best is trial 237 with value: 0.8338945005611672.\u001b[0m\n",
      "\u001b[32m[I 2021-12-20 16:48:04,448]\u001b[0m Trial 359 finished with value: 0.8305274971941637 and parameters: {'classifier': 'RandomForest', 'rf_n_estimators': 205, 'rf_max_depth': 4}. Best is trial 237 with value: 0.8338945005611672.\u001b[0m\n"
     ]
    },
    {
     "name": "stderr",
     "output_type": "stream",
     "text": [
      "\u001b[32m[I 2021-12-20 16:48:06,117]\u001b[0m Trial 360 finished with value: 0.8215488215488215 and parameters: {'classifier': 'RandomForest', 'rf_n_estimators': 850, 'rf_max_depth': 8}. Best is trial 237 with value: 0.8338945005611672.\u001b[0m\n",
      "\u001b[32m[I 2021-12-20 16:48:07,019]\u001b[0m Trial 361 finished with value: 0.8148148148148149 and parameters: {'classifier': 'RandomForest', 'rf_n_estimators': 428, 'rf_max_depth': 23}. Best is trial 237 with value: 0.8338945005611672.\u001b[0m\n",
      "\u001b[32m[I 2021-12-20 16:48:08,110]\u001b[0m Trial 362 finished with value: 0.8271604938271605 and parameters: {'classifier': 'RandomForest', 'rf_n_estimators': 588, 'rf_max_depth': 7}. Best is trial 237 with value: 0.8338945005611672.\u001b[0m\n",
      "\u001b[32m[I 2021-12-20 16:48:09,581]\u001b[0m Trial 363 finished with value: 0.8226711560044894 and parameters: {'classifier': 'RandomForest', 'rf_n_estimators': 804, 'rf_max_depth': 8}. Best is trial 237 with value: 0.8338945005611672.\u001b[0m\n",
      "\u001b[32m[I 2021-12-20 16:48:09,865]\u001b[0m Trial 364 finished with value: 0.8282828282828283 and parameters: {'classifier': 'RandomForest', 'rf_n_estimators': 155, 'rf_max_depth': 4}. Best is trial 237 with value: 0.8338945005611672.\u001b[0m\n",
      "\u001b[32m[I 2021-12-20 16:48:11,318]\u001b[0m Trial 365 finished with value: 0.8249158249158249 and parameters: {'classifier': 'RandomForest', 'rf_n_estimators': 829, 'rf_max_depth': 5}. Best is trial 237 with value: 0.8338945005611672.\u001b[0m\n",
      "\u001b[32m[I 2021-12-20 16:48:13,128]\u001b[0m Trial 366 finished with value: 0.8271604938271606 and parameters: {'classifier': 'RandomForest', 'rf_n_estimators': 881, 'rf_max_depth': 6}. Best is trial 237 with value: 0.8338945005611672.\u001b[0m\n",
      "\u001b[32m[I 2021-12-20 16:48:14,934]\u001b[0m Trial 367 finished with value: 0.8215488215488215 and parameters: {'classifier': 'RandomForest', 'rf_n_estimators': 901, 'rf_max_depth': 7}. Best is trial 237 with value: 0.8338945005611672.\u001b[0m\n",
      "\u001b[32m[I 2021-12-20 16:48:16,696]\u001b[0m Trial 368 finished with value: 0.8282828282828282 and parameters: {'classifier': 'RandomForest', 'rf_n_estimators': 940, 'rf_max_depth': 4}. Best is trial 237 with value: 0.8338945005611672.\u001b[0m\n",
      "\u001b[32m[I 2021-12-20 16:48:18,561]\u001b[0m Trial 369 finished with value: 0.8282828282828283 and parameters: {'classifier': 'RandomForest', 'rf_n_estimators': 868, 'rf_max_depth': 6}. Best is trial 237 with value: 0.8338945005611672.\u001b[0m\n",
      "\u001b[32m[I 2021-12-20 16:48:19,865]\u001b[0m Trial 370 finished with value: 0.8294051627384961 and parameters: {'classifier': 'RandomForest', 'rf_n_estimators': 657, 'rf_max_depth': 6}. Best is trial 237 with value: 0.8338945005611672.\u001b[0m\n",
      "\u001b[32m[I 2021-12-20 16:48:20,318]\u001b[0m Trial 371 finished with value: 0.8249158249158249 and parameters: {'classifier': 'RandomForest', 'rf_n_estimators': 214, 'rf_max_depth': 5}. Best is trial 237 with value: 0.8338945005611672.\u001b[0m\n",
      "\u001b[32m[I 2021-12-20 16:48:20,690]\u001b[0m Trial 372 finished with value: 0.8260381593714928 and parameters: {'classifier': 'RandomForest', 'rf_n_estimators': 170, 'rf_max_depth': 7}. Best is trial 237 with value: 0.8338945005611672.\u001b[0m\n",
      "\u001b[32m[I 2021-12-20 16:48:20,971]\u001b[0m Trial 373 finished with value: 0.830527497194164 and parameters: {'classifier': 'RandomForest', 'rf_n_estimators': 138, 'rf_max_depth': 4}. Best is trial 237 with value: 0.8338945005611672.\u001b[0m\n",
      "\u001b[32m[I 2021-12-20 16:48:21,281]\u001b[0m Trial 374 finished with value: 0.8271604938271605 and parameters: {'classifier': 'RandomForest', 'rf_n_estimators': 137, 'rf_max_depth': 4}. Best is trial 237 with value: 0.8338945005611672.\u001b[0m\n",
      "\u001b[32m[I 2021-12-20 16:48:22,260]\u001b[0m Trial 375 finished with value: 0.8305274971941637 and parameters: {'classifier': 'RandomForest', 'rf_n_estimators': 470, 'rf_max_depth': 4}. Best is trial 237 with value: 0.8338945005611672.\u001b[0m\n",
      "\u001b[32m[I 2021-12-20 16:48:22,287]\u001b[0m Trial 376 finished with value: 0.6161616161616161 and parameters: {'classifier': 'LogReg', 'logreg_c': 3.6003696022954077e-06}. Best is trial 237 with value: 0.8338945005611672.\u001b[0m\n",
      "\u001b[32m[I 2021-12-20 16:48:22,399]\u001b[0m Trial 377 finished with value: 0.8305274971941637 and parameters: {'classifier': 'RandomForest', 'rf_n_estimators': 29, 'rf_max_depth': 6}. Best is trial 237 with value: 0.8338945005611672.\u001b[0m\n",
      "\u001b[32m[I 2021-12-20 16:48:24,097]\u001b[0m Trial 378 finished with value: 0.8271604938271606 and parameters: {'classifier': 'RandomForest', 'rf_n_estimators': 789, 'rf_max_depth': 6}. Best is trial 237 with value: 0.8338945005611672.\u001b[0m\n",
      "\u001b[32m[I 2021-12-20 16:48:24,428]\u001b[0m Trial 379 finished with value: 0.8294051627384961 and parameters: {'classifier': 'RandomForest', 'rf_n_estimators': 147, 'rf_max_depth': 4}. Best is trial 237 with value: 0.8338945005611672.\u001b[0m\n",
      "\u001b[32m[I 2021-12-20 16:48:24,693]\u001b[0m Trial 380 finished with value: 0.8260381593714926 and parameters: {'classifier': 'RandomForest', 'rf_n_estimators': 106, 'rf_max_depth': 7}. Best is trial 237 with value: 0.8338945005611672.\u001b[0m\n",
      "\u001b[32m[I 2021-12-20 16:48:24,898]\u001b[0m Trial 381 finished with value: 0.8080808080808081 and parameters: {'classifier': 'RandomForest', 'rf_n_estimators': 76, 'rf_max_depth': 12}. Best is trial 237 with value: 0.8338945005611672.\u001b[0m\n",
      "\u001b[32m[I 2021-12-20 16:48:25,221]\u001b[0m Trial 382 finished with value: 0.8226711560044894 and parameters: {'classifier': 'RandomForest', 'rf_n_estimators': 137, 'rf_max_depth': 6}. Best is trial 237 with value: 0.8338945005611672.\u001b[0m\n",
      "\u001b[32m[I 2021-12-20 16:48:25,598]\u001b[0m Trial 383 finished with value: 0.8249158249158249 and parameters: {'classifier': 'RandomForest', 'rf_n_estimators': 176, 'rf_max_depth': 6}. Best is trial 237 with value: 0.8338945005611672.\u001b[0m\n",
      "\u001b[32m[I 2021-12-20 16:48:25,964]\u001b[0m Trial 384 finished with value: 0.8260381593714928 and parameters: {'classifier': 'RandomForest', 'rf_n_estimators': 160, 'rf_max_depth': 7}. Best is trial 237 with value: 0.8338945005611672.\u001b[0m\n",
      "\u001b[32m[I 2021-12-20 16:48:27,912]\u001b[0m Trial 385 finished with value: 0.8271604938271605 and parameters: {'classifier': 'RandomForest', 'rf_n_estimators': 999, 'rf_max_depth': 4}. Best is trial 237 with value: 0.8338945005611672.\u001b[0m\n",
      "\u001b[32m[I 2021-12-20 16:48:28,342]\u001b[0m Trial 386 finished with value: 0.8316498316498316 and parameters: {'classifier': 'RandomForest', 'rf_n_estimators': 198, 'rf_max_depth': 4}. Best is trial 237 with value: 0.8338945005611672.\u001b[0m\n",
      "\u001b[32m[I 2021-12-20 16:48:28,748]\u001b[0m Trial 387 finished with value: 0.8226711560044894 and parameters: {'classifier': 'RandomForest', 'rf_n_estimators': 189, 'rf_max_depth': 5}. Best is trial 237 with value: 0.8338945005611672.\u001b[0m\n",
      "\u001b[32m[I 2021-12-20 16:48:29,242]\u001b[0m Trial 388 finished with value: 0.8260381593714926 and parameters: {'classifier': 'RandomForest', 'rf_n_estimators': 221, 'rf_max_depth': 4}. Best is trial 237 with value: 0.8338945005611672.\u001b[0m\n",
      "\u001b[32m[I 2021-12-20 16:48:29,742]\u001b[0m Trial 389 finished with value: 0.8237934904601572 and parameters: {'classifier': 'RandomForest', 'rf_n_estimators': 200, 'rf_max_depth': 8}. Best is trial 237 with value: 0.8338945005611672.\u001b[0m\n",
      "\u001b[32m[I 2021-12-20 16:48:30,370]\u001b[0m Trial 390 finished with value: 0.8080808080808081 and parameters: {'classifier': 'RandomForest', 'rf_n_estimators': 244, 'rf_max_depth': 28}. Best is trial 237 with value: 0.8338945005611672.\u001b[0m\n",
      "\u001b[32m[I 2021-12-20 16:48:30,798]\u001b[0m Trial 391 finished with value: 0.8249158249158248 and parameters: {'classifier': 'RandomForest', 'rf_n_estimators': 199, 'rf_max_depth': 5}. Best is trial 237 with value: 0.8338945005611672.\u001b[0m\n",
      "\u001b[32m[I 2021-12-20 16:48:31,880]\u001b[0m Trial 392 finished with value: 0.8237934904601572 and parameters: {'classifier': 'RandomForest', 'rf_n_estimators': 497, 'rf_max_depth': 7}. Best is trial 237 with value: 0.8338945005611672.\u001b[0m\n",
      "\u001b[32m[I 2021-12-20 16:48:33,785]\u001b[0m Trial 393 finished with value: 0.8237934904601572 and parameters: {'classifier': 'RandomForest', 'rf_n_estimators': 963, 'rf_max_depth': 3}. Best is trial 237 with value: 0.8338945005611672.\u001b[0m\n",
      "\u001b[32m[I 2021-12-20 16:48:34,212]\u001b[0m Trial 394 finished with value: 0.8226711560044894 and parameters: {'classifier': 'RandomForest', 'rf_n_estimators': 185, 'rf_max_depth': 6}. Best is trial 237 with value: 0.8338945005611672.\u001b[0m\n",
      "\u001b[32m[I 2021-12-20 16:48:35,919]\u001b[0m Trial 395 finished with value: 0.8294051627384961 and parameters: {'classifier': 'RandomForest', 'rf_n_estimators': 817, 'rf_max_depth': 4}. Best is trial 237 with value: 0.8338945005611672.\u001b[0m\n"
     ]
    },
    {
     "name": "stderr",
     "output_type": "stream",
     "text": [
      "\u001b[32m[I 2021-12-20 16:48:35,959]\u001b[0m Trial 396 finished with value: 0.7059483726150392 and parameters: {'classifier': 'LogReg', 'logreg_c': 0.0008095253054812608}. Best is trial 237 with value: 0.8338945005611672.\u001b[0m\n",
      "\u001b[32m[I 2021-12-20 16:48:37,165]\u001b[0m Trial 397 finished with value: 0.8294051627384961 and parameters: {'classifier': 'RandomForest', 'rf_n_estimators': 551, 'rf_max_depth': 6}. Best is trial 237 with value: 0.8338945005611672.\u001b[0m\n",
      "\u001b[32m[I 2021-12-20 16:48:39,312]\u001b[0m Trial 398 finished with value: 0.8114478114478114 and parameters: {'classifier': 'RandomForest', 'rf_n_estimators': 905, 'rf_max_depth': 17}. Best is trial 237 with value: 0.8338945005611672.\u001b[0m\n",
      "\u001b[32m[I 2021-12-20 16:48:39,598]\u001b[0m Trial 399 finished with value: 0.8316498316498316 and parameters: {'classifier': 'RandomForest', 'rf_n_estimators': 123, 'rf_max_depth': 4}. Best is trial 237 with value: 0.8338945005611672.\u001b[0m\n",
      "\u001b[32m[I 2021-12-20 16:48:39,855]\u001b[0m Trial 400 finished with value: 0.8282828282828283 and parameters: {'classifier': 'RandomForest', 'rf_n_estimators': 110, 'rf_max_depth': 4}. Best is trial 237 with value: 0.8338945005611672.\u001b[0m\n",
      "\u001b[32m[I 2021-12-20 16:48:40,127]\u001b[0m Trial 401 finished with value: 0.8282828282828283 and parameters: {'classifier': 'RandomForest', 'rf_n_estimators': 123, 'rf_max_depth': 4}. Best is trial 237 with value: 0.8338945005611672.\u001b[0m\n",
      "\u001b[32m[I 2021-12-20 16:48:40,695]\u001b[0m Trial 402 finished with value: 0.8260381593714926 and parameters: {'classifier': 'RandomForest', 'rf_n_estimators': 272, 'rf_max_depth': 4}. Best is trial 237 with value: 0.8338945005611672.\u001b[0m\n",
      "\u001b[32m[I 2021-12-20 16:48:42,456]\u001b[0m Trial 403 finished with value: 0.8316498316498316 and parameters: {'classifier': 'RandomForest', 'rf_n_estimators': 846, 'rf_max_depth': 4}. Best is trial 237 with value: 0.8338945005611672.\u001b[0m\n",
      "\u001b[32m[I 2021-12-20 16:48:42,679]\u001b[0m Trial 404 finished with value: 0.8103254769921436 and parameters: {'classifier': 'RandomForest', 'rf_n_estimators': 97, 'rf_max_depth': 2}. Best is trial 237 with value: 0.8338945005611672.\u001b[0m\n",
      "\u001b[32m[I 2021-12-20 16:48:44,653]\u001b[0m Trial 405 finished with value: 0.8136924803591471 and parameters: {'classifier': 'RandomForest', 'rf_n_estimators': 860, 'rf_max_depth': 14}. Best is trial 237 with value: 0.8338945005611672.\u001b[0m\n",
      "\u001b[32m[I 2021-12-20 16:48:46,296]\u001b[0m Trial 406 finished with value: 0.8271604938271605 and parameters: {'classifier': 'RandomForest', 'rf_n_estimators': 835, 'rf_max_depth': 4}. Best is trial 237 with value: 0.8338945005611672.\u001b[0m\n",
      "\u001b[32m[I 2021-12-20 16:48:48,087]\u001b[0m Trial 407 finished with value: 0.8294051627384961 and parameters: {'classifier': 'RandomForest', 'rf_n_estimators': 858, 'rf_max_depth': 4}. Best is trial 237 with value: 0.8338945005611672.\u001b[0m\n",
      "\u001b[32m[I 2021-12-20 16:48:48,505]\u001b[0m Trial 408 finished with value: 0.8260381593714926 and parameters: {'classifier': 'RandomForest', 'rf_n_estimators': 178, 'rf_max_depth': 5}. Best is trial 237 with value: 0.8338945005611672.\u001b[0m\n",
      "\u001b[32m[I 2021-12-20 16:48:48,842]\u001b[0m Trial 409 finished with value: 0.8305274971941637 and parameters: {'classifier': 'RandomForest', 'rf_n_estimators': 155, 'rf_max_depth': 4}. Best is trial 237 with value: 0.8338945005611672.\u001b[0m\n",
      "\u001b[32m[I 2021-12-20 16:48:49,346]\u001b[0m Trial 410 finished with value: 0.8260381593714928 and parameters: {'classifier': 'RandomForest', 'rf_n_estimators': 212, 'rf_max_depth': 7}. Best is trial 237 with value: 0.8338945005611672.\u001b[0m\n",
      "\u001b[32m[I 2021-12-20 16:48:49,868]\u001b[0m Trial 411 finished with value: 0.8282828282828283 and parameters: {'classifier': 'RandomForest', 'rf_n_estimators': 234, 'rf_max_depth': 6}. Best is trial 237 with value: 0.8338945005611672.\u001b[0m\n",
      "\u001b[32m[I 2021-12-20 16:48:51,513]\u001b[0m Trial 412 finished with value: 0.829405162738496 and parameters: {'classifier': 'RandomForest', 'rf_n_estimators': 845, 'rf_max_depth': 4}. Best is trial 237 with value: 0.8338945005611672.\u001b[0m\n",
      "\u001b[32m[I 2021-12-20 16:48:53,222]\u001b[0m Trial 413 finished with value: 0.8282828282828283 and parameters: {'classifier': 'RandomForest', 'rf_n_estimators': 820, 'rf_max_depth': 4}. Best is trial 237 with value: 0.8338945005611672.\u001b[0m\n",
      "\u001b[32m[I 2021-12-20 16:48:54,917]\u001b[0m Trial 414 finished with value: 0.8204264870931537 and parameters: {'classifier': 'RandomForest', 'rf_n_estimators': 791, 'rf_max_depth': 3}. Best is trial 237 with value: 0.8338945005611672.\u001b[0m\n",
      "\u001b[32m[I 2021-12-20 16:48:56,680]\u001b[0m Trial 415 finished with value: 0.8271604938271605 and parameters: {'classifier': 'RandomForest', 'rf_n_estimators': 879, 'rf_max_depth': 4}. Best is trial 237 with value: 0.8338945005611672.\u001b[0m\n",
      "\u001b[32m[I 2021-12-20 16:48:56,748]\u001b[0m Trial 416 finished with value: 0.7957351290684623 and parameters: {'classifier': 'LogReg', 'logreg_c': 577.2471404166432}. Best is trial 237 with value: 0.8338945005611672.\u001b[0m\n",
      "\u001b[32m[I 2021-12-20 16:48:57,048]\u001b[0m Trial 417 finished with value: 0.8282828282828283 and parameters: {'classifier': 'RandomForest', 'rf_n_estimators': 138, 'rf_max_depth': 4}. Best is trial 237 with value: 0.8338945005611672.\u001b[0m\n",
      "\u001b[32m[I 2021-12-20 16:48:58,665]\u001b[0m Trial 418 finished with value: 0.8237934904601572 and parameters: {'classifier': 'RandomForest', 'rf_n_estimators': 746, 'rf_max_depth': 8}. Best is trial 237 with value: 0.8338945005611672.\u001b[0m\n",
      "\u001b[32m[I 2021-12-20 16:48:58,835]\u001b[0m Trial 419 finished with value: 0.8294051627384961 and parameters: {'classifier': 'RandomForest', 'rf_n_estimators': 66, 'rf_max_depth': 4}. Best is trial 237 with value: 0.8338945005611672.\u001b[0m\n",
      "\u001b[32m[I 2021-12-20 16:48:59,117]\u001b[0m Trial 420 finished with value: 0.8226711560044894 and parameters: {'classifier': 'RandomForest', 'rf_n_estimators': 121, 'rf_max_depth': 4}. Best is trial 237 with value: 0.8338945005611672.\u001b[0m\n",
      "\u001b[32m[I 2021-12-20 16:48:59,498]\u001b[0m Trial 421 finished with value: 0.8260381593714928 and parameters: {'classifier': 'RandomForest', 'rf_n_estimators': 157, 'rf_max_depth': 5}. Best is trial 237 with value: 0.8338945005611672.\u001b[0m\n",
      "\u001b[32m[I 2021-12-20 16:49:00,965]\u001b[0m Trial 422 finished with value: 0.8294051627384961 and parameters: {'classifier': 'RandomForest', 'rf_n_estimators': 698, 'rf_max_depth': 4}. Best is trial 237 with value: 0.8338945005611672.\u001b[0m\n",
      "\u001b[32m[I 2021-12-20 16:49:01,365]\u001b[0m Trial 423 finished with value: 0.8282828282828283 and parameters: {'classifier': 'RandomForest', 'rf_n_estimators': 149, 'rf_max_depth': 7}. Best is trial 237 with value: 0.8338945005611672.\u001b[0m\n",
      "\u001b[32m[I 2021-12-20 16:49:03,166]\u001b[0m Trial 424 finished with value: 0.8271604938271606 and parameters: {'classifier': 'RandomForest', 'rf_n_estimators': 917, 'rf_max_depth': 4}. Best is trial 237 with value: 0.8338945005611672.\u001b[0m\n",
      "\u001b[32m[I 2021-12-20 16:49:05,103]\u001b[0m Trial 425 finished with value: 0.830527497194164 and parameters: {'classifier': 'RandomForest', 'rf_n_estimators': 979, 'rf_max_depth': 4}. Best is trial 237 with value: 0.8338945005611672.\u001b[0m\n",
      "\u001b[32m[I 2021-12-20 16:49:05,574]\u001b[0m Trial 426 finished with value: 0.8260381593714926 and parameters: {'classifier': 'RandomForest', 'rf_n_estimators': 172, 'rf_max_depth': 7}. Best is trial 237 with value: 0.8338945005611672.\u001b[0m\n",
      "\u001b[32m[I 2021-12-20 16:49:06,691]\u001b[0m Trial 427 finished with value: 0.8282828282828282 and parameters: {'classifier': 'RandomForest', 'rf_n_estimators': 517, 'rf_max_depth': 4}. Best is trial 237 with value: 0.8338945005611672.\u001b[0m\n",
      "\u001b[32m[I 2021-12-20 16:49:06,930]\u001b[0m Trial 428 finished with value: 0.8249158249158249 and parameters: {'classifier': 'RandomForest', 'rf_n_estimators': 101, 'rf_max_depth': 4}. Best is trial 237 with value: 0.8338945005611672.\u001b[0m\n",
      "\u001b[32m[I 2021-12-20 16:49:08,593]\u001b[0m Trial 429 finished with value: 0.8282828282828283 and parameters: {'classifier': 'RandomForest', 'rf_n_estimators': 842, 'rf_max_depth': 4}. Best is trial 237 with value: 0.8338945005611672.\u001b[0m\n",
      "\u001b[32m[I 2021-12-20 16:49:10,283]\u001b[0m Trial 430 finished with value: 0.8237934904601572 and parameters: {'classifier': 'RandomForest', 'rf_n_estimators': 801, 'rf_max_depth': 5}. Best is trial 237 with value: 0.8338945005611672.\u001b[0m\n",
      "\u001b[32m[I 2021-12-20 16:49:10,616]\u001b[0m Trial 431 finished with value: 0.8282828282828283 and parameters: {'classifier': 'RandomForest', 'rf_n_estimators': 135, 'rf_max_depth': 6}. Best is trial 237 with value: 0.8338945005611672.\u001b[0m\n"
     ]
    },
    {
     "name": "stderr",
     "output_type": "stream",
     "text": [
      "\u001b[32m[I 2021-12-20 16:49:12,726]\u001b[0m Trial 432 finished with value: 0.8282828282828283 and parameters: {'classifier': 'RandomForest', 'rf_n_estimators': 984, 'rf_max_depth': 4}. Best is trial 237 with value: 0.8338945005611672.\u001b[0m\n",
      "\u001b[32m[I 2021-12-20 16:49:14,708]\u001b[0m Trial 433 finished with value: 0.830527497194164 and parameters: {'classifier': 'RandomForest', 'rf_n_estimators': 988, 'rf_max_depth': 4}. Best is trial 237 with value: 0.8338945005611672.\u001b[0m\n",
      "\u001b[32m[I 2021-12-20 16:49:14,929]\u001b[0m Trial 434 finished with value: 0.8181818181818182 and parameters: {'classifier': 'RandomForest', 'rf_n_estimators': 84, 'rf_max_depth': 7}. Best is trial 237 with value: 0.8338945005611672.\u001b[0m\n",
      "\u001b[32m[I 2021-12-20 16:49:15,362]\u001b[0m Trial 435 finished with value: 0.8327721661054994 and parameters: {'classifier': 'RandomForest', 'rf_n_estimators': 196, 'rf_max_depth': 5}. Best is trial 237 with value: 0.8338945005611672.\u001b[0m\n",
      "\u001b[32m[I 2021-12-20 16:49:15,416]\u001b[0m Trial 436 finished with value: 0.7968574635241302 and parameters: {'classifier': 'LogReg', 'logreg_c': 0.04371018392912252}. Best is trial 237 with value: 0.8338945005611672.\u001b[0m\n",
      "\u001b[32m[I 2021-12-20 16:49:17,452]\u001b[0m Trial 437 finished with value: 0.8271604938271605 and parameters: {'classifier': 'RandomForest', 'rf_n_estimators': 985, 'rf_max_depth': 5}. Best is trial 237 with value: 0.8338945005611672.\u001b[0m\n",
      "\u001b[32m[I 2021-12-20 16:49:18,172]\u001b[0m Trial 438 finished with value: 0.8271604938271605 and parameters: {'classifier': 'RandomForest', 'rf_n_estimators': 309, 'rf_max_depth': 5}. Best is trial 237 with value: 0.8338945005611672.\u001b[0m\n",
      "\u001b[32m[I 2021-12-20 16:49:18,650]\u001b[0m Trial 439 finished with value: 0.8170594837261506 and parameters: {'classifier': 'RandomForest', 'rf_n_estimators': 191, 'rf_max_depth': 8}. Best is trial 237 with value: 0.8338945005611672.\u001b[0m\n",
      "\u001b[32m[I 2021-12-20 16:49:19,141]\u001b[0m Trial 440 finished with value: 0.8249158249158249 and parameters: {'classifier': 'RandomForest', 'rf_n_estimators': 216, 'rf_max_depth': 6}. Best is trial 237 with value: 0.8338945005611672.\u001b[0m\n",
      "\u001b[32m[I 2021-12-20 16:49:19,498]\u001b[0m Trial 441 finished with value: 0.8215488215488215 and parameters: {'classifier': 'RandomForest', 'rf_n_estimators': 173, 'rf_max_depth': 4}. Best is trial 237 with value: 0.8338945005611672.\u001b[0m\n",
      "\u001b[32m[I 2021-12-20 16:49:19,916]\u001b[0m Trial 442 finished with value: 0.8271604938271605 and parameters: {'classifier': 'RandomForest', 'rf_n_estimators': 193, 'rf_max_depth': 4}. Best is trial 237 with value: 0.8338945005611672.\u001b[0m\n",
      "\u001b[32m[I 2021-12-20 16:49:22,472]\u001b[0m Trial 443 finished with value: 0.8282828282828283 and parameters: {'classifier': 'RandomForest', 'rf_n_estimators': 947, 'rf_max_depth': 6}. Best is trial 237 with value: 0.8338945005611672.\u001b[0m\n",
      "\u001b[32m[I 2021-12-20 16:49:22,997]\u001b[0m Trial 444 finished with value: 0.8237934904601572 and parameters: {'classifier': 'RandomForest', 'rf_n_estimators': 262, 'rf_max_depth': 5}. Best is trial 237 with value: 0.8338945005611672.\u001b[0m\n",
      "\u001b[32m[I 2021-12-20 16:49:24,973]\u001b[0m Trial 445 finished with value: 0.8294051627384961 and parameters: {'classifier': 'RandomForest', 'rf_n_estimators': 953, 'rf_max_depth': 4}. Best is trial 237 with value: 0.8338945005611672.\u001b[0m\n",
      "\u001b[32m[I 2021-12-20 16:49:25,448]\u001b[0m Trial 446 finished with value: 0.8271604938271605 and parameters: {'classifier': 'RandomForest', 'rf_n_estimators': 204, 'rf_max_depth': 6}. Best is trial 237 with value: 0.8338945005611672.\u001b[0m\n",
      "\u001b[32m[I 2021-12-20 16:49:27,493]\u001b[0m Trial 447 finished with value: 0.8282828282828283 and parameters: {'classifier': 'RandomForest', 'rf_n_estimators': 993, 'rf_max_depth': 5}. Best is trial 237 with value: 0.8338945005611672.\u001b[0m\n",
      "\u001b[32m[I 2021-12-20 16:49:27,796]\u001b[0m Trial 448 finished with value: 0.8226711560044894 and parameters: {'classifier': 'RandomForest', 'rf_n_estimators': 133, 'rf_max_depth': 7}. Best is trial 237 with value: 0.8338945005611672.\u001b[0m\n",
      "\u001b[32m[I 2021-12-20 16:49:28,065]\u001b[0m Trial 449 finished with value: 0.830527497194164 and parameters: {'classifier': 'RandomForest', 'rf_n_estimators': 116, 'rf_max_depth': 4}. Best is trial 237 with value: 0.8338945005611672.\u001b[0m\n",
      "\u001b[32m[I 2021-12-20 16:49:29,834]\u001b[0m Trial 450 finished with value: 0.8260381593714928 and parameters: {'classifier': 'RandomForest', 'rf_n_estimators': 812, 'rf_max_depth': 5}. Best is trial 237 with value: 0.8338945005611672.\u001b[0m\n",
      "\u001b[32m[I 2021-12-20 16:49:31,546]\u001b[0m Trial 451 finished with value: 0.8271604938271605 and parameters: {'classifier': 'RandomForest', 'rf_n_estimators': 855, 'rf_max_depth': 4}. Best is trial 237 with value: 0.8338945005611672.\u001b[0m\n",
      "\u001b[32m[I 2021-12-20 16:49:33,381]\u001b[0m Trial 452 finished with value: 0.8226711560044894 and parameters: {'classifier': 'RandomForest', 'rf_n_estimators': 957, 'rf_max_depth': 3}. Best is trial 237 with value: 0.8338945005611672.\u001b[0m\n",
      "\u001b[32m[I 2021-12-20 16:49:33,863]\u001b[0m Trial 453 finished with value: 0.8260381593714926 and parameters: {'classifier': 'RandomForest', 'rf_n_estimators': 231, 'rf_max_depth': 4}. Best is trial 237 with value: 0.8338945005611672.\u001b[0m\n",
      "\u001b[32m[I 2021-12-20 16:49:34,048]\u001b[0m Trial 454 finished with value: 0.8249158249158249 and parameters: {'classifier': 'RandomForest', 'rf_n_estimators': 77, 'rf_max_depth': 4}. Best is trial 237 with value: 0.8338945005611672.\u001b[0m\n",
      "\u001b[32m[I 2021-12-20 16:49:34,364]\u001b[0m Trial 455 finished with value: 0.8226711560044894 and parameters: {'classifier': 'RandomForest', 'rf_n_estimators': 120, 'rf_max_depth': 8}. Best is trial 237 with value: 0.8338945005611672.\u001b[0m\n",
      "\u001b[32m[I 2021-12-20 16:49:34,715]\u001b[0m Trial 456 finished with value: 0.8237934904601572 and parameters: {'classifier': 'RandomForest', 'rf_n_estimators': 150, 'rf_max_depth': 7}. Best is trial 237 with value: 0.8338945005611672.\u001b[0m\n",
      "\u001b[32m[I 2021-12-20 16:49:34,782]\u001b[0m Trial 457 finished with value: 0.7957351290684623 and parameters: {'classifier': 'LogReg', 'logreg_c': 66112.50940088704}. Best is trial 237 with value: 0.8338945005611672.\u001b[0m\n",
      "\u001b[32m[I 2021-12-20 16:49:36,729]\u001b[0m Trial 458 finished with value: 0.8260381593714926 and parameters: {'classifier': 'RandomForest', 'rf_n_estimators': 941, 'rf_max_depth': 4}. Best is trial 237 with value: 0.8338945005611672.\u001b[0m\n",
      "\u001b[32m[I 2021-12-20 16:49:37,512]\u001b[0m Trial 459 finished with value: 0.8305274971941637 and parameters: {'classifier': 'RandomForest', 'rf_n_estimators': 371, 'rf_max_depth': 6}. Best is trial 237 with value: 0.8338945005611672.\u001b[0m\n",
      "\u001b[32m[I 2021-12-20 16:49:37,777]\u001b[0m Trial 460 finished with value: 0.8327721661054994 and parameters: {'classifier': 'RandomForest', 'rf_n_estimators': 108, 'rf_max_depth': 6}. Best is trial 237 with value: 0.8338945005611672.\u001b[0m\n",
      "\u001b[32m[I 2021-12-20 16:49:38,034]\u001b[0m Trial 461 finished with value: 0.8114478114478114 and parameters: {'classifier': 'RandomForest', 'rf_n_estimators': 102, 'rf_max_depth': 23}. Best is trial 237 with value: 0.8338945005611672.\u001b[0m\n",
      "\u001b[32m[I 2021-12-20 16:49:38,147]\u001b[0m Trial 462 finished with value: 0.8260381593714926 and parameters: {'classifier': 'RandomForest', 'rf_n_estimators': 38, 'rf_max_depth': 5}. Best is trial 237 with value: 0.8338945005611672.\u001b[0m\n",
      "\u001b[32m[I 2021-12-20 16:49:38,415]\u001b[0m Trial 463 finished with value: 0.8226711560044894 and parameters: {'classifier': 'RandomForest', 'rf_n_estimators': 116, 'rf_max_depth': 7}. Best is trial 237 with value: 0.8338945005611672.\u001b[0m\n",
      "\u001b[32m[I 2021-12-20 16:49:38,812]\u001b[0m Trial 464 finished with value: 0.8294051627384961 and parameters: {'classifier': 'RandomForest', 'rf_n_estimators': 168, 'rf_max_depth': 6}. Best is trial 237 with value: 0.8338945005611672.\u001b[0m\n",
      "\u001b[32m[I 2021-12-20 16:49:38,965]\u001b[0m Trial 465 finished with value: 0.8226711560044894 and parameters: {'classifier': 'RandomForest', 'rf_n_estimators': 58, 'rf_max_depth': 6}. Best is trial 237 with value: 0.8338945005611672.\u001b[0m\n",
      "\u001b[32m[I 2021-12-20 16:49:39,565]\u001b[0m Trial 466 finished with value: 0.8013468013468014 and parameters: {'classifier': 'RandomForest', 'rf_n_estimators': 245, 'rf_max_depth': 25}. Best is trial 237 with value: 0.8338945005611672.\u001b[0m\n",
      "\u001b[32m[I 2021-12-20 16:49:40,446]\u001b[0m Trial 467 finished with value: 0.8260381593714928 and parameters: {'classifier': 'RandomForest', 'rf_n_estimators': 406, 'rf_max_depth': 7}. Best is trial 237 with value: 0.8338945005611672.\u001b[0m\n"
     ]
    },
    {
     "name": "stderr",
     "output_type": "stream",
     "text": [
      "\u001b[32m[I 2021-12-20 16:49:40,682]\u001b[0m Trial 468 finished with value: 0.8204264870931537 and parameters: {'classifier': 'RandomForest', 'rf_n_estimators': 91, 'rf_max_depth': 5}. Best is trial 237 with value: 0.8338945005611672.\u001b[0m\n",
      "\u001b[32m[I 2021-12-20 16:49:41,104]\u001b[0m Trial 469 finished with value: 0.8294051627384961 and parameters: {'classifier': 'RandomForest', 'rf_n_estimators': 153, 'rf_max_depth': 6}. Best is trial 237 with value: 0.8338945005611672.\u001b[0m\n",
      "\u001b[32m[I 2021-12-20 16:49:41,509]\u001b[0m Trial 470 finished with value: 0.8237934904601572 and parameters: {'classifier': 'RandomForest', 'rf_n_estimators': 134, 'rf_max_depth': 6}. Best is trial 237 with value: 0.8338945005611672.\u001b[0m\n",
      "\u001b[32m[I 2021-12-20 16:49:41,876]\u001b[0m Trial 471 finished with value: 0.8114478114478114 and parameters: {'classifier': 'RandomForest', 'rf_n_estimators': 108, 'rf_max_depth': 31}. Best is trial 237 with value: 0.8338945005611672.\u001b[0m\n",
      "\u001b[32m[I 2021-12-20 16:49:42,412]\u001b[0m Trial 472 finished with value: 0.8260381593714926 and parameters: {'classifier': 'RandomForest', 'rf_n_estimators': 184, 'rf_max_depth': 7}. Best is trial 237 with value: 0.8338945005611672.\u001b[0m\n",
      "\u001b[32m[I 2021-12-20 16:49:44,228]\u001b[0m Trial 473 finished with value: 0.8282828282828283 and parameters: {'classifier': 'RandomForest', 'rf_n_estimators': 913, 'rf_max_depth': 4}. Best is trial 237 with value: 0.8338945005611672.\u001b[0m\n",
      "\u001b[32m[I 2021-12-20 16:49:45,414]\u001b[0m Trial 474 finished with value: 0.8316498316498316 and parameters: {'classifier': 'RandomForest', 'rf_n_estimators': 600, 'rf_max_depth': 4}. Best is trial 237 with value: 0.8338945005611672.\u001b[0m\n",
      "\u001b[32m[I 2021-12-20 16:49:45,464]\u001b[0m Trial 475 finished with value: 0.7957351290684623 and parameters: {'classifier': 'LogReg', 'logreg_c': 2379.7349036773867}. Best is trial 237 with value: 0.8338945005611672.\u001b[0m\n",
      "\u001b[32m[I 2021-12-20 16:49:45,676]\u001b[0m Trial 476 finished with value: 0.8327721661054994 and parameters: {'classifier': 'RandomForest', 'rf_n_estimators': 79, 'rf_max_depth': 6}. Best is trial 237 with value: 0.8338945005611672.\u001b[0m\n",
      "\u001b[32m[I 2021-12-20 16:49:45,885]\u001b[0m Trial 477 finished with value: 0.8271604938271605 and parameters: {'classifier': 'RandomForest', 'rf_n_estimators': 75, 'rf_max_depth': 6}. Best is trial 237 with value: 0.8338945005611672.\u001b[0m\n",
      "\u001b[32m[I 2021-12-20 16:49:46,028]\u001b[0m Trial 478 finished with value: 0.8260381593714928 and parameters: {'classifier': 'RandomForest', 'rf_n_estimators': 58, 'rf_max_depth': 4}. Best is trial 237 with value: 0.8338945005611672.\u001b[0m\n",
      "\u001b[32m[I 2021-12-20 16:49:46,198]\u001b[0m Trial 479 finished with value: 0.8226711560044894 and parameters: {'classifier': 'RandomForest', 'rf_n_estimators': 74, 'rf_max_depth': 4}. Best is trial 237 with value: 0.8338945005611672.\u001b[0m\n",
      "\u001b[32m[I 2021-12-20 16:49:46,332]\u001b[0m Trial 480 finished with value: 0.8237934904601572 and parameters: {'classifier': 'RandomForest', 'rf_n_estimators': 45, 'rf_max_depth': 5}. Best is trial 237 with value: 0.8338945005611672.\u001b[0m\n",
      "\u001b[32m[I 2021-12-20 16:49:48,353]\u001b[0m Trial 481 finished with value: 0.8282828282828283 and parameters: {'classifier': 'RandomForest', 'rf_n_estimators': 970, 'rf_max_depth': 4}. Best is trial 237 with value: 0.8338945005611672.\u001b[0m\n",
      "\u001b[32m[I 2021-12-20 16:49:48,426]\u001b[0m Trial 482 finished with value: 0.8148148148148149 and parameters: {'classifier': 'RandomForest', 'rf_n_estimators': 13, 'rf_max_depth': 7}. Best is trial 237 with value: 0.8338945005611672.\u001b[0m\n",
      "\u001b[32m[I 2021-12-20 16:49:48,662]\u001b[0m Trial 483 finished with value: 0.8282828282828283 and parameters: {'classifier': 'RandomForest', 'rf_n_estimators': 98, 'rf_max_depth': 4}. Best is trial 237 with value: 0.8338945005611672.\u001b[0m\n",
      "\u001b[32m[I 2021-12-20 16:49:48,873]\u001b[0m Trial 484 finished with value: 0.8271604938271605 and parameters: {'classifier': 'RandomForest', 'rf_n_estimators': 90, 'rf_max_depth': 4}. Best is trial 237 with value: 0.8338945005611672.\u001b[0m\n",
      "\u001b[32m[I 2021-12-20 16:49:50,648]\u001b[0m Trial 485 finished with value: 0.8282828282828283 and parameters: {'classifier': 'RandomForest', 'rf_n_estimators': 879, 'rf_max_depth': 4}. Best is trial 237 with value: 0.8338945005611672.\u001b[0m\n",
      "\u001b[32m[I 2021-12-20 16:49:50,997]\u001b[0m Trial 486 finished with value: 0.8294051627384961 and parameters: {'classifier': 'RandomForest', 'rf_n_estimators': 164, 'rf_max_depth': 4}. Best is trial 237 with value: 0.8338945005611672.\u001b[0m\n",
      "\u001b[32m[I 2021-12-20 16:49:52,214]\u001b[0m Trial 487 finished with value: 0.8294051627384961 and parameters: {'classifier': 'RandomForest', 'rf_n_estimators': 579, 'rf_max_depth': 6}. Best is trial 237 with value: 0.8338945005611672.\u001b[0m\n",
      "\u001b[32m[I 2021-12-20 16:49:52,515]\u001b[0m Trial 488 finished with value: 0.8237934904601572 and parameters: {'classifier': 'RandomForest', 'rf_n_estimators': 120, 'rf_max_depth': 7}. Best is trial 237 with value: 0.8338945005611672.\u001b[0m\n",
      "\u001b[32m[I 2021-12-20 16:49:52,816]\u001b[0m Trial 489 finished with value: 0.8282828282828284 and parameters: {'classifier': 'RandomForest', 'rf_n_estimators': 124, 'rf_max_depth': 6}. Best is trial 237 with value: 0.8338945005611672.\u001b[0m\n",
      "\u001b[32m[I 2021-12-20 16:49:53,287]\u001b[0m Trial 490 finished with value: 0.8271604938271605 and parameters: {'classifier': 'RandomForest', 'rf_n_estimators': 195, 'rf_max_depth': 6}. Best is trial 237 with value: 0.8338945005611672.\u001b[0m\n",
      "\u001b[32m[I 2021-12-20 16:49:53,642]\u001b[0m Trial 491 finished with value: 0.8271604938271605 and parameters: {'classifier': 'RandomForest', 'rf_n_estimators': 142, 'rf_max_depth': 6}. Best is trial 237 with value: 0.8338945005611672.\u001b[0m\n",
      "\u001b[32m[I 2021-12-20 16:49:54,060]\u001b[0m Trial 492 finished with value: 0.8237934904601572 and parameters: {'classifier': 'RandomForest', 'rf_n_estimators': 165, 'rf_max_depth': 6}. Best is trial 237 with value: 0.8338945005611672.\u001b[0m\n",
      "\u001b[32m[I 2021-12-20 16:49:55,263]\u001b[0m Trial 493 finished with value: 0.8181818181818182 and parameters: {'classifier': 'RandomForest', 'rf_n_estimators': 548, 'rf_max_depth': 8}. Best is trial 237 with value: 0.8338945005611672.\u001b[0m\n",
      "\u001b[32m[I 2021-12-20 16:49:56,385]\u001b[0m Trial 494 finished with value: 0.819304152637486 and parameters: {'classifier': 'RandomForest', 'rf_n_estimators': 487, 'rf_max_depth': 9}. Best is trial 237 with value: 0.8338945005611672.\u001b[0m\n",
      "\u001b[32m[I 2021-12-20 16:49:57,464]\u001b[0m Trial 495 finished with value: 0.8260381593714928 and parameters: {'classifier': 'RandomForest', 'rf_n_estimators': 511, 'rf_max_depth': 5}. Best is trial 237 with value: 0.8338945005611672.\u001b[0m\n",
      "\u001b[32m[I 2021-12-20 16:49:58,730]\u001b[0m Trial 496 finished with value: 0.8282828282828283 and parameters: {'classifier': 'RandomForest', 'rf_n_estimators': 597, 'rf_max_depth': 5}. Best is trial 237 with value: 0.8338945005611672.\u001b[0m\n",
      "\u001b[32m[I 2021-12-20 16:50:00,260]\u001b[0m Trial 497 finished with value: 0.8271604938271605 and parameters: {'classifier': 'RandomForest', 'rf_n_estimators': 633, 'rf_max_depth': 5}. Best is trial 237 with value: 0.8338945005611672.\u001b[0m\n",
      "\u001b[32m[I 2021-12-20 16:50:00,328]\u001b[0m Trial 498 finished with value: 0.7957351290684623 and parameters: {'classifier': 'LogReg', 'logreg_c': 10.870489649151947}. Best is trial 237 with value: 0.8338945005611672.\u001b[0m\n",
      "\u001b[32m[I 2021-12-20 16:50:00,881]\u001b[0m Trial 499 finished with value: 0.8249158249158249 and parameters: {'classifier': 'RandomForest', 'rf_n_estimators': 210, 'rf_max_depth': 7}. Best is trial 237 with value: 0.8338945005611672.\u001b[0m\n"
     ]
    }
   ],
   "source": [
    "#Step 1. Define an objective function to be maximized.\n",
    "def objective(trial):\n",
    "\n",
    "    classifier_name = trial.suggest_categorical(\"classifier\", [\"LogReg\", \"RandomForest\"])\n",
    "    \n",
    "    # Step 2. Setup values for the hyperparameters:\n",
    "    if classifier_name == 'LogReg':\n",
    "        logreg_c = trial.suggest_float(\"logreg_c\", 1e-10, 1e10, log=True)\n",
    "        classifier_obj = linear_model.LogisticRegression(C=logreg_c)\n",
    "    else:\n",
    "        rf_n_estimators = trial.suggest_int(\"rf_n_estimators\", 10, 1000)\n",
    "        rf_max_depth = trial.suggest_int(\"rf_max_depth\", 2, 32, log=True)\n",
    "        classifier_obj = ensemble.RandomForestClassifier(\n",
    "            max_depth=rf_max_depth, n_estimators=rf_n_estimators\n",
    "        )\n",
    "\n",
    "    # Step 3: Scoring method:\n",
    "    score = model_selection.cross_val_score(classifier_obj, X_train, Y_train, n_jobs=-1, cv=3)\n",
    "    accuracy = score.mean()\n",
    "    return accuracy\n",
    "\n",
    "# Step 4: Running it\n",
    "study = optuna.create_study(direction=\"maximize\")\n",
    "study.optimize(objective, n_trials=500)"
   ]
  },
  {
   "cell_type": "code",
   "execution_count": 44,
   "id": "f750f6b3",
   "metadata": {},
   "outputs": [
    {
     "name": "stdout",
     "output_type": "stream",
     "text": [
      "The best trial is : \n",
      "FrozenTrial(number=237, values=[0.8338945005611672], datetime_start=datetime.datetime(2021, 12, 20, 16, 46, 38, 648310), datetime_complete=datetime.datetime(2021, 12, 20, 16, 46, 38, 968015), params={'classifier': 'RandomForest', 'rf_n_estimators': 146, 'rf_max_depth': 6}, distributions={'classifier': CategoricalDistribution(choices=('LogReg', 'RandomForest')), 'rf_n_estimators': IntUniformDistribution(high=1000, low=10, step=1), 'rf_max_depth': IntLogUniformDistribution(high=32, low=2, step=1)}, user_attrs={}, system_attrs={}, intermediate_values={}, trial_id=237, state=TrialState.COMPLETE, value=None)\n",
      "The best value is : \n",
      "0.8338945005611672\n",
      "The best parameters are : \n",
      "{'classifier': 'RandomForest', 'rf_n_estimators': 146, 'rf_max_depth': 6}\n"
     ]
    }
   ],
   "source": [
    "# Getting the best trial:\n",
    "print(f\"The best trial is : \\n{study.best_trial}\")\n",
    "\n",
    "# Getting the best score:\n",
    "print(f\"The best value is : \\n{study.best_value}\")\n",
    "\n",
    "# Getting the best parameters:\n",
    "print(f\"The best parameters are : \\n{study.best_params}\")\n"
   ]
  },
  {
   "cell_type": "code",
   "execution_count": 45,
   "id": "230cc656",
   "metadata": {},
   "outputs": [
    {
     "name": "stdout",
     "output_type": "stream",
     "text": [
      "83.84 %\n"
     ]
    }
   ],
   "source": [
    "# Random Forest\n",
    "\n",
    "random_forest = RandomForestClassifier(n_estimators=645, max_depth=4, oob_score = True)\n",
    "random_forest.fit(X_train, Y_train)\n",
    "Y_prediction = random_forest.predict(X_test)\n",
    "\n",
    "random_forest.score(X_train, Y_train)\n",
    "\n",
    "acc_random_forest = round(random_forest.score(X_train, Y_train) * 100, 2)\n",
    "print(round(acc_random_forest,2,), \"%\")"
   ]
  },
  {
   "cell_type": "code",
   "execution_count": null,
   "id": "e56af0a0",
   "metadata": {},
   "outputs": [],
   "source": []
  }
 ],
 "metadata": {
  "kernelspec": {
   "display_name": "Python 3 (ipykernel)",
   "language": "python",
   "name": "python3"
  },
  "language_info": {
   "codemirror_mode": {
    "name": "ipython",
    "version": 3
   },
   "file_extension": ".py",
   "mimetype": "text/x-python",
   "name": "python",
   "nbconvert_exporter": "python",
   "pygments_lexer": "ipython3",
   "version": "3.8.8"
  }
 },
 "nbformat": 4,
 "nbformat_minor": 5
}
